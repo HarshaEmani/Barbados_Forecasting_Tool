{
 "cells": [
  {
   "cell_type": "code",
   "execution_count": 2,
   "metadata": {},
   "outputs": [],
   "source": [
    "import pytz\n",
    "from datetime import datetime\n",
    "import pandas as pd\n",
    "import numpy as np\n",
    "import os\n",
    "import plotly.express as px\n",
    "import matplotlib.pyplot as plt\n",
    "from sklearn.preprocessing import MinMaxScaler\n",
    "import keras\n",
    "import pandas as pd\n",
    "from itables import show\n",
    "from keras.models import Sequential # type: ignore\n",
    "from keras.layers import Dense, Input, LSTM, Embedding, SimpleRNN, GRU, Bidirectional, Conv1D, MaxPooling1D, Flatten, Dropout\n",
    "from keras.optimizers import Adam\n",
    "from keras.callbacks import EarlyStopping, ModelCheckpoint, ReduceLROnPlateau\n",
    "from keras.models import load_model\n",
    "from keras.metrics import MeanSquaredError, MeanAbsoluteError, RootMeanSquaredError       \n",
    "from keras.regularizers import l2\n",
    "from sklearn.metrics import mean_squared_error, mean_absolute_error, root_mean_squared_error, mean_absolute_percentage_error\n",
    "import scipy\n",
    "from sklearn.pipeline import Pipeline\n",
    "from sklearn.base import BaseEstimator, TransformerMixin\n",
    "from sktime.transformations.series.holiday import HolidayFeatures\n",
    "from holidays import country_holidays, financial_holidays\n",
    "from sklearn.multioutput import MultiOutputRegressor\n",
    "from lightgbm import LGBMRegressor\n",
    "from sklearn.compose import ColumnTransformer\n",
    "from sklearn.preprocessing import StandardScaler\n",
    "from sklearn.preprocessing import OneHotEncoder\n",
    "from padasip.filters import FilterRLS\n",
    "import pickle\n",
    "from sklearn.model_selection import TimeSeriesSplit\n",
    "np.printoptions(suppress=True)\n",
    "pd.set_option('display.float_format', lambda x: '%.2f' % x)\n",
    "from weather_utils import WeatherUtils\n",
    "import seaborn as sns\n",
    "import holidays\n",
    "pd.set_option('display.max_colwidth', None)\n",
    "pd.set_option('display.width', 1000)\n"
   ]
  },
  {
   "cell_type": "code",
   "execution_count": 3,
   "metadata": {},
   "outputs": [],
   "source": [
    "saved_ann_models_path = './../Saved_Models/ANN_Saved_Models'\n",
    "saved_lstm_models_path = './../Saved_Models/LSTM_Saved_Models'\n",
    "saved_rls_combiner_models_path = './../Saved_Models/RLS_Combiner_Saved_Models'\n",
    "feeders_metadata_path = './../Data/Filtered_Feeders_Metadata/Final_Selected_Feeders_Data_with_Coordinates.csv'\n",
    "feeders_root_path = \"./../Data/Feeder_Data/\"\n",
    "openmeteo_weather_data_path = \"./../Data/Feeder_Weather_Combined_Data/\"\n",
    "filtered_feeders_metadata_file_path = \"../Data/Filtered_Feeders_Metadata/Final_Selected_Feeders_Data_with_Coordinates.csv\"\n",
    "weather_data_path = \"./../Data/Weather_Data/high_resolution_weather_arch_hall.csv\"\n",
    "saved_models_path = \"./../Saved_Models\"\n",
    "saved_results_path = \"./../Data/Results\"\n",
    "train_stats_path = './../Data/Filtered_Feeders_Metadata/Train_Stats'\n",
    "\n",
    "end_train = \"2024-06-16 23:59:59\"\n",
    "end_val = \"2024-06-30 23:59:59\"\n",
    "end_test = \"2024-07-31 23:59:59\"\n",
    "\n",
    "start_train_date = \"2024-01-01\"\n",
    "start_val_date = \"2024-06-17\"\n",
    "start_test_date = \"2024-07-01\"\n",
    "end_train_date = \"2024-06-16\"\n",
    "end_val_date = \"2024-06-30\"\n",
    "end_test_date = \"2024-07-31\"\n",
    "\n",
    "freq = \"h\""
   ]
  },
  {
   "cell_type": "code",
   "execution_count": 4,
   "metadata": {},
   "outputs": [],
   "source": [
    "threshold = 6\n",
    "\n",
    "def remove_first_and_last_days(raw_data):\n",
    "    raw_data = raw_data.copy()\n",
    "    first_day = raw_data.index[0].strftime(\"%Y-%m-%d\")\n",
    "    last_day = raw_data.index[-1].strftime(\"%Y-%m-%d\")\n",
    "    \n",
    "    raw_data = raw_data.drop(raw_data.loc[first_day].index)\n",
    "    raw_data = raw_data.drop(raw_data.loc[last_day].index)\n",
    "    \n",
    "    return raw_data\n",
    "\n",
    "def remove_last_day(raw_data):\n",
    "    raw_data = raw_data.copy()\n",
    "    # first_day = raw_data.index[0].strftime(\"%Y-%m-%d\")\n",
    "    last_day = raw_data.index[-1].strftime(\"%Y-%m-%d\")\n",
    "    \n",
    "    # raw_data = raw_data.drop(raw_data.loc[first_day].index)\n",
    "    raw_data = raw_data.drop(raw_data.loc[last_day].index)\n",
    "    \n",
    "    return raw_data\n",
    "\n",
    "def add_extra_hour_in_beginning(raw_data):\n",
    "    raw_data = raw_data.copy()\n",
    "    first_index = raw_data.index[0]\n",
    "    hour_before_first_index = first_index - pd.Timedelta(hours=1)\n",
    "    hour_before_first_index = pd.Timestamp(hour_before_first_index)\n",
    "    raw_data.loc[hour_before_first_index] = raw_data.loc[first_index]\n",
    "    raw_data = raw_data.sort_index()\n",
    "    \n",
    "    return raw_data\n",
    "\n",
    "def remove_incomplete_days(raw_data):\n",
    "    raw_data = raw_data.copy()\n",
    "    grouped_raw_data = raw_data.groupby(by=raw_data.index.date).count()\n",
    "    incomplete_days = grouped_raw_data[grouped_raw_data != 24].index\n",
    "    raw_data = remove_dates_from_raw_data(raw_data, incomplete_days, \"Removing Incomplete Days\")\n",
    "    \n",
    "    return raw_data\n",
    "\n",
    "# This function assumes that the incoming raw data has a datetime index\n",
    "def preprocess_raw_data(data, column_name):\n",
    "    data = data.copy()\n",
    "    data = add_extra_hour_in_beginning(data)\n",
    "    data = data.resample(rule='h', closed='left', label='right').mean()\n",
    "    data = remove_last_day(data)\n",
    "    data = data[column_name]\n",
    "    filtered_data, nan_values_filtered = remove_nan_days_above_threshold(threshold, data)\n",
    "    filtered_data = filtered_data.interpolate(method='time')\n",
    "    filtered_data = remove_incomplete_days(filtered_data)\n",
    "    \n",
    "    \n",
    "    return filtered_data\n",
    "\n",
    "def remove_dates_from_raw_data(raw_data, dates, comment):\n",
    "    print(f\"{comment} - Total Dropped Days: \", len(dates))    \n",
    "    filtered_data = raw_data.copy()\n",
    "\n",
    "    for date in dates:\n",
    "        date = date.strftime(\"%Y-%m-%d\")\n",
    "        filtered_data = filtered_data.drop(filtered_data.loc[date].index)\n",
    "\n",
    "    return filtered_data\n",
    "\n",
    "def remove_nan_days_above_threshold(threshold, raw_data):\n",
    "    nan_values = raw_data[raw_data.isna()].fillna(0)\n",
    "    nan_values = nan_values.groupby(by=nan_values.index.date).count()\n",
    "    nan_values.index = pd.to_datetime(nan_values.index)\n",
    "    nan_values_filtered = nan_values[nan_values > threshold]\n",
    "    filtered_data = remove_dates_from_raw_data(raw_data, nan_values_filtered.index, \"Removing Nan Values\")\n",
    "    \n",
    "\n",
    "    return filtered_data, nan_values_filtered\n",
    "\n",
    "def remove_space_in_column_names(data):\n",
    "    data.columns = data.columns.str.replace(' ', '_')\n",
    "    return data\n",
    "\n",
    "def get_raw_data_from_path(filepath):\n",
    "    raw_data = pd.read_csv(\n",
    "        filepath,\n",
    "        na_values=[\"\"],\n",
    "        skipinitialspace=True,\n",
    "        index_col='Time',\n",
    "        parse_dates=True,\n",
    "    ).dropna()\n",
    "    \n",
    "    raw_data.index = pd.to_datetime(raw_data.index).tz_localize(None)\n",
    "    raw_data = raw_data[~raw_data.index.duplicated(keep='last')]\n",
    "\n",
    "    return raw_data\n",
    "\n",
    "def minmax_scale(data, min, max):\n",
    "    return (data - min) / (max - min)\n",
    "\n",
    "def minmax_inverse_scale(data, min, max):\n",
    "    return (data * (max - min)) + min\n"
   ]
  },
  {
   "cell_type": "code",
   "execution_count": 5,
   "metadata": {},
   "outputs": [
    {
     "data": {
      "application/vnd.microsoft.datawrangler.viewer.v0+json": {
       "columns": [
        {
         "name": "index",
         "rawType": "datetime64[ns]",
         "type": "datetime"
        },
        {
         "name": "0",
         "rawType": "object",
         "type": "string"
        }
       ],
       "conversionMethod": "pd.DataFrame",
       "ref": "a1643040-aba8-4744-b0d9-2bb5ec6c3512",
       "rows": [
        [
         "2020-01-01 00:00:00",
         "New Year's Day"
        ],
        [
         "2020-01-21 00:00:00",
         "Errol Barrow Day"
        ],
        [
         "2020-04-10 00:00:00",
         "Good Friday"
        ],
        [
         "2020-04-13 00:00:00",
         "Easter Monday"
        ],
        [
         "2020-04-28 00:00:00",
         "National Heroes Day"
        ],
        [
         "2020-05-01 00:00:00",
         "May Day"
        ],
        [
         "2020-06-01 00:00:00",
         "Whit Monday"
        ],
        [
         "2020-08-01 00:00:00",
         "Emancipation Day"
        ],
        [
         "2020-08-03 00:00:00",
         "Kadooment Day"
        ],
        [
         "2020-11-30 00:00:00",
         "Independence Day"
        ],
        [
         "2020-12-25 00:00:00",
         "Christmas Day"
        ],
        [
         "2020-12-26 00:00:00",
         "Boxing Day"
        ],
        [
         "2021-01-01 00:00:00",
         "New Year's Day"
        ],
        [
         "2021-01-21 00:00:00",
         "Errol Barrow Day"
        ],
        [
         "2021-04-02 00:00:00",
         "Good Friday"
        ],
        [
         "2021-04-05 00:00:00",
         "Easter Monday"
        ],
        [
         "2021-04-28 00:00:00",
         "National Heroes Day"
        ],
        [
         "2021-05-01 00:00:00",
         "May Day"
        ],
        [
         "2021-05-24 00:00:00",
         "Whit Monday"
        ],
        [
         "2021-08-01 00:00:00",
         "Emancipation Day"
        ],
        [
         "2021-08-03 00:00:00",
         "Emancipation Day (observed)"
        ],
        [
         "2021-08-02 00:00:00",
         "Kadooment Day"
        ],
        [
         "2021-11-30 00:00:00",
         "Independence Day"
        ],
        [
         "2021-12-25 00:00:00",
         "Christmas Day"
        ],
        [
         "2021-12-26 00:00:00",
         "Boxing Day"
        ],
        [
         "2021-12-27 00:00:00",
         "Boxing Day (observed)"
        ],
        [
         "2021-01-04 00:00:00",
         "Public Holiday"
        ],
        [
         "2021-01-05 00:00:00",
         "Public Holiday"
        ],
        [
         "2022-01-01 00:00:00",
         "New Year's Day"
        ],
        [
         "2022-01-21 00:00:00",
         "Errol Barrow Day"
        ],
        [
         "2022-04-15 00:00:00",
         "Good Friday"
        ],
        [
         "2022-04-18 00:00:00",
         "Easter Monday"
        ],
        [
         "2022-04-28 00:00:00",
         "National Heroes Day"
        ],
        [
         "2022-05-01 00:00:00",
         "May Day"
        ],
        [
         "2022-05-02 00:00:00",
         "May Day (observed)"
        ],
        [
         "2022-06-06 00:00:00",
         "Whit Monday"
        ],
        [
         "2022-08-01 00:00:00",
         "Emancipation Day; Kadooment Day"
        ],
        [
         "2022-08-02 00:00:00",
         "Emancipation Day (observed)"
        ],
        [
         "2022-11-30 00:00:00",
         "Independence Day"
        ],
        [
         "2022-12-25 00:00:00",
         "Christmas Day"
        ],
        [
         "2022-12-27 00:00:00",
         "Christmas Day (observed)"
        ],
        [
         "2022-12-26 00:00:00",
         "Boxing Day"
        ],
        [
         "2023-01-01 00:00:00",
         "New Year's Day"
        ],
        [
         "2023-01-02 00:00:00",
         "New Year's Day (observed)"
        ],
        [
         "2023-01-21 00:00:00",
         "Errol Barrow Day"
        ],
        [
         "2023-04-07 00:00:00",
         "Good Friday"
        ],
        [
         "2023-04-10 00:00:00",
         "Easter Monday"
        ],
        [
         "2023-04-28 00:00:00",
         "National Heroes Day"
        ],
        [
         "2023-05-01 00:00:00",
         "May Day"
        ],
        [
         "2023-05-29 00:00:00",
         "Whit Monday"
        ]
       ],
       "shape": {
        "columns": 1,
        "rows": 147
       }
      },
      "text/html": [
       "<div>\n",
       "<style scoped>\n",
       "    .dataframe tbody tr th:only-of-type {\n",
       "        vertical-align: middle;\n",
       "    }\n",
       "\n",
       "    .dataframe tbody tr th {\n",
       "        vertical-align: top;\n",
       "    }\n",
       "\n",
       "    .dataframe thead th {\n",
       "        text-align: right;\n",
       "    }\n",
       "</style>\n",
       "<table border=\"1\" class=\"dataframe\">\n",
       "  <thead>\n",
       "    <tr style=\"text-align: right;\">\n",
       "      <th></th>\n",
       "      <th>0</th>\n",
       "    </tr>\n",
       "  </thead>\n",
       "  <tbody>\n",
       "    <tr>\n",
       "      <th>2020-01-01</th>\n",
       "      <td>New Year's Day</td>\n",
       "    </tr>\n",
       "    <tr>\n",
       "      <th>2020-01-21</th>\n",
       "      <td>Errol Barrow Day</td>\n",
       "    </tr>\n",
       "    <tr>\n",
       "      <th>2020-04-10</th>\n",
       "      <td>Good Friday</td>\n",
       "    </tr>\n",
       "    <tr>\n",
       "      <th>2020-04-13</th>\n",
       "      <td>Easter Monday</td>\n",
       "    </tr>\n",
       "    <tr>\n",
       "      <th>2020-04-28</th>\n",
       "      <td>National Heroes Day</td>\n",
       "    </tr>\n",
       "    <tr>\n",
       "      <th>...</th>\n",
       "      <td>...</td>\n",
       "    </tr>\n",
       "    <tr>\n",
       "      <th>2030-08-01</th>\n",
       "      <td>Emancipation Day</td>\n",
       "    </tr>\n",
       "    <tr>\n",
       "      <th>2030-08-05</th>\n",
       "      <td>Kadooment Day</td>\n",
       "    </tr>\n",
       "    <tr>\n",
       "      <th>2030-11-30</th>\n",
       "      <td>Independence Day</td>\n",
       "    </tr>\n",
       "    <tr>\n",
       "      <th>2030-12-25</th>\n",
       "      <td>Christmas Day</td>\n",
       "    </tr>\n",
       "    <tr>\n",
       "      <th>2030-12-26</th>\n",
       "      <td>Boxing Day</td>\n",
       "    </tr>\n",
       "  </tbody>\n",
       "</table>\n",
       "<p>147 rows × 1 columns</p>\n",
       "</div>"
      ],
      "text/plain": [
       "                              0\n",
       "2020-01-01       New Year's Day\n",
       "2020-01-21     Errol Barrow Day\n",
       "2020-04-10          Good Friday\n",
       "2020-04-13        Easter Monday\n",
       "2020-04-28  National Heroes Day\n",
       "...                         ...\n",
       "2030-08-01     Emancipation Day\n",
       "2030-08-05        Kadooment Day\n",
       "2030-11-30     Independence Day\n",
       "2030-12-25        Christmas Day\n",
       "2030-12-26           Boxing Day\n",
       "\n",
       "[147 rows x 1 columns]"
      ]
     },
     "execution_count": 5,
     "metadata": {},
     "output_type": "execute_result"
    }
   ],
   "source": [
    "holiday_years=[2020, 2021, 2022, 2023, 2024, 2025, 2026, 2027, 2028, 2029, 2030]\n",
    "\n",
    "def get_barbados_holidays_list(years):\n",
    "    barbados_holidays_list = holidays.Barbados(years=years)\n",
    "    barbados_holidays_df = pd.DataFrame(barbados_holidays_list.values(), index=pd.to_datetime(list(barbados_holidays_list.keys())))\n",
    "    return barbados_holidays_df\n",
    "\n",
    "def get_unique_dates_from_hourly_data(data):\n",
    "    return pd.to_datetime(data.index.date).unique()\n",
    "\n",
    "def get_one_hot_day_of_week(dates_index):\n",
    "    day_of_week = pd.get_dummies(dates_index.dayofweek).astype(int)\n",
    "    day_of_week.index = dates_index\n",
    "    day_of_week.columns = [\"Monday\", \"Tuesday\", \"Wednesday\", \"Thursday\", \"Friday\", \"Saturday\", \"Sunday\"]\n",
    "    return day_of_week\n",
    "\n",
    "def add_is_holiday_column_to_one_hot_day_of_week(day_of_week, barbados_holidays_df):\n",
    "    day_of_week['is_holiday'] = day_of_week.index.isin(barbados_holidays_df.index).astype(int)\n",
    "    return day_of_week\n",
    "\n",
    "barbados_holidays_df = get_barbados_holidays_list(holiday_years)\n",
    "barbados_holidays_df\n"
   ]
  },
  {
   "cell_type": "code",
   "execution_count": 6,
   "metadata": {},
   "outputs": [],
   "source": [
    "hours_in_day = 15\n",
    "target_column = 'NetLoadDemand'\n",
    "\n",
    "def reshape_X_to_LSTM_shape(X):\n",
    "    return X.reshape(X.shape[0], 1, X.shape[1])\n",
    "\n",
    "def create_X_y(data, target_column, hours_in_day, day_of_week):\n",
    "    X = []\n",
    "    y_bl = []\n",
    "    y_cl = []\n",
    "    \n",
    "    prev_dates = []\n",
    "    cur_dates = []\n",
    "    \n",
    "    for i in range(hours_in_day, len(data), hours_in_day):\n",
    "        cur = i\n",
    "        prev = i - hours_in_day\n",
    "        \n",
    "        if(data.index[cur] != data.index[prev] + pd.Timedelta(days=1)):\n",
    "            print(f'ALERT: Current: {data.index[cur]} to {data.index[cur + hours_in_day - 1]}, Previous: {data.index[prev]} to {data.index[prev + hours_in_day - 1]}')\n",
    "            print('ALERT: Day Change Detected')\n",
    "            continue\n",
    "        \n",
    "        print(f'Current: {data.index[cur]} to {data.index[cur + hours_in_day - 1]}, Previous: {data.index[prev]} to {data.index[prev + hours_in_day - 1]}')\n",
    "        \n",
    "        prev_historic_temp = data['temperature_2m_historic'].iloc[prev:cur].values.flatten()\n",
    "        prev_forecasted_temp = data['temperature_2m_forecast'][prev:cur].values.flatten()\n",
    "        prev_historic_shortwave_radiation = data['shortwave_radiation_historic'].iloc[prev:cur].values.flatten()\n",
    "        prev_forecasted_shortwave_radiation = data['shortwave_radiation_forecast'][prev:cur].values.flatten()\n",
    "        prev_load_demand = data[target_column].iloc[prev:cur].values.flatten()\n",
    "        \n",
    "        cur_historic_temp = data['temperature_2m_historic'].iloc[cur:cur + hours_in_day].values.flatten()\n",
    "        cur_forecasted_temp = data['temperature_2m_forecast'].iloc[cur:cur + hours_in_day].values.flatten()\n",
    "        cur_historic_shortwave_radiation = data['shortwave_radiation_historic'].iloc[cur:cur + hours_in_day].values.flatten()\n",
    "        cur_forecasted_shortwave_radiation = data['shortwave_radiation_forecast'].iloc[cur:cur + hours_in_day].values.flatten()\n",
    "        cur_load_demand = data[target_column].iloc[cur:cur + hours_in_day].values.flatten()\n",
    "        cur_day_of_week = day_of_week.iloc[cur//hours_in_day].values.flatten()\n",
    "        \n",
    "        X_day = np.hstack([prev_load_demand, prev_historic_temp, prev_forecasted_temp, cur_historic_temp, cur_forecasted_temp, prev_historic_shortwave_radiation, prev_forecasted_shortwave_radiation, cur_historic_shortwave_radiation, cur_forecasted_shortwave_radiation, cur_day_of_week])\n",
    "        y_day_bl = cur_load_demand\n",
    "        y_day_cl = cur_load_demand - prev_load_demand\n",
    "        \n",
    "        X.append(X_day)\n",
    "        y_bl.append(y_day_bl)\n",
    "        y_cl.append(y_day_cl)\n",
    "        \n",
    "        prev_day_date = data.index[prev:cur].values.flatten()\n",
    "        cur_day_date = data.index[cur:cur + hours_in_day].values.flatten()\n",
    "        \n",
    "        prev_dates.append(prev_day_date)\n",
    "        cur_dates.append(cur_day_date)\n",
    "    \n",
    "    \n",
    "    X = np.array(X)\n",
    "    X_LSTM = reshape_X_to_LSTM_shape(X)\n",
    "    y_bl = np.array(y_bl)\n",
    "    y_cl = np.array(y_cl)\n",
    "    \n",
    "    cur_dates = np.array(cur_dates)\n",
    "    prev_dates = np.array(prev_dates)\n",
    "    \n",
    "    return X, X_LSTM, y_bl, y_cl, cur_dates, prev_dates\n",
    "\n",
    "def convert_cl_to_bl(y_pred_cl, y, X):\n",
    "    y_prev_bl = X[:, :hours_in_day]\n",
    "    # y_pred_cl_bl = []\n",
    "    \n",
    "    print(y_prev_bl.shape, y_pred_cl.shape)\n",
    "    \n",
    "    if(y_prev_bl.shape == y_pred_cl.shape):\n",
    "        y_pred_cl_bl = y_pred_cl + y_prev_bl\n",
    "    \n",
    "    return y_pred_cl_bl\n"
   ]
  },
  {
   "cell_type": "code",
   "execution_count": 7,
   "metadata": {},
   "outputs": [],
   "source": [
    "# callbacks=[EarlyStopping(patience=50), ReduceLROnPlateau(patience=20, factor=0.1, min_lr=0.000000001)]\n",
    "\n",
    "def predict_model(model, X):\n",
    "    y_pred = model.predict(X)\n",
    "    return y_pred\n",
    "\n",
    "def get_trained_model(path, model_type, feeder_filesave_name):\n",
    "    model_save_path = f'{path}/{model_type}/{feeder_filesave_name}.keras'\n",
    "    model = load_model(model_save_path)\n",
    "    \n",
    "    return model\n",
    "\n",
    "def get_train_stats(train_stats_path, feeder_filesave_name):\n",
    "    train_stats_file_path = f'{train_stats_path}/{feeder_filesave_name}_train_stats.csv'\n",
    "    train_stats = pd.read_csv(train_stats_file_path, index_col=0)\n",
    "    \n",
    "    return train_stats\n",
    "\n",
    "def adapt_rls_combiner_and_predict(results, hours, rls_combiner=None, adapt=True):\n",
    "    rls_preds = []\n",
    "    samples = results.shape[0]\n",
    "    # hours = y.shape[1]\n",
    "\n",
    "    if not rls_combiner:\n",
    "        print(\"Building a new RLS Combiner\")\n",
    "        rls_combiner = [FilterRLS(n=results.shape[1] - 1, mu=0.99) for _ in range(hours)]\n",
    "\n",
    "    for i in range(0, samples, hours):\n",
    "        for j in range(hours):\n",
    "            rls_train_sample = [results.iloc[i][col] for col in results.columns[1:]]\n",
    "            rls_train_sample = np.array(rls_train_sample).reshape(-1)\n",
    "            rls_actual_sample = results.iloc[i, 0]\n",
    "\n",
    "            rls_preds_sample = rls_combiner[j].predict(rls_train_sample)\n",
    "            if(adapt):\n",
    "              rls_combiner[j].adapt(rls_actual_sample, rls_train_sample)\n",
    "            rls_preds.append(rls_preds_sample)\n",
    "\n",
    "            i += 1\n",
    "\n",
    "    results[\"RLS\"] = rls_preds\n",
    "    return results, rls_combiner\n",
    "\n",
    "def build_rls_combiner(hours_in_day, n_preds):\n",
    "    return [FilterRLS(n=n_preds, mu=0.99) for _ in range(hours_in_day)]\n",
    "\n",
    "def adapt_and_predict_rls_combiner(actual, pred_1, pred_2, hours_in_day, rls_combiner=None):\n",
    "    if not rls_combiner:\n",
    "        rls_combiner = build_rls_combiner(hours_in_day, 2)\n",
    "    \n",
    "    samples = actual.shape[0]\n",
    "    rls_preds = []\n",
    "    \n",
    "    for i in range(samples):\n",
    "        for j in range(hours_in_day):\n",
    "            rls_train_sample = [pred_1[i, j], pred_2[i, j]]\n",
    "            rls_train_sample = np.array(rls_train_sample).reshape(-1)\n",
    "            rls_actual_sample = actual[i, j]\n",
    "\n",
    "            rls_preds_sample = rls_combiner[j].predict(rls_train_sample)\n",
    "            rls_combiner[j].adapt(rls_actual_sample, rls_train_sample)\n",
    "            rls_preds.append(rls_preds_sample)\n",
    "\n",
    "            # i += 1\n",
    "            \n",
    "    rls_preds = np.array(rls_preds).reshape(samples, hours_in_day)\n",
    "            \n",
    "    return rls_preds, rls_combiner"
   ]
  },
  {
   "cell_type": "code",
   "execution_count": 8,
   "metadata": {},
   "outputs": [
    {
     "name": "stdout",
     "output_type": "stream",
     "text": [
      "Removing Nan Values - Total Dropped Days:  3\n",
      "Removing Incomplete Days - Total Dropped Days:  0\n",
      "========================================\n",
      "Arch Hall\n",
      "========================================\n",
      "Coordinates 13.181018829345703°N -59.56243896484375°E\n",
      "Elevation 114.0 m asl\n",
      "Timezone b'America/Barbados' b'GMT-4'\n",
      "Timezone difference to GMT+0 -14400 s\n",
      "<openmeteo_sdk.VariablesWithTime.VariablesWithTime object at 0x000002152E983520>\n",
      "Coordinates 13.125°N -59.625°E\n",
      "Elevation 114.0 m asl\n",
      "Timezone b'America/Barbados' b'GMT-4'\n",
      "Timezone difference to GMT+0 -14400 s\n",
      "<openmeteo_sdk.VariablesWithTime.VariablesWithTime object at 0x000002152E983C10>\n",
      "                                Mean     Std      Min      Max\n",
      "NetLoadDemand                3037.37 3151.18 -4721.06 10984.23\n",
      "temperature_2m_historic        27.78    1.94    22.30    32.40\n",
      "temperature_2m_forecast        27.90    1.56    24.08    31.73\n",
      "shortwave_radiation_historic  400.14  322.29     0.00  1026.00\n",
      "shortwave_radiation_forecast  404.40  321.86     0.00   987.00\n",
      "       NetLoadDemand  temperature_2m_historic  temperature_2m_forecast  shortwave_radiation_historic  shortwave_radiation_forecast\n",
      "count         210.00                   210.00                   210.00                        210.00                        210.00\n",
      "mean            0.47                     0.61                     0.60                          0.41                          0.43\n",
      "std             0.23                     0.17                     0.15                          0.31                          0.32\n",
      "min             0.03                     0.20                     0.28                          0.00                          0.00\n",
      "25%             0.27                     0.48                     0.47                          0.11                          0.11\n",
      "50%             0.48                     0.64                     0.61                          0.43                          0.46\n",
      "75%             0.67                     0.75                     0.73                          0.69                          0.73\n",
      "max             0.83                     0.87                     0.93                          0.92                          0.93\n",
      "Current: 2024-06-18 06:00:00 to 2024-06-18 20:00:00, Previous: 2024-06-17 06:00:00 to 2024-06-17 20:00:00\n",
      "Current: 2024-06-19 06:00:00 to 2024-06-19 20:00:00, Previous: 2024-06-18 06:00:00 to 2024-06-18 20:00:00\n",
      "Current: 2024-06-20 06:00:00 to 2024-06-20 20:00:00, Previous: 2024-06-19 06:00:00 to 2024-06-19 20:00:00\n",
      "Current: 2024-06-21 06:00:00 to 2024-06-21 20:00:00, Previous: 2024-06-20 06:00:00 to 2024-06-20 20:00:00\n",
      "Current: 2024-06-22 06:00:00 to 2024-06-22 20:00:00, Previous: 2024-06-21 06:00:00 to 2024-06-21 20:00:00\n",
      "Current: 2024-06-23 06:00:00 to 2024-06-23 20:00:00, Previous: 2024-06-22 06:00:00 to 2024-06-22 20:00:00\n",
      "Current: 2024-06-24 06:00:00 to 2024-06-24 20:00:00, Previous: 2024-06-23 06:00:00 to 2024-06-23 20:00:00\n",
      "Current: 2024-06-25 06:00:00 to 2024-06-25 20:00:00, Previous: 2024-06-24 06:00:00 to 2024-06-24 20:00:00\n",
      "Current: 2024-06-26 06:00:00 to 2024-06-26 20:00:00, Previous: 2024-06-25 06:00:00 to 2024-06-25 20:00:00\n",
      "Current: 2024-06-27 06:00:00 to 2024-06-27 20:00:00, Previous: 2024-06-26 06:00:00 to 2024-06-26 20:00:00\n",
      "Current: 2024-06-28 06:00:00 to 2024-06-28 20:00:00, Previous: 2024-06-27 06:00:00 to 2024-06-27 20:00:00\n",
      "Current: 2024-06-29 06:00:00 to 2024-06-29 20:00:00, Previous: 2024-06-28 06:00:00 to 2024-06-28 20:00:00\n",
      "Current: 2024-06-30 06:00:00 to 2024-06-30 20:00:00, Previous: 2024-06-29 06:00:00 to 2024-06-29 20:00:00\n",
      "1/1 [==============================] - 0s 108ms/step\n",
      "1/1 [==============================] - 0s 63ms/step\n",
      "1/1 [==============================] - 0s 428ms/step\n",
      "1/1 [==============================] - 0s 418ms/step\n",
      "(13, 15) (13, 15)\n",
      "(13, 15) (13, 15)\n",
      "(13, 143) (13, 1, 143) (13, 15) (13, 15) (13, 15) (13, 15)\n",
      "(13, 15) (13, 15) (13, 15) (13, 15)\n"
     ]
    },
    {
     "data": {
      "application/vnd.plotly.v1+json": {
       "config": {
        "plotlyServerURL": "https://plot.ly"
       },
       "data": [
        {
         "hovertemplate": "variable=Actual<br>index=%{x}<br>value=%{y}<extra></extra>",
         "legendgroup": "Actual",
         "line": {
          "color": "#636efa",
          "dash": "solid"
         },
         "marker": {
          "symbol": "circle"
         },
         "mode": "lines",
         "name": "Actual",
         "orientation": "v",
         "showlegend": true,
         "type": "scatter",
         "x": [
          "2024-06-21T06:00:00",
          "2024-06-21T07:00:00",
          "2024-06-21T08:00:00",
          "2024-06-21T09:00:00",
          "2024-06-21T10:00:00",
          "2024-06-21T11:00:00",
          "2024-06-21T12:00:00",
          "2024-06-21T13:00:00",
          "2024-06-21T14:00:00",
          "2024-06-21T15:00:00",
          "2024-06-21T16:00:00",
          "2024-06-21T17:00:00",
          "2024-06-21T18:00:00",
          "2024-06-21T19:00:00",
          "2024-06-21T20:00:00",
          "2024-06-22T06:00:00",
          "2024-06-22T07:00:00",
          "2024-06-22T08:00:00",
          "2024-06-22T09:00:00",
          "2024-06-22T10:00:00",
          "2024-06-22T11:00:00",
          "2024-06-22T12:00:00",
          "2024-06-22T13:00:00",
          "2024-06-22T14:00:00",
          "2024-06-22T15:00:00",
          "2024-06-22T16:00:00",
          "2024-06-22T17:00:00",
          "2024-06-22T18:00:00",
          "2024-06-22T19:00:00",
          "2024-06-22T20:00:00",
          "2024-06-23T06:00:00",
          "2024-06-23T07:00:00",
          "2024-06-23T08:00:00",
          "2024-06-23T09:00:00",
          "2024-06-23T10:00:00",
          "2024-06-23T11:00:00",
          "2024-06-23T12:00:00",
          "2024-06-23T13:00:00",
          "2024-06-23T14:00:00",
          "2024-06-23T15:00:00",
          "2024-06-23T16:00:00",
          "2024-06-23T17:00:00",
          "2024-06-23T18:00:00",
          "2024-06-23T19:00:00",
          "2024-06-23T20:00:00",
          "2024-06-24T06:00:00",
          "2024-06-24T07:00:00",
          "2024-06-24T08:00:00",
          "2024-06-24T09:00:00",
          "2024-06-24T10:00:00",
          "2024-06-24T11:00:00",
          "2024-06-24T12:00:00",
          "2024-06-24T13:00:00",
          "2024-06-24T14:00:00",
          "2024-06-24T15:00:00",
          "2024-06-24T16:00:00",
          "2024-06-24T17:00:00",
          "2024-06-24T18:00:00",
          "2024-06-24T19:00:00",
          "2024-06-24T20:00:00",
          "2024-06-25T06:00:00",
          "2024-06-25T07:00:00",
          "2024-06-25T08:00:00",
          "2024-06-25T09:00:00",
          "2024-06-25T10:00:00",
          "2024-06-25T11:00:00",
          "2024-06-25T12:00:00",
          "2024-06-25T13:00:00",
          "2024-06-25T14:00:00",
          "2024-06-25T15:00:00",
          "2024-06-25T16:00:00",
          "2024-06-25T17:00:00",
          "2024-06-25T18:00:00",
          "2024-06-25T19:00:00",
          "2024-06-25T20:00:00",
          "2024-06-26T06:00:00",
          "2024-06-26T07:00:00",
          "2024-06-26T08:00:00",
          "2024-06-26T09:00:00",
          "2024-06-26T10:00:00",
          "2024-06-26T11:00:00",
          "2024-06-26T12:00:00",
          "2024-06-26T13:00:00",
          "2024-06-26T14:00:00",
          "2024-06-26T15:00:00",
          "2024-06-26T16:00:00",
          "2024-06-26T17:00:00",
          "2024-06-26T18:00:00",
          "2024-06-26T19:00:00",
          "2024-06-26T20:00:00",
          "2024-06-27T06:00:00",
          "2024-06-27T07:00:00",
          "2024-06-27T08:00:00",
          "2024-06-27T09:00:00",
          "2024-06-27T10:00:00",
          "2024-06-27T11:00:00",
          "2024-06-27T12:00:00",
          "2024-06-27T13:00:00",
          "2024-06-27T14:00:00",
          "2024-06-27T15:00:00",
          "2024-06-27T16:00:00",
          "2024-06-27T17:00:00",
          "2024-06-27T18:00:00",
          "2024-06-27T19:00:00",
          "2024-06-27T20:00:00",
          "2024-06-28T06:00:00",
          "2024-06-28T07:00:00",
          "2024-06-28T08:00:00",
          "2024-06-28T09:00:00",
          "2024-06-28T10:00:00",
          "2024-06-28T11:00:00",
          "2024-06-28T12:00:00",
          "2024-06-28T13:00:00",
          "2024-06-28T14:00:00",
          "2024-06-28T15:00:00",
          "2024-06-28T16:00:00",
          "2024-06-28T17:00:00",
          "2024-06-28T18:00:00",
          "2024-06-28T19:00:00",
          "2024-06-28T20:00:00",
          "2024-06-29T06:00:00",
          "2024-06-29T07:00:00",
          "2024-06-29T08:00:00",
          "2024-06-29T09:00:00",
          "2024-06-29T10:00:00",
          "2024-06-29T11:00:00",
          "2024-06-29T12:00:00",
          "2024-06-29T13:00:00",
          "2024-06-29T14:00:00",
          "2024-06-29T15:00:00",
          "2024-06-29T16:00:00",
          "2024-06-29T17:00:00",
          "2024-06-29T18:00:00",
          "2024-06-29T19:00:00",
          "2024-06-29T20:00:00",
          "2024-06-30T06:00:00",
          "2024-06-30T07:00:00",
          "2024-06-30T08:00:00",
          "2024-06-30T09:00:00",
          "2024-06-30T10:00:00",
          "2024-06-30T11:00:00",
          "2024-06-30T12:00:00",
          "2024-06-30T13:00:00",
          "2024-06-30T14:00:00",
          "2024-06-30T15:00:00",
          "2024-06-30T16:00:00",
          "2024-06-30T17:00:00",
          "2024-06-30T18:00:00",
          "2024-06-30T19:00:00",
          "2024-06-30T20:00:00"
         ],
         "xaxis": "x",
         "y": [
          5840.126666666668,
          5240.666666666667,
          3465.956666666668,
          1306.3332499999997,
          -1088.0334166666667,
          -2887.6625,
          -3807.403333333333,
          -2426.36825,
          -1495.219916666667,
          -381.38741666666647,
          1848.8412500000004,
          4640.7525,
          6663.220909090908,
          7907.334444444444,
          8207.354,
          5991.32125,
          5401.3,
          3728.2363333333333,
          -13.996166666666795,
          -1099.3834166666666,
          -1294.3575,
          -2521.0398333333333,
          -2381.138,
          -1212.1747,
          -1315.4073250000001,
          272.6051083333332,
          3070.5183333333334,
          6492.478181818181,
          7779.658333333334,
          8115.491111111111,
          5747.775999999999,
          3906.78909090909,
          2471.6570833333326,
          2072.519666666666,
          -111.25504166666633,
          -3037.1505833333335,
          -2863.451833333333,
          -1587.2185833333333,
          -2611.129933333333,
          -1397.6194999999998,
          333.99308333333374,
          4277.4574999999995,
          5888.445555555555,
          7615.773636363637,
          8267.744545454545,
          5932.076,
          5305.062222222222,
          5013.348333333332,
          4257.203333333334,
          1086.4973083333334,
          3553.230833333332,
          -301.30765833333317,
          -1569.6090833333337,
          -1185.3790833333333,
          -682.0113666666662,
          1128.485083333333,
          3544.953333333334,
          6274.763333333333,
          7605.967272727273,
          8076.876666666668,
          5957.5371428571425,
          5486.704166666667,
          4928.235833333333,
          2086.3437000000004,
          -450.51174999999967,
          -2305.5840833333336,
          -2030.7595833333335,
          -1600.9852499999997,
          629.4140916666665,
          363.49208333333354,
          1662.885166666667,
          4093.777500000001,
          6573.854166666667,
          7790.209,
          8216.166363636363,
          5834.166249999999,
          5756.483076923077,
          3793.6933333333336,
          2783.945833333333,
          414.9531166666666,
          975.8667500000001,
          -1136.5611666666664,
          -2469.09525,
          276.50324999999975,
          1409.510166666667,
          1968.1473333333333,
          4039.814166666666,
          6495.510833333335,
          7601.152500000001,
          8155.8075,
          5942.7609999999995,
          5601.182727272729,
          3826.889166666667,
          2072.064166666666,
          839.6184615384618,
          -1571.371916666667,
          -2149.2125,
          -743.9126316666666,
          -2539.0187499999997,
          -74.10298333333321,
          1973.2965000000004,
          3578.2349999999997,
          6873.200833333333,
          8306.561818181817,
          8055.204285714285,
          6838.5881818181815,
          5667.197499999999,
          4050.253333333333,
          2213.1599166666665,
          -127.58340833333295,
          -665.9679166666665,
          -1318.0535,
          -1127.3464166666663,
          -1891.6549999999997,
          -586.2879166666671,
          2176.0933333333332,
          3730.3416666666662,
          5877.759999999999,
          7451.4854545454555,
          8046.54090909091,
          5803.861999999998,
          4593.245833333333,
          2936.0775000000003,
          1123.1925,
          -1689.08525,
          -4319.6725,
          -3584.4383333333335,
          -2366.03305,
          -960.1366666666668,
          3159.038307692308,
          4148.394166666666,
          5422.8966666666665,
          6593.675454545454,
          7599.661000000001,
          7982.43875,
          5662.046666666666,
          5094.250000000001,
          3919.0575,
          2130.2380833333327,
          -488.9434250000004,
          -1977.5358333333334,
          -3540.429666666667,
          -3330.4075,
          -3073.789691666667,
          -869.5048333333334,
          3177.2225000000008,
          4781.423333333333,
          6139.784166666667,
          7002.4850000000015,
          8319.034166666665
         ],
         "yaxis": "y"
        },
        {
         "hovertemplate": "variable=ANN_RLS<br>index=%{x}<br>value=%{y}<extra></extra>",
         "legendgroup": "ANN_RLS",
         "line": {
          "color": "#EF553B",
          "dash": "solid"
         },
         "marker": {
          "symbol": "circle"
         },
         "mode": "lines",
         "name": "ANN_RLS",
         "orientation": "v",
         "showlegend": true,
         "type": "scatter",
         "x": [
          "2024-06-21T06:00:00",
          "2024-06-21T07:00:00",
          "2024-06-21T08:00:00",
          "2024-06-21T09:00:00",
          "2024-06-21T10:00:00",
          "2024-06-21T11:00:00",
          "2024-06-21T12:00:00",
          "2024-06-21T13:00:00",
          "2024-06-21T14:00:00",
          "2024-06-21T15:00:00",
          "2024-06-21T16:00:00",
          "2024-06-21T17:00:00",
          "2024-06-21T18:00:00",
          "2024-06-21T19:00:00",
          "2024-06-21T20:00:00",
          "2024-06-22T06:00:00",
          "2024-06-22T07:00:00",
          "2024-06-22T08:00:00",
          "2024-06-22T09:00:00",
          "2024-06-22T10:00:00",
          "2024-06-22T11:00:00",
          "2024-06-22T12:00:00",
          "2024-06-22T13:00:00",
          "2024-06-22T14:00:00",
          "2024-06-22T15:00:00",
          "2024-06-22T16:00:00",
          "2024-06-22T17:00:00",
          "2024-06-22T18:00:00",
          "2024-06-22T19:00:00",
          "2024-06-22T20:00:00",
          "2024-06-23T06:00:00",
          "2024-06-23T07:00:00",
          "2024-06-23T08:00:00",
          "2024-06-23T09:00:00",
          "2024-06-23T10:00:00",
          "2024-06-23T11:00:00",
          "2024-06-23T12:00:00",
          "2024-06-23T13:00:00",
          "2024-06-23T14:00:00",
          "2024-06-23T15:00:00",
          "2024-06-23T16:00:00",
          "2024-06-23T17:00:00",
          "2024-06-23T18:00:00",
          "2024-06-23T19:00:00",
          "2024-06-23T20:00:00",
          "2024-06-24T06:00:00",
          "2024-06-24T07:00:00",
          "2024-06-24T08:00:00",
          "2024-06-24T09:00:00",
          "2024-06-24T10:00:00",
          "2024-06-24T11:00:00",
          "2024-06-24T12:00:00",
          "2024-06-24T13:00:00",
          "2024-06-24T14:00:00",
          "2024-06-24T15:00:00",
          "2024-06-24T16:00:00",
          "2024-06-24T17:00:00",
          "2024-06-24T18:00:00",
          "2024-06-24T19:00:00",
          "2024-06-24T20:00:00",
          "2024-06-25T06:00:00",
          "2024-06-25T07:00:00",
          "2024-06-25T08:00:00",
          "2024-06-25T09:00:00",
          "2024-06-25T10:00:00",
          "2024-06-25T11:00:00",
          "2024-06-25T12:00:00",
          "2024-06-25T13:00:00",
          "2024-06-25T14:00:00",
          "2024-06-25T15:00:00",
          "2024-06-25T16:00:00",
          "2024-06-25T17:00:00",
          "2024-06-25T18:00:00",
          "2024-06-25T19:00:00",
          "2024-06-25T20:00:00",
          "2024-06-26T06:00:00",
          "2024-06-26T07:00:00",
          "2024-06-26T08:00:00",
          "2024-06-26T09:00:00",
          "2024-06-26T10:00:00",
          "2024-06-26T11:00:00",
          "2024-06-26T12:00:00",
          "2024-06-26T13:00:00",
          "2024-06-26T14:00:00",
          "2024-06-26T15:00:00",
          "2024-06-26T16:00:00",
          "2024-06-26T17:00:00",
          "2024-06-26T18:00:00",
          "2024-06-26T19:00:00",
          "2024-06-26T20:00:00",
          "2024-06-27T06:00:00",
          "2024-06-27T07:00:00",
          "2024-06-27T08:00:00",
          "2024-06-27T09:00:00",
          "2024-06-27T10:00:00",
          "2024-06-27T11:00:00",
          "2024-06-27T12:00:00",
          "2024-06-27T13:00:00",
          "2024-06-27T14:00:00",
          "2024-06-27T15:00:00",
          "2024-06-27T16:00:00",
          "2024-06-27T17:00:00",
          "2024-06-27T18:00:00",
          "2024-06-27T19:00:00",
          "2024-06-27T20:00:00",
          "2024-06-28T06:00:00",
          "2024-06-28T07:00:00",
          "2024-06-28T08:00:00",
          "2024-06-28T09:00:00",
          "2024-06-28T10:00:00",
          "2024-06-28T11:00:00",
          "2024-06-28T12:00:00",
          "2024-06-28T13:00:00",
          "2024-06-28T14:00:00",
          "2024-06-28T15:00:00",
          "2024-06-28T16:00:00",
          "2024-06-28T17:00:00",
          "2024-06-28T18:00:00",
          "2024-06-28T19:00:00",
          "2024-06-28T20:00:00",
          "2024-06-29T06:00:00",
          "2024-06-29T07:00:00",
          "2024-06-29T08:00:00",
          "2024-06-29T09:00:00",
          "2024-06-29T10:00:00",
          "2024-06-29T11:00:00",
          "2024-06-29T12:00:00",
          "2024-06-29T13:00:00",
          "2024-06-29T14:00:00",
          "2024-06-29T15:00:00",
          "2024-06-29T16:00:00",
          "2024-06-29T17:00:00",
          "2024-06-29T18:00:00",
          "2024-06-29T19:00:00",
          "2024-06-29T20:00:00",
          "2024-06-30T06:00:00",
          "2024-06-30T07:00:00",
          "2024-06-30T08:00:00",
          "2024-06-30T09:00:00",
          "2024-06-30T10:00:00",
          "2024-06-30T11:00:00",
          "2024-06-30T12:00:00",
          "2024-06-30T13:00:00",
          "2024-06-30T14:00:00",
          "2024-06-30T15:00:00",
          "2024-06-30T16:00:00",
          "2024-06-30T17:00:00",
          "2024-06-30T18:00:00",
          "2024-06-30T19:00:00",
          "2024-06-30T20:00:00"
         ],
         "xaxis": "x",
         "y": [
          5643.694157113329,
          4680.470253452376,
          2122.86411489317,
          872.4103496684957,
          -243.63205864777956,
          -343.14821242053586,
          -1389.7511580427376,
          -930.4282504218972,
          -2103.7003075305056,
          1952.0212846965696,
          2481.7313285849905,
          3154.0936522114807,
          5937.414521032045,
          8335.536280089167,
          7479.059091801385,
          5397.63187188977,
          5008.78664542026,
          2656.8551256086257,
          774.0954771594488,
          -67.3237873897906,
          1644.4908654893452,
          -1962.4327462465285,
          4075.440133371104,
          -687.4560107573307,
          1147.2488727678601,
          2703.3147640951884,
          5264.2005794400875,
          6464.976370833306,
          7757.056974000828,
          8613.569199612273,
          6668.410745901131,
          4427.0484910806945,
          4076.0843444826705,
          1893.2390539020253,
          -165.71770067772195,
          -1879.6509001665718,
          -2597.256408205811,
          -1797.3223793031016,
          -2469.7830100727224,
          -428.14645511306117,
          -181.73469604990714,
          3614.545378775766,
          5300.147929120013,
          7509.967184135871,
          8086.8507328361,
          5281.7644609721965,
          4372.714350681053,
          2949.975534727798,
          1604.1102655537215,
          -590.0185905815661,
          -1922.8991135720194,
          -3122.0202701928893,
          -2953.2006994321623,
          -1453.7894671351282,
          -251.88232289079951,
          77.78574766019392,
          3753.1093951475586,
          5689.121266654623,
          7532.693493472762,
          7800.616342373752,
          5187.49831662294,
          5307.2974549054115,
          4411.063883354825,
          2737.9951942289517,
          -22.439615540076375,
          -3953.524998021625,
          -1205.9462289847288,
          -1577.2850881025347,
          -1764.8708501123474,
          -338.36239305162326,
          1127.0012996590422,
          2096.254629787666,
          6585.6645151133625,
          8417.5966149669,
          8327.521858865184,
          6002.944215166998,
          5317.985963186765,
          3142.1959584053075,
          1907.2369819951555,
          -423.9407267618799,
          -409.9390293765309,
          -1983.3700165782834,
          -2218.151585496029,
          -1764.9120543299582,
          -1277.0176763571853,
          759.4865015004589,
          3849.822590386303,
          6080.4438976805895,
          7518.873750603173,
          8165.371081261891,
          6000.722458834575,
          6253.199093746164,
          3614.750134318977,
          1645.3627273581915,
          594.9315326463902,
          -2767.406940828798,
          -1056.8371335296943,
          -1446.880699871821,
          -639.658371001492,
          131.53185861878592,
          2221.2784159162757,
          3517.3740865476802,
          6515.556096269423,
          7989.14479003529,
          7993.206044676391,
          5481.428130175215,
          6100.636252710942,
          3463.199431147772,
          1440.9818904322638,
          22.86530309399859,
          -113.62468295593499,
          -1853.9646659486184,
          -2260.1381856200287,
          -990.1934311710343,
          -131.53502660427876,
          1150.0244236406515,
          2331.3261253605297,
          6195.6387446981,
          8234.48997026719,
          7996.054123084593,
          6465.149582664858,
          5117.123533939198,
          3193.3916009864643,
          1549.724191104985,
          286.19341017019633,
          -284.33822346621764,
          -2034.5522703950373,
          -467.29194509433455,
          -1346.080709401524,
          88.77567900620579,
          1823.2894702070007,
          3904.736152009499,
          5878.393275372261,
          7233.195452345127,
          8115.064132010891,
          5115.476321752597,
          5939.488737722985,
          2473.4720971584366,
          492.3375632086372,
          -354.57905261099313,
          1033.531622320661,
          -2699.462398201995,
          -3000.15182911281,
          -792.5247389730812,
          409.77214218805057,
          3051.584374223029,
          4358.096205681527,
          5996.815153201255,
          7824.9156244659835,
          7679.982411389993
         ],
         "yaxis": "y"
        },
        {
         "hovertemplate": "variable=LSTM_RLS<br>index=%{x}<br>value=%{y}<extra></extra>",
         "legendgroup": "LSTM_RLS",
         "line": {
          "color": "#00cc96",
          "dash": "solid"
         },
         "marker": {
          "symbol": "circle"
         },
         "mode": "lines",
         "name": "LSTM_RLS",
         "orientation": "v",
         "showlegend": true,
         "type": "scatter",
         "x": [
          "2024-06-21T06:00:00",
          "2024-06-21T07:00:00",
          "2024-06-21T08:00:00",
          "2024-06-21T09:00:00",
          "2024-06-21T10:00:00",
          "2024-06-21T11:00:00",
          "2024-06-21T12:00:00",
          "2024-06-21T13:00:00",
          "2024-06-21T14:00:00",
          "2024-06-21T15:00:00",
          "2024-06-21T16:00:00",
          "2024-06-21T17:00:00",
          "2024-06-21T18:00:00",
          "2024-06-21T19:00:00",
          "2024-06-21T20:00:00",
          "2024-06-22T06:00:00",
          "2024-06-22T07:00:00",
          "2024-06-22T08:00:00",
          "2024-06-22T09:00:00",
          "2024-06-22T10:00:00",
          "2024-06-22T11:00:00",
          "2024-06-22T12:00:00",
          "2024-06-22T13:00:00",
          "2024-06-22T14:00:00",
          "2024-06-22T15:00:00",
          "2024-06-22T16:00:00",
          "2024-06-22T17:00:00",
          "2024-06-22T18:00:00",
          "2024-06-22T19:00:00",
          "2024-06-22T20:00:00",
          "2024-06-23T06:00:00",
          "2024-06-23T07:00:00",
          "2024-06-23T08:00:00",
          "2024-06-23T09:00:00",
          "2024-06-23T10:00:00",
          "2024-06-23T11:00:00",
          "2024-06-23T12:00:00",
          "2024-06-23T13:00:00",
          "2024-06-23T14:00:00",
          "2024-06-23T15:00:00",
          "2024-06-23T16:00:00",
          "2024-06-23T17:00:00",
          "2024-06-23T18:00:00",
          "2024-06-23T19:00:00",
          "2024-06-23T20:00:00",
          "2024-06-24T06:00:00",
          "2024-06-24T07:00:00",
          "2024-06-24T08:00:00",
          "2024-06-24T09:00:00",
          "2024-06-24T10:00:00",
          "2024-06-24T11:00:00",
          "2024-06-24T12:00:00",
          "2024-06-24T13:00:00",
          "2024-06-24T14:00:00",
          "2024-06-24T15:00:00",
          "2024-06-24T16:00:00",
          "2024-06-24T17:00:00",
          "2024-06-24T18:00:00",
          "2024-06-24T19:00:00",
          "2024-06-24T20:00:00",
          "2024-06-25T06:00:00",
          "2024-06-25T07:00:00",
          "2024-06-25T08:00:00",
          "2024-06-25T09:00:00",
          "2024-06-25T10:00:00",
          "2024-06-25T11:00:00",
          "2024-06-25T12:00:00",
          "2024-06-25T13:00:00",
          "2024-06-25T14:00:00",
          "2024-06-25T15:00:00",
          "2024-06-25T16:00:00",
          "2024-06-25T17:00:00",
          "2024-06-25T18:00:00",
          "2024-06-25T19:00:00",
          "2024-06-25T20:00:00",
          "2024-06-26T06:00:00",
          "2024-06-26T07:00:00",
          "2024-06-26T08:00:00",
          "2024-06-26T09:00:00",
          "2024-06-26T10:00:00",
          "2024-06-26T11:00:00",
          "2024-06-26T12:00:00",
          "2024-06-26T13:00:00",
          "2024-06-26T14:00:00",
          "2024-06-26T15:00:00",
          "2024-06-26T16:00:00",
          "2024-06-26T17:00:00",
          "2024-06-26T18:00:00",
          "2024-06-26T19:00:00",
          "2024-06-26T20:00:00",
          "2024-06-27T06:00:00",
          "2024-06-27T07:00:00",
          "2024-06-27T08:00:00",
          "2024-06-27T09:00:00",
          "2024-06-27T10:00:00",
          "2024-06-27T11:00:00",
          "2024-06-27T12:00:00",
          "2024-06-27T13:00:00",
          "2024-06-27T14:00:00",
          "2024-06-27T15:00:00",
          "2024-06-27T16:00:00",
          "2024-06-27T17:00:00",
          "2024-06-27T18:00:00",
          "2024-06-27T19:00:00",
          "2024-06-27T20:00:00",
          "2024-06-28T06:00:00",
          "2024-06-28T07:00:00",
          "2024-06-28T08:00:00",
          "2024-06-28T09:00:00",
          "2024-06-28T10:00:00",
          "2024-06-28T11:00:00",
          "2024-06-28T12:00:00",
          "2024-06-28T13:00:00",
          "2024-06-28T14:00:00",
          "2024-06-28T15:00:00",
          "2024-06-28T16:00:00",
          "2024-06-28T17:00:00",
          "2024-06-28T18:00:00",
          "2024-06-28T19:00:00",
          "2024-06-28T20:00:00",
          "2024-06-29T06:00:00",
          "2024-06-29T07:00:00",
          "2024-06-29T08:00:00",
          "2024-06-29T09:00:00",
          "2024-06-29T10:00:00",
          "2024-06-29T11:00:00",
          "2024-06-29T12:00:00",
          "2024-06-29T13:00:00",
          "2024-06-29T14:00:00",
          "2024-06-29T15:00:00",
          "2024-06-29T16:00:00",
          "2024-06-29T17:00:00",
          "2024-06-29T18:00:00",
          "2024-06-29T19:00:00",
          "2024-06-29T20:00:00",
          "2024-06-30T06:00:00",
          "2024-06-30T07:00:00",
          "2024-06-30T08:00:00",
          "2024-06-30T09:00:00",
          "2024-06-30T10:00:00",
          "2024-06-30T11:00:00",
          "2024-06-30T12:00:00",
          "2024-06-30T13:00:00",
          "2024-06-30T14:00:00",
          "2024-06-30T15:00:00",
          "2024-06-30T16:00:00",
          "2024-06-30T17:00:00",
          "2024-06-30T18:00:00",
          "2024-06-30T19:00:00",
          "2024-06-30T20:00:00"
         ],
         "xaxis": "x",
         "y": [
          5450.6224033662265,
          4507.229595311433,
          2945.54598031992,
          1372.1915793732887,
          1160.8819911322616,
          -143.06361409408146,
          -49.06560146169522,
          -2846.30674889268,
          -1411.9986070761788,
          250.31993539593532,
          2677.2646870725503,
          2950.801462462966,
          5792.07427037947,
          7791.764152152807,
          7827.1361296440145,
          5292.5987510979785,
          4281.459579162366,
          2704.2516413790863,
          1356.7050293538214,
          954.2112568386092,
          -1474.490117307697,
          -2807.9090245370803,
          -2686.099427279858,
          -1257.9495227205725,
          884.1879953764701,
          2121.4059136610595,
          4713.088952357385,
          6775.044330265558,
          7923.765622646576,
          8141.516038515408,
          5947.264721213415,
          5561.086874200325,
          4054.3980012952043,
          1673.3464300212754,
          -420.91391906968784,
          -1449.856135760666,
          -2467.7700124423927,
          -73.63869062264348,
          -1027.1977852512468,
          -184.281571482029,
          161.47470701598104,
          2271.0336281743175,
          6485.360761658915,
          7812.780391768182,
          8136.614597864203,
          6032.6983502291,
          4956.718751766563,
          3510.0212474930586,
          730.6643165233463,
          -481.59339829716737,
          -112.4908440570216,
          -2023.7271570490343,
          -3388.8323555957013,
          -1768.0004708169035,
          -839.5056601520068,
          961.0412837265449,
          4703.545749607024,
          6282.804366612895,
          7969.980573490372,
          8286.100226835657,
          5838.340400978056,
          5444.938978150992,
          4061.6587121783587,
          2716.1800420564678,
          -145.3155395010881,
          -7227.0801430830925,
          -2648.3615870703684,
          363.3638892140334,
          -1256.3979574320679,
          -632.7032451402711,
          1486.51838698142,
          4088.683716608387,
          6789.042763143555,
          7763.384028987691,
          7986.538209904981,
          5916.516658524669,
          5119.752058269419,
          3807.4532373853317,
          1893.9898463493064,
          -351.94054860368124,
          89.98218769830237,
          -2956.7613406978326,
          -1981.5939478641062,
          -1929.9802885989634,
          -815.8971092133138,
          701.874692446213,
          3647.0568287831256,
          6415.588675902301,
          7789.3406537128985,
          8224.492297632678,
          6019.500891508288,
          5364.442261826561,
          3726.5639042033954,
          2244.995703063416,
          43.92782553306006,
          -2465.1547140745765,
          -891.6505908896793,
          -21.187558962350522,
          -437.18450126380594,
          246.33342120676934,
          1164.1205987461526,
          3834.294029960128,
          6432.619180625322,
          7495.011328738651,
          8085.865004676257,
          5748.063054321842,
          5194.454747502007,
          3787.9174633471584,
          2015.3423306827235,
          357.5020934943368,
          -860.5350597391775,
          -1370.7789379930823,
          -2755.4690383919124,
          -1269.546962440731,
          -390.17506343844525,
          2073.481646495329,
          3722.532262217862,
          6138.824230170324,
          8199.535071115399,
          7878.394827007237,
          6019.582169805927,
          4547.715477242208,
          2828.1785142398267,
          1366.6644864975842,
          61.7995383009129,
          244.41102740351835,
          -2196.99406980561,
          -1647.4490940845394,
          -1322.6338805035775,
          10.716133641391025,
          2396.6965745885464,
          4095.8069615918002,
          6741.885612823727,
          7433.515526914937,
          8039.998087531628,
          6034.390961369137,
          4860.5766068326275,
          3308.7480469857637,
          1290.583592607205,
          -550.0477494125862,
          -43.608636846714944,
          -3191.713880787858,
          -1762.6831571590124,
          -1443.1531663884666,
          -381.5412953226987,
          1761.4523339779043,
          3781.1037166078977,
          6065.259308439944,
          7438.512857077641,
          7880.5087197305065
         ],
         "yaxis": "y"
        },
        {
         "hovertemplate": "variable=Final_RLS<br>index=%{x}<br>value=%{y}<extra></extra>",
         "legendgroup": "Final_RLS",
         "line": {
          "color": "#ab63fa",
          "dash": "solid"
         },
         "marker": {
          "symbol": "circle"
         },
         "mode": "lines",
         "name": "Final_RLS",
         "orientation": "v",
         "showlegend": true,
         "type": "scatter",
         "x": [
          "2024-06-21T06:00:00",
          "2024-06-21T07:00:00",
          "2024-06-21T08:00:00",
          "2024-06-21T09:00:00",
          "2024-06-21T10:00:00",
          "2024-06-21T11:00:00",
          "2024-06-21T12:00:00",
          "2024-06-21T13:00:00",
          "2024-06-21T14:00:00",
          "2024-06-21T15:00:00",
          "2024-06-21T16:00:00",
          "2024-06-21T17:00:00",
          "2024-06-21T18:00:00",
          "2024-06-21T19:00:00",
          "2024-06-21T20:00:00",
          "2024-06-22T06:00:00",
          "2024-06-22T07:00:00",
          "2024-06-22T08:00:00",
          "2024-06-22T09:00:00",
          "2024-06-22T10:00:00",
          "2024-06-22T11:00:00",
          "2024-06-22T12:00:00",
          "2024-06-22T13:00:00",
          "2024-06-22T14:00:00",
          "2024-06-22T15:00:00",
          "2024-06-22T16:00:00",
          "2024-06-22T17:00:00",
          "2024-06-22T18:00:00",
          "2024-06-22T19:00:00",
          "2024-06-22T20:00:00",
          "2024-06-23T06:00:00",
          "2024-06-23T07:00:00",
          "2024-06-23T08:00:00",
          "2024-06-23T09:00:00",
          "2024-06-23T10:00:00",
          "2024-06-23T11:00:00",
          "2024-06-23T12:00:00",
          "2024-06-23T13:00:00",
          "2024-06-23T14:00:00",
          "2024-06-23T15:00:00",
          "2024-06-23T16:00:00",
          "2024-06-23T17:00:00",
          "2024-06-23T18:00:00",
          "2024-06-23T19:00:00",
          "2024-06-23T20:00:00",
          "2024-06-24T06:00:00",
          "2024-06-24T07:00:00",
          "2024-06-24T08:00:00",
          "2024-06-24T09:00:00",
          "2024-06-24T10:00:00",
          "2024-06-24T11:00:00",
          "2024-06-24T12:00:00",
          "2024-06-24T13:00:00",
          "2024-06-24T14:00:00",
          "2024-06-24T15:00:00",
          "2024-06-24T16:00:00",
          "2024-06-24T17:00:00",
          "2024-06-24T18:00:00",
          "2024-06-24T19:00:00",
          "2024-06-24T20:00:00",
          "2024-06-25T06:00:00",
          "2024-06-25T07:00:00",
          "2024-06-25T08:00:00",
          "2024-06-25T09:00:00",
          "2024-06-25T10:00:00",
          "2024-06-25T11:00:00",
          "2024-06-25T12:00:00",
          "2024-06-25T13:00:00",
          "2024-06-25T14:00:00",
          "2024-06-25T15:00:00",
          "2024-06-25T16:00:00",
          "2024-06-25T17:00:00",
          "2024-06-25T18:00:00",
          "2024-06-25T19:00:00",
          "2024-06-25T20:00:00",
          "2024-06-26T06:00:00",
          "2024-06-26T07:00:00",
          "2024-06-26T08:00:00",
          "2024-06-26T09:00:00",
          "2024-06-26T10:00:00",
          "2024-06-26T11:00:00",
          "2024-06-26T12:00:00",
          "2024-06-26T13:00:00",
          "2024-06-26T14:00:00",
          "2024-06-26T15:00:00",
          "2024-06-26T16:00:00",
          "2024-06-26T17:00:00",
          "2024-06-26T18:00:00",
          "2024-06-26T19:00:00",
          "2024-06-26T20:00:00",
          "2024-06-27T06:00:00",
          "2024-06-27T07:00:00",
          "2024-06-27T08:00:00",
          "2024-06-27T09:00:00",
          "2024-06-27T10:00:00",
          "2024-06-27T11:00:00",
          "2024-06-27T12:00:00",
          "2024-06-27T13:00:00",
          "2024-06-27T14:00:00",
          "2024-06-27T15:00:00",
          "2024-06-27T16:00:00",
          "2024-06-27T17:00:00",
          "2024-06-27T18:00:00",
          "2024-06-27T19:00:00",
          "2024-06-27T20:00:00",
          "2024-06-28T06:00:00",
          "2024-06-28T07:00:00",
          "2024-06-28T08:00:00",
          "2024-06-28T09:00:00",
          "2024-06-28T10:00:00",
          "2024-06-28T11:00:00",
          "2024-06-28T12:00:00",
          "2024-06-28T13:00:00",
          "2024-06-28T14:00:00",
          "2024-06-28T15:00:00",
          "2024-06-28T16:00:00",
          "2024-06-28T17:00:00",
          "2024-06-28T18:00:00",
          "2024-06-28T19:00:00",
          "2024-06-28T20:00:00",
          "2024-06-29T06:00:00",
          "2024-06-29T07:00:00",
          "2024-06-29T08:00:00",
          "2024-06-29T09:00:00",
          "2024-06-29T10:00:00",
          "2024-06-29T11:00:00",
          "2024-06-29T12:00:00",
          "2024-06-29T13:00:00",
          "2024-06-29T14:00:00",
          "2024-06-29T15:00:00",
          "2024-06-29T16:00:00",
          "2024-06-29T17:00:00",
          "2024-06-29T18:00:00",
          "2024-06-29T19:00:00",
          "2024-06-29T20:00:00",
          "2024-06-30T06:00:00",
          "2024-06-30T07:00:00",
          "2024-06-30T08:00:00",
          "2024-06-30T09:00:00",
          "2024-06-30T10:00:00",
          "2024-06-30T11:00:00",
          "2024-06-30T12:00:00",
          "2024-06-30T13:00:00",
          "2024-06-30T14:00:00",
          "2024-06-30T15:00:00",
          "2024-06-30T16:00:00",
          "2024-06-30T17:00:00",
          "2024-06-30T18:00:00",
          "2024-06-30T19:00:00",
          "2024-06-30T20:00:00"
         ],
         "xaxis": "x",
         "y": [
          5468.893093934827,
          5234.083308612272,
          2206.6885945868607,
          742.2311789473615,
          3689.778075334737,
          -1908.0487933449117,
          -6441.129757836139,
          -6298.311428067572,
          -2251.808366783188,
          1378.328556637427,
          1911.404570821146,
          4094.9153027080947,
          8255.590542829126,
          7988.500996231579,
          7972.468105185696,
          5455.502248232088,
          6271.622762986609,
          3291.539937071959,
          910.1371710061876,
          80.33073056859939,
          -2454.6226140147733,
          -3288.273093993319,
          -11217.36612410376,
          -3040.1604625069012,
          -591.4490044810946,
          1359.9046176356605,
          7892.15549100923,
          6879.530008927412,
          7842.3214258091275,
          9490.38238047812,
          6063.314821602497,
          3117.9797073948794,
          4972.16581289714,
          558.4344109531439,
          -1120.2637600305438,
          -3030.96755839838,
          -4539.804175187632,
          -1258.7999557583562,
          -1037.9536429200857,
          -2081.6020435284854,
          -538.6356215819487,
          7990.022030152118,
          2740.8068244459846,
          7668.236184955876,
          8413.177747843103,
          6552.763626028019,
          3919.9767984438286,
          3067.6531715321053,
          -285.62350708548274,
          -1144.459275157541,
          -2915.870470578675,
          -5725.965505308382,
          -4071.870826867296,
          -3002.4619773401582,
          -1389.6199697838242,
          279.9401290759406,
          -762.6107818469072,
          5870.749185590982,
          7767.502062295921,
          7953.746774451875,
          6214.959216967955,
          5682.829313131454,
          5102.370477105914,
          2766.9098058638265,
          -519.7657933104656,
          -7858.069426029454,
          -2452.73978574205,
          -896.2871605470109,
          -1922.1728006821822,
          -1552.187017432581,
          815.3629385323475,
          -4054.8842860875056,
          7665.521187861684,
          7913.976102634891,
          8772.096210818298,
          6019.063775359601,
          6067.941773781428,
          3577.716664851311,
          1827.3135932566038,
          -756.4956760178261,
          -1287.1204747395104,
          -3056.036416288106,
          -2998.0569730040197,
          -2592.986499840722,
          -2491.0070366848136,
          197.99799412558787,
          4180.43828517052,
          6692.537299230097,
          7600.2263420317895,
          8397.774220468655,
          6132.313849212164,
          7836.692635015114,
          4187.240056531339,
          2492.727730403454,
          -94.74757861549188,
          -2974.5915456959488,
          -3738.032565374788,
          -1396.7800292486281,
          -846.7404995118391,
          -923.0758288316379,
          792.7585175062532,
          3022.764115900516,
          7875.654644565696,
          7572.843883944631,
          8179.830061506355,
          5916.208879908582,
          7344.551671968234,
          3951.5882490775575,
          2204.429135728743,
          31.403145408124146,
          -1185.3453455045196,
          -4154.243189828235,
          -3656.0146228220665,
          -2055.3443565617463,
          -871.0949009817987,
          1818.5791947296893,
          227.96646957210942,
          7294.544682079474,
          8201.270596109614,
          8234.521828826204,
          6057.543636868583,
          5746.892977501223,
          3768.296440942392,
          1325.0075661210076,
          -76.25227313717278,
          -669.8748186819134,
          -3510.6703659331783,
          -3092.2913922491466,
          -1906.607767317911,
          -753.2143925229461,
          2172.5233936916966,
          3950.068012136272,
          5491.3116711919365,
          7275.978506967992,
          8322.347990861512,
          6487.282454889218,
          7027.680117603692,
          2768.288352959553,
          1532.7508725223825,
          -800.7052270551258,
          -687.8777224743112,
          -3519.2362306960395,
          -2383.5892355426918,
          -2318.3363183070783,
          166.14434264258762,
          1798.6752531276961,
          5516.520839902981,
          6742.512469067337,
          7513.8352321206485,
          7761.828299717742
         ],
         "yaxis": "y"
        }
       ],
       "layout": {
        "legend": {
         "title": {
          "text": "variable"
         },
         "tracegroupgap": 0
        },
        "margin": {
         "t": 60
        },
        "template": {
         "data": {
          "bar": [
           {
            "error_x": {
             "color": "#2a3f5f"
            },
            "error_y": {
             "color": "#2a3f5f"
            },
            "marker": {
             "line": {
              "color": "#E5ECF6",
              "width": 0.5
             },
             "pattern": {
              "fillmode": "overlay",
              "size": 10,
              "solidity": 0.2
             }
            },
            "type": "bar"
           }
          ],
          "barpolar": [
           {
            "marker": {
             "line": {
              "color": "#E5ECF6",
              "width": 0.5
             },
             "pattern": {
              "fillmode": "overlay",
              "size": 10,
              "solidity": 0.2
             }
            },
            "type": "barpolar"
           }
          ],
          "carpet": [
           {
            "aaxis": {
             "endlinecolor": "#2a3f5f",
             "gridcolor": "white",
             "linecolor": "white",
             "minorgridcolor": "white",
             "startlinecolor": "#2a3f5f"
            },
            "baxis": {
             "endlinecolor": "#2a3f5f",
             "gridcolor": "white",
             "linecolor": "white",
             "minorgridcolor": "white",
             "startlinecolor": "#2a3f5f"
            },
            "type": "carpet"
           }
          ],
          "choropleth": [
           {
            "colorbar": {
             "outlinewidth": 0,
             "ticks": ""
            },
            "type": "choropleth"
           }
          ],
          "contour": [
           {
            "colorbar": {
             "outlinewidth": 0,
             "ticks": ""
            },
            "colorscale": [
             [
              0,
              "#0d0887"
             ],
             [
              0.1111111111111111,
              "#46039f"
             ],
             [
              0.2222222222222222,
              "#7201a8"
             ],
             [
              0.3333333333333333,
              "#9c179e"
             ],
             [
              0.4444444444444444,
              "#bd3786"
             ],
             [
              0.5555555555555556,
              "#d8576b"
             ],
             [
              0.6666666666666666,
              "#ed7953"
             ],
             [
              0.7777777777777778,
              "#fb9f3a"
             ],
             [
              0.8888888888888888,
              "#fdca26"
             ],
             [
              1,
              "#f0f921"
             ]
            ],
            "type": "contour"
           }
          ],
          "contourcarpet": [
           {
            "colorbar": {
             "outlinewidth": 0,
             "ticks": ""
            },
            "type": "contourcarpet"
           }
          ],
          "heatmap": [
           {
            "colorbar": {
             "outlinewidth": 0,
             "ticks": ""
            },
            "colorscale": [
             [
              0,
              "#0d0887"
             ],
             [
              0.1111111111111111,
              "#46039f"
             ],
             [
              0.2222222222222222,
              "#7201a8"
             ],
             [
              0.3333333333333333,
              "#9c179e"
             ],
             [
              0.4444444444444444,
              "#bd3786"
             ],
             [
              0.5555555555555556,
              "#d8576b"
             ],
             [
              0.6666666666666666,
              "#ed7953"
             ],
             [
              0.7777777777777778,
              "#fb9f3a"
             ],
             [
              0.8888888888888888,
              "#fdca26"
             ],
             [
              1,
              "#f0f921"
             ]
            ],
            "type": "heatmap"
           }
          ],
          "heatmapgl": [
           {
            "colorbar": {
             "outlinewidth": 0,
             "ticks": ""
            },
            "colorscale": [
             [
              0,
              "#0d0887"
             ],
             [
              0.1111111111111111,
              "#46039f"
             ],
             [
              0.2222222222222222,
              "#7201a8"
             ],
             [
              0.3333333333333333,
              "#9c179e"
             ],
             [
              0.4444444444444444,
              "#bd3786"
             ],
             [
              0.5555555555555556,
              "#d8576b"
             ],
             [
              0.6666666666666666,
              "#ed7953"
             ],
             [
              0.7777777777777778,
              "#fb9f3a"
             ],
             [
              0.8888888888888888,
              "#fdca26"
             ],
             [
              1,
              "#f0f921"
             ]
            ],
            "type": "heatmapgl"
           }
          ],
          "histogram": [
           {
            "marker": {
             "pattern": {
              "fillmode": "overlay",
              "size": 10,
              "solidity": 0.2
             }
            },
            "type": "histogram"
           }
          ],
          "histogram2d": [
           {
            "colorbar": {
             "outlinewidth": 0,
             "ticks": ""
            },
            "colorscale": [
             [
              0,
              "#0d0887"
             ],
             [
              0.1111111111111111,
              "#46039f"
             ],
             [
              0.2222222222222222,
              "#7201a8"
             ],
             [
              0.3333333333333333,
              "#9c179e"
             ],
             [
              0.4444444444444444,
              "#bd3786"
             ],
             [
              0.5555555555555556,
              "#d8576b"
             ],
             [
              0.6666666666666666,
              "#ed7953"
             ],
             [
              0.7777777777777778,
              "#fb9f3a"
             ],
             [
              0.8888888888888888,
              "#fdca26"
             ],
             [
              1,
              "#f0f921"
             ]
            ],
            "type": "histogram2d"
           }
          ],
          "histogram2dcontour": [
           {
            "colorbar": {
             "outlinewidth": 0,
             "ticks": ""
            },
            "colorscale": [
             [
              0,
              "#0d0887"
             ],
             [
              0.1111111111111111,
              "#46039f"
             ],
             [
              0.2222222222222222,
              "#7201a8"
             ],
             [
              0.3333333333333333,
              "#9c179e"
             ],
             [
              0.4444444444444444,
              "#bd3786"
             ],
             [
              0.5555555555555556,
              "#d8576b"
             ],
             [
              0.6666666666666666,
              "#ed7953"
             ],
             [
              0.7777777777777778,
              "#fb9f3a"
             ],
             [
              0.8888888888888888,
              "#fdca26"
             ],
             [
              1,
              "#f0f921"
             ]
            ],
            "type": "histogram2dcontour"
           }
          ],
          "mesh3d": [
           {
            "colorbar": {
             "outlinewidth": 0,
             "ticks": ""
            },
            "type": "mesh3d"
           }
          ],
          "parcoords": [
           {
            "line": {
             "colorbar": {
              "outlinewidth": 0,
              "ticks": ""
             }
            },
            "type": "parcoords"
           }
          ],
          "pie": [
           {
            "automargin": true,
            "type": "pie"
           }
          ],
          "scatter": [
           {
            "fillpattern": {
             "fillmode": "overlay",
             "size": 10,
             "solidity": 0.2
            },
            "type": "scatter"
           }
          ],
          "scatter3d": [
           {
            "line": {
             "colorbar": {
              "outlinewidth": 0,
              "ticks": ""
             }
            },
            "marker": {
             "colorbar": {
              "outlinewidth": 0,
              "ticks": ""
             }
            },
            "type": "scatter3d"
           }
          ],
          "scattercarpet": [
           {
            "marker": {
             "colorbar": {
              "outlinewidth": 0,
              "ticks": ""
             }
            },
            "type": "scattercarpet"
           }
          ],
          "scattergeo": [
           {
            "marker": {
             "colorbar": {
              "outlinewidth": 0,
              "ticks": ""
             }
            },
            "type": "scattergeo"
           }
          ],
          "scattergl": [
           {
            "marker": {
             "colorbar": {
              "outlinewidth": 0,
              "ticks": ""
             }
            },
            "type": "scattergl"
           }
          ],
          "scattermapbox": [
           {
            "marker": {
             "colorbar": {
              "outlinewidth": 0,
              "ticks": ""
             }
            },
            "type": "scattermapbox"
           }
          ],
          "scatterpolar": [
           {
            "marker": {
             "colorbar": {
              "outlinewidth": 0,
              "ticks": ""
             }
            },
            "type": "scatterpolar"
           }
          ],
          "scatterpolargl": [
           {
            "marker": {
             "colorbar": {
              "outlinewidth": 0,
              "ticks": ""
             }
            },
            "type": "scatterpolargl"
           }
          ],
          "scatterternary": [
           {
            "marker": {
             "colorbar": {
              "outlinewidth": 0,
              "ticks": ""
             }
            },
            "type": "scatterternary"
           }
          ],
          "surface": [
           {
            "colorbar": {
             "outlinewidth": 0,
             "ticks": ""
            },
            "colorscale": [
             [
              0,
              "#0d0887"
             ],
             [
              0.1111111111111111,
              "#46039f"
             ],
             [
              0.2222222222222222,
              "#7201a8"
             ],
             [
              0.3333333333333333,
              "#9c179e"
             ],
             [
              0.4444444444444444,
              "#bd3786"
             ],
             [
              0.5555555555555556,
              "#d8576b"
             ],
             [
              0.6666666666666666,
              "#ed7953"
             ],
             [
              0.7777777777777778,
              "#fb9f3a"
             ],
             [
              0.8888888888888888,
              "#fdca26"
             ],
             [
              1,
              "#f0f921"
             ]
            ],
            "type": "surface"
           }
          ],
          "table": [
           {
            "cells": {
             "fill": {
              "color": "#EBF0F8"
             },
             "line": {
              "color": "white"
             }
            },
            "header": {
             "fill": {
              "color": "#C8D4E3"
             },
             "line": {
              "color": "white"
             }
            },
            "type": "table"
           }
          ]
         },
         "layout": {
          "annotationdefaults": {
           "arrowcolor": "#2a3f5f",
           "arrowhead": 0,
           "arrowwidth": 1
          },
          "autotypenumbers": "strict",
          "coloraxis": {
           "colorbar": {
            "outlinewidth": 0,
            "ticks": ""
           }
          },
          "colorscale": {
           "diverging": [
            [
             0,
             "#8e0152"
            ],
            [
             0.1,
             "#c51b7d"
            ],
            [
             0.2,
             "#de77ae"
            ],
            [
             0.3,
             "#f1b6da"
            ],
            [
             0.4,
             "#fde0ef"
            ],
            [
             0.5,
             "#f7f7f7"
            ],
            [
             0.6,
             "#e6f5d0"
            ],
            [
             0.7,
             "#b8e186"
            ],
            [
             0.8,
             "#7fbc41"
            ],
            [
             0.9,
             "#4d9221"
            ],
            [
             1,
             "#276419"
            ]
           ],
           "sequential": [
            [
             0,
             "#0d0887"
            ],
            [
             0.1111111111111111,
             "#46039f"
            ],
            [
             0.2222222222222222,
             "#7201a8"
            ],
            [
             0.3333333333333333,
             "#9c179e"
            ],
            [
             0.4444444444444444,
             "#bd3786"
            ],
            [
             0.5555555555555556,
             "#d8576b"
            ],
            [
             0.6666666666666666,
             "#ed7953"
            ],
            [
             0.7777777777777778,
             "#fb9f3a"
            ],
            [
             0.8888888888888888,
             "#fdca26"
            ],
            [
             1,
             "#f0f921"
            ]
           ],
           "sequentialminus": [
            [
             0,
             "#0d0887"
            ],
            [
             0.1111111111111111,
             "#46039f"
            ],
            [
             0.2222222222222222,
             "#7201a8"
            ],
            [
             0.3333333333333333,
             "#9c179e"
            ],
            [
             0.4444444444444444,
             "#bd3786"
            ],
            [
             0.5555555555555556,
             "#d8576b"
            ],
            [
             0.6666666666666666,
             "#ed7953"
            ],
            [
             0.7777777777777778,
             "#fb9f3a"
            ],
            [
             0.8888888888888888,
             "#fdca26"
            ],
            [
             1,
             "#f0f921"
            ]
           ]
          },
          "colorway": [
           "#636efa",
           "#EF553B",
           "#00cc96",
           "#ab63fa",
           "#FFA15A",
           "#19d3f3",
           "#FF6692",
           "#B6E880",
           "#FF97FF",
           "#FECB52"
          ],
          "font": {
           "color": "#2a3f5f"
          },
          "geo": {
           "bgcolor": "white",
           "lakecolor": "white",
           "landcolor": "#E5ECF6",
           "showlakes": true,
           "showland": true,
           "subunitcolor": "white"
          },
          "hoverlabel": {
           "align": "left"
          },
          "hovermode": "closest",
          "mapbox": {
           "style": "light"
          },
          "paper_bgcolor": "white",
          "plot_bgcolor": "#E5ECF6",
          "polar": {
           "angularaxis": {
            "gridcolor": "white",
            "linecolor": "white",
            "ticks": ""
           },
           "bgcolor": "#E5ECF6",
           "radialaxis": {
            "gridcolor": "white",
            "linecolor": "white",
            "ticks": ""
           }
          },
          "scene": {
           "xaxis": {
            "backgroundcolor": "#E5ECF6",
            "gridcolor": "white",
            "gridwidth": 2,
            "linecolor": "white",
            "showbackground": true,
            "ticks": "",
            "zerolinecolor": "white"
           },
           "yaxis": {
            "backgroundcolor": "#E5ECF6",
            "gridcolor": "white",
            "gridwidth": 2,
            "linecolor": "white",
            "showbackground": true,
            "ticks": "",
            "zerolinecolor": "white"
           },
           "zaxis": {
            "backgroundcolor": "#E5ECF6",
            "gridcolor": "white",
            "gridwidth": 2,
            "linecolor": "white",
            "showbackground": true,
            "ticks": "",
            "zerolinecolor": "white"
           }
          },
          "shapedefaults": {
           "line": {
            "color": "#2a3f5f"
           }
          },
          "ternary": {
           "aaxis": {
            "gridcolor": "white",
            "linecolor": "white",
            "ticks": ""
           },
           "baxis": {
            "gridcolor": "white",
            "linecolor": "white",
            "ticks": ""
           },
           "bgcolor": "#E5ECF6",
           "caxis": {
            "gridcolor": "white",
            "linecolor": "white",
            "ticks": ""
           }
          },
          "title": {
           "x": 0.05
          },
          "xaxis": {
           "automargin": true,
           "gridcolor": "white",
           "linecolor": "white",
           "ticks": "",
           "title": {
            "standoff": 15
           },
           "zerolinecolor": "white",
           "zerolinewidth": 2
          },
          "yaxis": {
           "automargin": true,
           "gridcolor": "white",
           "linecolor": "white",
           "ticks": "",
           "title": {
            "standoff": 15
           },
           "zerolinecolor": "white",
           "zerolinewidth": 2
          }
         }
        },
        "xaxis": {
         "anchor": "y",
         "domain": [
          0,
          1
         ],
         "title": {
          "text": "index"
         }
        },
        "yaxis": {
         "anchor": "x",
         "domain": [
          0,
          1
         ],
         "title": {
          "text": "value"
         }
        }
       }
      }
     },
     "metadata": {},
     "output_type": "display_data"
    },
    {
     "name": "stdout",
     "output_type": "stream",
     "text": [
      "Removing Nan Values - Total Dropped Days:  2\n",
      "Removing Incomplete Days - Total Dropped Days:  0\n",
      "========================================\n",
      "Chapel Street\n",
      "========================================\n",
      "Coordinates 13.11072063446045°N -59.590179443359375°E\n",
      "Elevation 6.0 m asl\n",
      "Timezone b'America/Barbados' b'GMT-4'\n",
      "Timezone difference to GMT+0 -14400 s\n",
      "<openmeteo_sdk.VariablesWithTime.VariablesWithTime object at 0x000002152E6C94E0>\n",
      "Coordinates 13.125°N -59.625°E\n",
      "Elevation 6.0 m asl\n",
      "Timezone b'America/Barbados' b'GMT-4'\n",
      "Timezone difference to GMT+0 -14400 s\n",
      "<openmeteo_sdk.VariablesWithTime.VariablesWithTime object at 0x000002152E6C8970>\n",
      "                               Mean    Std    Min     Max\n",
      "NetLoadDemand                914.80 419.45 264.00 1572.00\n",
      "temperature_2m_historic       28.71   1.93  23.30   33.20\n",
      "temperature_2m_forecast       28.61   1.56  24.78   32.43\n",
      "shortwave_radiation_historic 402.00 323.76   0.00 1022.00\n",
      "shortwave_radiation_forecast 404.57 322.15   0.00  987.00\n",
      "       NetLoadDemand  temperature_2m_historic  temperature_2m_forecast  shortwave_radiation_historic  shortwave_radiation_forecast\n",
      "count         210.00                   210.00                   210.00                        210.00                        210.00\n",
      "mean            0.58                     0.61                     0.60                          0.41                          0.43\n",
      "std             0.35                     0.17                     0.15                          0.31                          0.32\n",
      "min             0.03                     0.19                     0.28                          0.00                          0.00\n",
      "25%             0.21                     0.47                     0.47                          0.11                          0.11\n",
      "50%             0.69                     0.64                     0.61                          0.43                          0.46\n",
      "75%             0.93                     0.76                     0.73                          0.70                          0.73\n",
      "max             1.02                     0.91                     0.93                          0.92                          0.93\n",
      "Current: 2024-06-18 06:00:00 to 2024-06-18 20:00:00, Previous: 2024-06-17 06:00:00 to 2024-06-17 20:00:00\n",
      "Current: 2024-06-19 06:00:00 to 2024-06-19 20:00:00, Previous: 2024-06-18 06:00:00 to 2024-06-18 20:00:00\n",
      "Current: 2024-06-20 06:00:00 to 2024-06-20 20:00:00, Previous: 2024-06-19 06:00:00 to 2024-06-19 20:00:00\n",
      "Current: 2024-06-21 06:00:00 to 2024-06-21 20:00:00, Previous: 2024-06-20 06:00:00 to 2024-06-20 20:00:00\n",
      "Current: 2024-06-22 06:00:00 to 2024-06-22 20:00:00, Previous: 2024-06-21 06:00:00 to 2024-06-21 20:00:00\n",
      "Current: 2024-06-23 06:00:00 to 2024-06-23 20:00:00, Previous: 2024-06-22 06:00:00 to 2024-06-22 20:00:00\n",
      "Current: 2024-06-24 06:00:00 to 2024-06-24 20:00:00, Previous: 2024-06-23 06:00:00 to 2024-06-23 20:00:00\n",
      "Current: 2024-06-25 06:00:00 to 2024-06-25 20:00:00, Previous: 2024-06-24 06:00:00 to 2024-06-24 20:00:00\n",
      "Current: 2024-06-26 06:00:00 to 2024-06-26 20:00:00, Previous: 2024-06-25 06:00:00 to 2024-06-25 20:00:00\n",
      "Current: 2024-06-27 06:00:00 to 2024-06-27 20:00:00, Previous: 2024-06-26 06:00:00 to 2024-06-26 20:00:00\n",
      "Current: 2024-06-28 06:00:00 to 2024-06-28 20:00:00, Previous: 2024-06-27 06:00:00 to 2024-06-27 20:00:00\n",
      "Current: 2024-06-29 06:00:00 to 2024-06-29 20:00:00, Previous: 2024-06-28 06:00:00 to 2024-06-28 20:00:00\n",
      "Current: 2024-06-30 06:00:00 to 2024-06-30 20:00:00, Previous: 2024-06-29 06:00:00 to 2024-06-29 20:00:00\n",
      "WARNING:tensorflow:5 out of the last 5 calls to <function Model.make_predict_function.<locals>.predict_function at 0x000002152FF027A0> triggered tf.function retracing. Tracing is expensive and the excessive number of tracings could be due to (1) creating @tf.function repeatedly in a loop, (2) passing tensors with different shapes, (3) passing Python objects instead of tensors. For (1), please define your @tf.function outside of the loop. For (2), @tf.function has reduce_retracing=True option that can avoid unnecessary retracing. For (3), please refer to https://www.tensorflow.org/guide/function#controlling_retracing and https://www.tensorflow.org/api_docs/python/tf/function for  more details.\n",
      "1/1 [==============================] - 0s 301ms/step\n",
      "WARNING:tensorflow:6 out of the last 6 calls to <function Model.make_predict_function.<locals>.predict_function at 0x00000215346CAD40> triggered tf.function retracing. Tracing is expensive and the excessive number of tracings could be due to (1) creating @tf.function repeatedly in a loop, (2) passing tensors with different shapes, (3) passing Python objects instead of tensors. For (1), please define your @tf.function outside of the loop. For (2), @tf.function has reduce_retracing=True option that can avoid unnecessary retracing. For (3), please refer to https://www.tensorflow.org/guide/function#controlling_retracing and https://www.tensorflow.org/api_docs/python/tf/function for  more details.\n",
      "1/1 [==============================] - 0s 55ms/step\n",
      "1/1 [==============================] - 0s 415ms/step\n",
      "1/1 [==============================] - 0s 424ms/step\n",
      "(13, 15) (13, 15)\n",
      "(13, 15) (13, 15)\n",
      "(13, 143) (13, 1, 143) (13, 15) (13, 15) (13, 15) (13, 15)\n",
      "(13, 15) (13, 15) (13, 15) (13, 15)\n"
     ]
    },
    {
     "data": {
      "application/vnd.plotly.v1+json": {
       "config": {
        "plotlyServerURL": "https://plot.ly"
       },
       "data": [
        {
         "hovertemplate": "variable=Actual<br>index=%{x}<br>value=%{y}<extra></extra>",
         "legendgroup": "Actual",
         "line": {
          "color": "#636efa",
          "dash": "solid"
         },
         "marker": {
          "symbol": "circle"
         },
         "mode": "lines",
         "name": "Actual",
         "orientation": "v",
         "showlegend": true,
         "type": "scatter",
         "x": [
          "2024-06-21T06:00:00",
          "2024-06-21T07:00:00",
          "2024-06-21T08:00:00",
          "2024-06-21T09:00:00",
          "2024-06-21T10:00:00",
          "2024-06-21T11:00:00",
          "2024-06-21T12:00:00",
          "2024-06-21T13:00:00",
          "2024-06-21T14:00:00",
          "2024-06-21T15:00:00",
          "2024-06-21T16:00:00",
          "2024-06-21T17:00:00",
          "2024-06-21T18:00:00",
          "2024-06-21T19:00:00",
          "2024-06-21T20:00:00",
          "2024-06-22T06:00:00",
          "2024-06-22T07:00:00",
          "2024-06-22T08:00:00",
          "2024-06-22T09:00:00",
          "2024-06-22T10:00:00",
          "2024-06-22T11:00:00",
          "2024-06-22T12:00:00",
          "2024-06-22T13:00:00",
          "2024-06-22T14:00:00",
          "2024-06-22T15:00:00",
          "2024-06-22T16:00:00",
          "2024-06-22T17:00:00",
          "2024-06-22T18:00:00",
          "2024-06-22T19:00:00",
          "2024-06-22T20:00:00",
          "2024-06-23T06:00:00",
          "2024-06-23T07:00:00",
          "2024-06-23T08:00:00",
          "2024-06-23T09:00:00",
          "2024-06-23T10:00:00",
          "2024-06-23T11:00:00",
          "2024-06-23T12:00:00",
          "2024-06-23T13:00:00",
          "2024-06-23T14:00:00",
          "2024-06-23T15:00:00",
          "2024-06-23T16:00:00",
          "2024-06-23T17:00:00",
          "2024-06-23T18:00:00",
          "2024-06-23T19:00:00",
          "2024-06-23T20:00:00",
          "2024-06-24T06:00:00",
          "2024-06-24T07:00:00",
          "2024-06-24T08:00:00",
          "2024-06-24T09:00:00",
          "2024-06-24T10:00:00",
          "2024-06-24T11:00:00",
          "2024-06-24T12:00:00",
          "2024-06-24T13:00:00",
          "2024-06-24T14:00:00",
          "2024-06-24T15:00:00",
          "2024-06-24T16:00:00",
          "2024-06-24T17:00:00",
          "2024-06-24T18:00:00",
          "2024-06-24T19:00:00",
          "2024-06-24T20:00:00",
          "2024-06-25T06:00:00",
          "2024-06-25T07:00:00",
          "2024-06-25T08:00:00",
          "2024-06-25T09:00:00",
          "2024-06-25T10:00:00",
          "2024-06-25T11:00:00",
          "2024-06-25T12:00:00",
          "2024-06-25T13:00:00",
          "2024-06-25T14:00:00",
          "2024-06-25T15:00:00",
          "2024-06-25T16:00:00",
          "2024-06-25T17:00:00",
          "2024-06-25T18:00:00",
          "2024-06-25T19:00:00",
          "2024-06-25T20:00:00",
          "2024-06-26T06:00:00",
          "2024-06-26T07:00:00",
          "2024-06-26T08:00:00",
          "2024-06-26T09:00:00",
          "2024-06-26T10:00:00",
          "2024-06-26T11:00:00",
          "2024-06-26T12:00:00",
          "2024-06-26T13:00:00",
          "2024-06-26T14:00:00",
          "2024-06-26T15:00:00",
          "2024-06-26T16:00:00",
          "2024-06-26T17:00:00",
          "2024-06-26T18:00:00",
          "2024-06-26T19:00:00",
          "2024-06-26T20:00:00",
          "2024-06-27T06:00:00",
          "2024-06-27T07:00:00",
          "2024-06-27T08:00:00",
          "2024-06-27T09:00:00",
          "2024-06-27T10:00:00",
          "2024-06-27T11:00:00",
          "2024-06-27T12:00:00",
          "2024-06-27T13:00:00",
          "2024-06-27T14:00:00",
          "2024-06-27T15:00:00",
          "2024-06-27T16:00:00",
          "2024-06-27T17:00:00",
          "2024-06-27T18:00:00",
          "2024-06-27T19:00:00",
          "2024-06-27T20:00:00",
          "2024-06-28T06:00:00",
          "2024-06-28T07:00:00",
          "2024-06-28T08:00:00",
          "2024-06-28T09:00:00",
          "2024-06-28T10:00:00",
          "2024-06-28T11:00:00",
          "2024-06-28T12:00:00",
          "2024-06-28T13:00:00",
          "2024-06-28T14:00:00",
          "2024-06-28T15:00:00",
          "2024-06-28T16:00:00",
          "2024-06-28T17:00:00",
          "2024-06-28T18:00:00",
          "2024-06-28T19:00:00",
          "2024-06-28T20:00:00",
          "2024-06-29T06:00:00",
          "2024-06-29T07:00:00",
          "2024-06-29T08:00:00",
          "2024-06-29T09:00:00",
          "2024-06-29T10:00:00",
          "2024-06-29T11:00:00",
          "2024-06-29T12:00:00",
          "2024-06-29T13:00:00",
          "2024-06-29T14:00:00",
          "2024-06-29T15:00:00",
          "2024-06-29T16:00:00",
          "2024-06-29T17:00:00",
          "2024-06-29T18:00:00",
          "2024-06-29T19:00:00",
          "2024-06-29T20:00:00",
          "2024-06-30T06:00:00",
          "2024-06-30T07:00:00",
          "2024-06-30T08:00:00",
          "2024-06-30T09:00:00",
          "2024-06-30T10:00:00",
          "2024-06-30T11:00:00",
          "2024-06-30T12:00:00",
          "2024-06-30T13:00:00",
          "2024-06-30T14:00:00",
          "2024-06-30T15:00:00",
          "2024-06-30T16:00:00",
          "2024-06-30T17:00:00",
          "2024-06-30T18:00:00",
          "2024-06-30T19:00:00",
          "2024-06-30T20:00:00"
         ],
         "xaxis": "x",
         "y": [
          388,
          620,
          972,
          1262.4,
          1419,
          1497,
          1508,
          1508,
          1496,
          1494,
          1485,
          1452,
          1226,
          792,
          534,
          396,
          453,
          696,
          1028,
          1238.4,
          1296,
          1336,
          1326,
          1344,
          1326,
          1248,
          1134,
          823.2,
          540,
          426,
          360,
          366,
          366,
          388,
          429,
          486,
          486,
          512,
          516,
          510,
          468,
          408,
          396,
          408,
          384,
          420,
          604.8,
          1015.2000000000002,
          1291.2,
          1401,
          1494,
          1524,
          1560,
          1569,
          1544,
          1548,
          1476,
          1072,
          744,
          573,
          399,
          667.2,
          1005.6,
          1288.8,
          1516.8,
          1524,
          1524,
          1557,
          1593,
          1564,
          1545,
          1452,
          1062,
          708,
          488,
          384,
          576,
          946.2857142857143,
          1272,
          1470,
          1524,
          1532,
          1512,
          1494,
          1524,
          1504,
          1428,
          1066.2857142857142,
          748,
          606,
          396,
          542.4,
          960,
          1226.4,
          1443,
          1540.8,
          1536,
          1512,
          1500,
          1508,
          1500,
          1444,
          1128,
          717.6,
          556,
          396,
          633.6,
          1012.0000000000001,
          1264.8,
          1458,
          1521,
          1503,
          1506,
          1532,
          1524,
          1506,
          1380,
          1267.2,
          850,
          573,
          400,
          512,
          684,
          933.5999999999999,
          1180,
          1290,
          1302,
          1299,
          1284,
          1196,
          1149,
          1044,
          756,
          470.4,
          375,
          318,
          309,
          300,
          340,
          345,
          384,
          396,
          408,
          402,
          392,
          345,
          324,
          320,
          312,
          312
         ],
         "yaxis": "y"
        },
        {
         "hovertemplate": "variable=ANN_RLS<br>index=%{x}<br>value=%{y}<extra></extra>",
         "legendgroup": "ANN_RLS",
         "line": {
          "color": "#EF553B",
          "dash": "solid"
         },
         "marker": {
          "symbol": "circle"
         },
         "mode": "lines",
         "name": "ANN_RLS",
         "orientation": "v",
         "showlegend": true,
         "type": "scatter",
         "x": [
          "2024-06-21T06:00:00",
          "2024-06-21T07:00:00",
          "2024-06-21T08:00:00",
          "2024-06-21T09:00:00",
          "2024-06-21T10:00:00",
          "2024-06-21T11:00:00",
          "2024-06-21T12:00:00",
          "2024-06-21T13:00:00",
          "2024-06-21T14:00:00",
          "2024-06-21T15:00:00",
          "2024-06-21T16:00:00",
          "2024-06-21T17:00:00",
          "2024-06-21T18:00:00",
          "2024-06-21T19:00:00",
          "2024-06-21T20:00:00",
          "2024-06-22T06:00:00",
          "2024-06-22T07:00:00",
          "2024-06-22T08:00:00",
          "2024-06-22T09:00:00",
          "2024-06-22T10:00:00",
          "2024-06-22T11:00:00",
          "2024-06-22T12:00:00",
          "2024-06-22T13:00:00",
          "2024-06-22T14:00:00",
          "2024-06-22T15:00:00",
          "2024-06-22T16:00:00",
          "2024-06-22T17:00:00",
          "2024-06-22T18:00:00",
          "2024-06-22T19:00:00",
          "2024-06-22T20:00:00",
          "2024-06-23T06:00:00",
          "2024-06-23T07:00:00",
          "2024-06-23T08:00:00",
          "2024-06-23T09:00:00",
          "2024-06-23T10:00:00",
          "2024-06-23T11:00:00",
          "2024-06-23T12:00:00",
          "2024-06-23T13:00:00",
          "2024-06-23T14:00:00",
          "2024-06-23T15:00:00",
          "2024-06-23T16:00:00",
          "2024-06-23T17:00:00",
          "2024-06-23T18:00:00",
          "2024-06-23T19:00:00",
          "2024-06-23T20:00:00",
          "2024-06-24T06:00:00",
          "2024-06-24T07:00:00",
          "2024-06-24T08:00:00",
          "2024-06-24T09:00:00",
          "2024-06-24T10:00:00",
          "2024-06-24T11:00:00",
          "2024-06-24T12:00:00",
          "2024-06-24T13:00:00",
          "2024-06-24T14:00:00",
          "2024-06-24T15:00:00",
          "2024-06-24T16:00:00",
          "2024-06-24T17:00:00",
          "2024-06-24T18:00:00",
          "2024-06-24T19:00:00",
          "2024-06-24T20:00:00",
          "2024-06-25T06:00:00",
          "2024-06-25T07:00:00",
          "2024-06-25T08:00:00",
          "2024-06-25T09:00:00",
          "2024-06-25T10:00:00",
          "2024-06-25T11:00:00",
          "2024-06-25T12:00:00",
          "2024-06-25T13:00:00",
          "2024-06-25T14:00:00",
          "2024-06-25T15:00:00",
          "2024-06-25T16:00:00",
          "2024-06-25T17:00:00",
          "2024-06-25T18:00:00",
          "2024-06-25T19:00:00",
          "2024-06-25T20:00:00",
          "2024-06-26T06:00:00",
          "2024-06-26T07:00:00",
          "2024-06-26T08:00:00",
          "2024-06-26T09:00:00",
          "2024-06-26T10:00:00",
          "2024-06-26T11:00:00",
          "2024-06-26T12:00:00",
          "2024-06-26T13:00:00",
          "2024-06-26T14:00:00",
          "2024-06-26T15:00:00",
          "2024-06-26T16:00:00",
          "2024-06-26T17:00:00",
          "2024-06-26T18:00:00",
          "2024-06-26T19:00:00",
          "2024-06-26T20:00:00",
          "2024-06-27T06:00:00",
          "2024-06-27T07:00:00",
          "2024-06-27T08:00:00",
          "2024-06-27T09:00:00",
          "2024-06-27T10:00:00",
          "2024-06-27T11:00:00",
          "2024-06-27T12:00:00",
          "2024-06-27T13:00:00",
          "2024-06-27T14:00:00",
          "2024-06-27T15:00:00",
          "2024-06-27T16:00:00",
          "2024-06-27T17:00:00",
          "2024-06-27T18:00:00",
          "2024-06-27T19:00:00",
          "2024-06-27T20:00:00",
          "2024-06-28T06:00:00",
          "2024-06-28T07:00:00",
          "2024-06-28T08:00:00",
          "2024-06-28T09:00:00",
          "2024-06-28T10:00:00",
          "2024-06-28T11:00:00",
          "2024-06-28T12:00:00",
          "2024-06-28T13:00:00",
          "2024-06-28T14:00:00",
          "2024-06-28T15:00:00",
          "2024-06-28T16:00:00",
          "2024-06-28T17:00:00",
          "2024-06-28T18:00:00",
          "2024-06-28T19:00:00",
          "2024-06-28T20:00:00",
          "2024-06-29T06:00:00",
          "2024-06-29T07:00:00",
          "2024-06-29T08:00:00",
          "2024-06-29T09:00:00",
          "2024-06-29T10:00:00",
          "2024-06-29T11:00:00",
          "2024-06-29T12:00:00",
          "2024-06-29T13:00:00",
          "2024-06-29T14:00:00",
          "2024-06-29T15:00:00",
          "2024-06-29T16:00:00",
          "2024-06-29T17:00:00",
          "2024-06-29T18:00:00",
          "2024-06-29T19:00:00",
          "2024-06-29T20:00:00",
          "2024-06-30T06:00:00",
          "2024-06-30T07:00:00",
          "2024-06-30T08:00:00",
          "2024-06-30T09:00:00",
          "2024-06-30T10:00:00",
          "2024-06-30T11:00:00",
          "2024-06-30T12:00:00",
          "2024-06-30T13:00:00",
          "2024-06-30T14:00:00",
          "2024-06-30T15:00:00",
          "2024-06-30T16:00:00",
          "2024-06-30T17:00:00",
          "2024-06-30T18:00:00",
          "2024-06-30T19:00:00",
          "2024-06-30T20:00:00"
         ],
         "xaxis": "x",
         "y": [
          375.20213292299593,
          547.8451830106262,
          837.2335850541435,
          1209.7110508752432,
          1401.446742036057,
          1456.2390164736537,
          1472.490388253555,
          1517.598417772212,
          1539.3379609879435,
          1589.4785754347631,
          1480.521987635842,
          1363.4054566922678,
          1267.3098495948047,
          928.2277609623168,
          543.5528768913078,
          334.95616843525994,
          489.57200916668404,
          732.8706904579701,
          995.6092975549956,
          1161.2610251859605,
          1245.777663932301,
          1225.0229997592724,
          1179.094579320881,
          1210.6270605159984,
          1189.8172063081897,
          1160.4818428817857,
          995.4873140597613,
          892.4254885384385,
          561.6937043695664,
          429.4913938255774,
          260.85231716690356,
          394.4559748256612,
          359.02782426925205,
          427.7946622603141,
          262.97620798465795,
          539.5004427635183,
          625.034108640045,
          553.456342092534,
          712.3954926198763,
          646.3492860558688,
          573.7841294092159,
          469.9285611234357,
          408.90572267205994,
          393.8039085283181,
          475.6312739671803,
          462.0767696933657,
          626.7531164276138,
          888.1963748774907,
          1164.1390868680164,
          1406.254914804767,
          1553.3596855537085,
          1438.7627518413626,
          1460.7343710507525,
          1431.5618634648347,
          1454.2716432078762,
          1515.5450418571313,
          1356.932349897824,
          972.390920206262,
          663.8779187807477,
          507.6701857945302,
          399.89806307252144,
          604.8625354440671,
          1027.3487708383677,
          1236.8698228442108,
          1471.6460338921963,
          1424.8859234562935,
          1439.3235681932288,
          1534.944658390883,
          1489.8486715130043,
          1518.6373942764826,
          1493.3921828011555,
          1440.1576241537934,
          1027.9502211894924,
          715.3866383759164,
          566.1440411466467,
          376.86323257132983,
          648.2461787365114,
          1001.1662556028164,
          1227.3966257239094,
          1477.138066205379,
          1453.2807326989803,
          1571.1189464421368,
          1536.819111151851,
          1551.9748386835163,
          1484.5570274319941,
          1567.1234224927093,
          1400.8224414460497,
          1043.0393135210984,
          690.4240134482366,
          546.1059498556704,
          381.63904567269697,
          623.3339769106415,
          944.4949525868083,
          1269.8207427776233,
          1477.39151517403,
          1511.6790271563918,
          1544.9276116531698,
          1504.3789332021227,
          1475.5812460608427,
          1483.2332286107114,
          1469.923518496101,
          1409.7282440438855,
          1013.3986640864811,
          699.6502374658755,
          545.5597831402185,
          362.1958378066163,
          566.2304364208991,
          940.8676658316831,
          1204.8118867491467,
          1390.6172202599469,
          1565.1560272804213,
          1552.1194275802814,
          1499.6500410198469,
          1511.322722594391,
          1519.5905929110168,
          1528.9159898686312,
          1440.920926085354,
          1258.1501729386698,
          792.9093611456831,
          572.0889075959053,
          356.6178360606806,
          480.3251297849505,
          747.0596636319501,
          1002.4230498436506,
          1131.3385589964623,
          1194.9574938428734,
          1208.9400318301575,
          1140.0568671848732,
          1219.0779237768907,
          1190.6006019570616,
          1128.0759518260393,
          1056.8774124174263,
          872.2950850770517,
          552.7765340752858,
          452.9246895385685,
          281.0529365182475,
          393.7894459724098,
          380.9949103160675,
          465.1822739819273,
          434.49743087031675,
          645.0751016181343,
          605.133373086655,
          581.4671442508127,
          571.0679820707257,
          518.9714277782849,
          488.0670960575827,
          491.20024323811253,
          401.9554845644798,
          352.16023793798144,
          427.0997911482905
         ],
         "yaxis": "y"
        },
        {
         "hovertemplate": "variable=LSTM_RLS<br>index=%{x}<br>value=%{y}<extra></extra>",
         "legendgroup": "LSTM_RLS",
         "line": {
          "color": "#00cc96",
          "dash": "solid"
         },
         "marker": {
          "symbol": "circle"
         },
         "mode": "lines",
         "name": "LSTM_RLS",
         "orientation": "v",
         "showlegend": true,
         "type": "scatter",
         "x": [
          "2024-06-21T06:00:00",
          "2024-06-21T07:00:00",
          "2024-06-21T08:00:00",
          "2024-06-21T09:00:00",
          "2024-06-21T10:00:00",
          "2024-06-21T11:00:00",
          "2024-06-21T12:00:00",
          "2024-06-21T13:00:00",
          "2024-06-21T14:00:00",
          "2024-06-21T15:00:00",
          "2024-06-21T16:00:00",
          "2024-06-21T17:00:00",
          "2024-06-21T18:00:00",
          "2024-06-21T19:00:00",
          "2024-06-21T20:00:00",
          "2024-06-22T06:00:00",
          "2024-06-22T07:00:00",
          "2024-06-22T08:00:00",
          "2024-06-22T09:00:00",
          "2024-06-22T10:00:00",
          "2024-06-22T11:00:00",
          "2024-06-22T12:00:00",
          "2024-06-22T13:00:00",
          "2024-06-22T14:00:00",
          "2024-06-22T15:00:00",
          "2024-06-22T16:00:00",
          "2024-06-22T17:00:00",
          "2024-06-22T18:00:00",
          "2024-06-22T19:00:00",
          "2024-06-22T20:00:00",
          "2024-06-23T06:00:00",
          "2024-06-23T07:00:00",
          "2024-06-23T08:00:00",
          "2024-06-23T09:00:00",
          "2024-06-23T10:00:00",
          "2024-06-23T11:00:00",
          "2024-06-23T12:00:00",
          "2024-06-23T13:00:00",
          "2024-06-23T14:00:00",
          "2024-06-23T15:00:00",
          "2024-06-23T16:00:00",
          "2024-06-23T17:00:00",
          "2024-06-23T18:00:00",
          "2024-06-23T19:00:00",
          "2024-06-23T20:00:00",
          "2024-06-24T06:00:00",
          "2024-06-24T07:00:00",
          "2024-06-24T08:00:00",
          "2024-06-24T09:00:00",
          "2024-06-24T10:00:00",
          "2024-06-24T11:00:00",
          "2024-06-24T12:00:00",
          "2024-06-24T13:00:00",
          "2024-06-24T14:00:00",
          "2024-06-24T15:00:00",
          "2024-06-24T16:00:00",
          "2024-06-24T17:00:00",
          "2024-06-24T18:00:00",
          "2024-06-24T19:00:00",
          "2024-06-24T20:00:00",
          "2024-06-25T06:00:00",
          "2024-06-25T07:00:00",
          "2024-06-25T08:00:00",
          "2024-06-25T09:00:00",
          "2024-06-25T10:00:00",
          "2024-06-25T11:00:00",
          "2024-06-25T12:00:00",
          "2024-06-25T13:00:00",
          "2024-06-25T14:00:00",
          "2024-06-25T15:00:00",
          "2024-06-25T16:00:00",
          "2024-06-25T17:00:00",
          "2024-06-25T18:00:00",
          "2024-06-25T19:00:00",
          "2024-06-25T20:00:00",
          "2024-06-26T06:00:00",
          "2024-06-26T07:00:00",
          "2024-06-26T08:00:00",
          "2024-06-26T09:00:00",
          "2024-06-26T10:00:00",
          "2024-06-26T11:00:00",
          "2024-06-26T12:00:00",
          "2024-06-26T13:00:00",
          "2024-06-26T14:00:00",
          "2024-06-26T15:00:00",
          "2024-06-26T16:00:00",
          "2024-06-26T17:00:00",
          "2024-06-26T18:00:00",
          "2024-06-26T19:00:00",
          "2024-06-26T20:00:00",
          "2024-06-27T06:00:00",
          "2024-06-27T07:00:00",
          "2024-06-27T08:00:00",
          "2024-06-27T09:00:00",
          "2024-06-27T10:00:00",
          "2024-06-27T11:00:00",
          "2024-06-27T12:00:00",
          "2024-06-27T13:00:00",
          "2024-06-27T14:00:00",
          "2024-06-27T15:00:00",
          "2024-06-27T16:00:00",
          "2024-06-27T17:00:00",
          "2024-06-27T18:00:00",
          "2024-06-27T19:00:00",
          "2024-06-27T20:00:00",
          "2024-06-28T06:00:00",
          "2024-06-28T07:00:00",
          "2024-06-28T08:00:00",
          "2024-06-28T09:00:00",
          "2024-06-28T10:00:00",
          "2024-06-28T11:00:00",
          "2024-06-28T12:00:00",
          "2024-06-28T13:00:00",
          "2024-06-28T14:00:00",
          "2024-06-28T15:00:00",
          "2024-06-28T16:00:00",
          "2024-06-28T17:00:00",
          "2024-06-28T18:00:00",
          "2024-06-28T19:00:00",
          "2024-06-28T20:00:00",
          "2024-06-29T06:00:00",
          "2024-06-29T07:00:00",
          "2024-06-29T08:00:00",
          "2024-06-29T09:00:00",
          "2024-06-29T10:00:00",
          "2024-06-29T11:00:00",
          "2024-06-29T12:00:00",
          "2024-06-29T13:00:00",
          "2024-06-29T14:00:00",
          "2024-06-29T15:00:00",
          "2024-06-29T16:00:00",
          "2024-06-29T17:00:00",
          "2024-06-29T18:00:00",
          "2024-06-29T19:00:00",
          "2024-06-29T20:00:00",
          "2024-06-30T06:00:00",
          "2024-06-30T07:00:00",
          "2024-06-30T08:00:00",
          "2024-06-30T09:00:00",
          "2024-06-30T10:00:00",
          "2024-06-30T11:00:00",
          "2024-06-30T12:00:00",
          "2024-06-30T13:00:00",
          "2024-06-30T14:00:00",
          "2024-06-30T15:00:00",
          "2024-06-30T16:00:00",
          "2024-06-30T17:00:00",
          "2024-06-30T18:00:00",
          "2024-06-30T19:00:00",
          "2024-06-30T20:00:00"
         ],
         "xaxis": "x",
         "y": [
          382.9755796165808,
          614.4191193335423,
          928.1213962730067,
          1232.1016291715973,
          1419.7803311887378,
          1482.6776650273248,
          1487.9436213460674,
          1482.550864336549,
          1500.4213154419658,
          1495.1972230734439,
          1507.52026714722,
          1435.715941453854,
          1094.451501420153,
          868.3166546241217,
          570.6238840197191,
          351.2398512931132,
          515.9802050612645,
          720.576124862941,
          1001.1868952912648,
          1188.9819146527411,
          1257.8491092285562,
          1261.228982158921,
          1269.8317544485822,
          1262.9099401364997,
          1207.072308697976,
          1197.7462672013073,
          1076.3525412270824,
          832.7902303250177,
          584.1593784653792,
          436.69812669734216,
          346.9765225030719,
          373.81721887734534,
          423.6411520445922,
          474.3327751995341,
          499.86731836955045,
          541.2336398350353,
          589.2160961971769,
          577.3071857729932,
          590.5747063140246,
          550.4732603048916,
          506.88562314937474,
          481.9135476979081,
          466.21765550256197,
          391.86173147906453,
          350.96762395115394,
          436.3047892838134,
          557.4187308042242,
          951.2652103380804,
          1276.858618818751,
          1477.1264312284832,
          1509.0672483731962,
          1532.2557135639586,
          1565.3241185255424,
          1566.4932031479602,
          1523.374166730569,
          1491.1304612264369,
          1398.546961652206,
          1037.5766350779604,
          677.8239352271014,
          530.1448904773143,
          412.846842980824,
          617.725555256562,
          947.6190764696935,
          1235.3121976194047,
          1381.262866806727,
          1438.5078349730597,
          1551.7709875037176,
          1533.949932307313,
          1502.8763473151118,
          1502.3296907098068,
          1484.1067915030067,
          1415.2987057150895,
          987.06967926785,
          664.0018405579615,
          536.5476175770546,
          403.1636420578838,
          637.9089800873053,
          984.3928530916952,
          1274.4799345615836,
          1446.495845703982,
          1551.851808521493,
          1572.3459349071422,
          1555.7010894443765,
          1569.8014735873548,
          1556.48018161769,
          1547.1558211706233,
          1456.6642295928166,
          1048.3244789236833,
          687.1235323946025,
          522.03107639197,
          389.107890412364,
          604.0106515155896,
          956.2434216352648,
          1252.1223097267516,
          1452.9443106735646,
          1510.4455217753166,
          1504.264463777,
          1463.7915743926787,
          1495.763824126511,
          1515.251601382884,
          1513.9652296205022,
          1426.009785881952,
          1061.603855634915,
          740.0827270835427,
          557.049732142134,
          363.41642298492604,
          595.5570350211613,
          928.7569952729253,
          1200.7431660225886,
          1374.72024889207,
          1462.7936167030173,
          1450.3981043371139,
          1470.7362007675642,
          1464.3891037178132,
          1490.0192903103489,
          1493.1263584459475,
          1430.1785613287175,
          1202.1635893971243,
          833.9569835688131,
          536.5179051481422,
          352.7484171715309,
          491.09580923830873,
          703.9961545036783,
          953.6053902561868,
          1114.8352380558226,
          1210.8344676212012,
          1223.3555722336237,
          1204.996364643553,
          1218.3715719244233,
          1166.5776544256646,
          1142.3291621042454,
          1045.9934786141343,
          821.5071397348413,
          559.1263191900803,
          461.6563074016118,
          346.0526200975829,
          382.55908484556585,
          428.44714644823495,
          461.75314004286315,
          513.4636465893507,
          576.1185459633243,
          587.8769339536511,
          600.0178062189402,
          599.2450979648177,
          553.2937416291546,
          516.5200802247384,
          516.6058875379146,
          433.3237275120937,
          376.67375909901637,
          414.52821806062656
         ],
         "yaxis": "y"
        },
        {
         "hovertemplate": "variable=Final_RLS<br>index=%{x}<br>value=%{y}<extra></extra>",
         "legendgroup": "Final_RLS",
         "line": {
          "color": "#ab63fa",
          "dash": "solid"
         },
         "marker": {
          "symbol": "circle"
         },
         "mode": "lines",
         "name": "Final_RLS",
         "orientation": "v",
         "showlegend": true,
         "type": "scatter",
         "x": [
          "2024-06-21T06:00:00",
          "2024-06-21T07:00:00",
          "2024-06-21T08:00:00",
          "2024-06-21T09:00:00",
          "2024-06-21T10:00:00",
          "2024-06-21T11:00:00",
          "2024-06-21T12:00:00",
          "2024-06-21T13:00:00",
          "2024-06-21T14:00:00",
          "2024-06-21T15:00:00",
          "2024-06-21T16:00:00",
          "2024-06-21T17:00:00",
          "2024-06-21T18:00:00",
          "2024-06-21T19:00:00",
          "2024-06-21T20:00:00",
          "2024-06-22T06:00:00",
          "2024-06-22T07:00:00",
          "2024-06-22T08:00:00",
          "2024-06-22T09:00:00",
          "2024-06-22T10:00:00",
          "2024-06-22T11:00:00",
          "2024-06-22T12:00:00",
          "2024-06-22T13:00:00",
          "2024-06-22T14:00:00",
          "2024-06-22T15:00:00",
          "2024-06-22T16:00:00",
          "2024-06-22T17:00:00",
          "2024-06-22T18:00:00",
          "2024-06-22T19:00:00",
          "2024-06-22T20:00:00",
          "2024-06-23T06:00:00",
          "2024-06-23T07:00:00",
          "2024-06-23T08:00:00",
          "2024-06-23T09:00:00",
          "2024-06-23T10:00:00",
          "2024-06-23T11:00:00",
          "2024-06-23T12:00:00",
          "2024-06-23T13:00:00",
          "2024-06-23T14:00:00",
          "2024-06-23T15:00:00",
          "2024-06-23T16:00:00",
          "2024-06-23T17:00:00",
          "2024-06-23T18:00:00",
          "2024-06-23T19:00:00",
          "2024-06-23T20:00:00",
          "2024-06-24T06:00:00",
          "2024-06-24T07:00:00",
          "2024-06-24T08:00:00",
          "2024-06-24T09:00:00",
          "2024-06-24T10:00:00",
          "2024-06-24T11:00:00",
          "2024-06-24T12:00:00",
          "2024-06-24T13:00:00",
          "2024-06-24T14:00:00",
          "2024-06-24T15:00:00",
          "2024-06-24T16:00:00",
          "2024-06-24T17:00:00",
          "2024-06-24T18:00:00",
          "2024-06-24T19:00:00",
          "2024-06-24T20:00:00",
          "2024-06-25T06:00:00",
          "2024-06-25T07:00:00",
          "2024-06-25T08:00:00",
          "2024-06-25T09:00:00",
          "2024-06-25T10:00:00",
          "2024-06-25T11:00:00",
          "2024-06-25T12:00:00",
          "2024-06-25T13:00:00",
          "2024-06-25T14:00:00",
          "2024-06-25T15:00:00",
          "2024-06-25T16:00:00",
          "2024-06-25T17:00:00",
          "2024-06-25T18:00:00",
          "2024-06-25T19:00:00",
          "2024-06-25T20:00:00",
          "2024-06-26T06:00:00",
          "2024-06-26T07:00:00",
          "2024-06-26T08:00:00",
          "2024-06-26T09:00:00",
          "2024-06-26T10:00:00",
          "2024-06-26T11:00:00",
          "2024-06-26T12:00:00",
          "2024-06-26T13:00:00",
          "2024-06-26T14:00:00",
          "2024-06-26T15:00:00",
          "2024-06-26T16:00:00",
          "2024-06-26T17:00:00",
          "2024-06-26T18:00:00",
          "2024-06-26T19:00:00",
          "2024-06-26T20:00:00",
          "2024-06-27T06:00:00",
          "2024-06-27T07:00:00",
          "2024-06-27T08:00:00",
          "2024-06-27T09:00:00",
          "2024-06-27T10:00:00",
          "2024-06-27T11:00:00",
          "2024-06-27T12:00:00",
          "2024-06-27T13:00:00",
          "2024-06-27T14:00:00",
          "2024-06-27T15:00:00",
          "2024-06-27T16:00:00",
          "2024-06-27T17:00:00",
          "2024-06-27T18:00:00",
          "2024-06-27T19:00:00",
          "2024-06-27T20:00:00",
          "2024-06-28T06:00:00",
          "2024-06-28T07:00:00",
          "2024-06-28T08:00:00",
          "2024-06-28T09:00:00",
          "2024-06-28T10:00:00",
          "2024-06-28T11:00:00",
          "2024-06-28T12:00:00",
          "2024-06-28T13:00:00",
          "2024-06-28T14:00:00",
          "2024-06-28T15:00:00",
          "2024-06-28T16:00:00",
          "2024-06-28T17:00:00",
          "2024-06-28T18:00:00",
          "2024-06-28T19:00:00",
          "2024-06-28T20:00:00",
          "2024-06-29T06:00:00",
          "2024-06-29T07:00:00",
          "2024-06-29T08:00:00",
          "2024-06-29T09:00:00",
          "2024-06-29T10:00:00",
          "2024-06-29T11:00:00",
          "2024-06-29T12:00:00",
          "2024-06-29T13:00:00",
          "2024-06-29T14:00:00",
          "2024-06-29T15:00:00",
          "2024-06-29T16:00:00",
          "2024-06-29T17:00:00",
          "2024-06-29T18:00:00",
          "2024-06-29T19:00:00",
          "2024-06-29T20:00:00",
          "2024-06-30T06:00:00",
          "2024-06-30T07:00:00",
          "2024-06-30T08:00:00",
          "2024-06-30T09:00:00",
          "2024-06-30T10:00:00",
          "2024-06-30T11:00:00",
          "2024-06-30T12:00:00",
          "2024-06-30T13:00:00",
          "2024-06-30T14:00:00",
          "2024-06-30T15:00:00",
          "2024-06-30T16:00:00",
          "2024-06-30T17:00:00",
          "2024-06-30T18:00:00",
          "2024-06-30T19:00:00",
          "2024-06-30T20:00:00"
         ],
         "xaxis": "x",
         "y": [
          335.9840405941704,
          590.574656644998,
          715.6788166260367,
          1257.0693054888989,
          1425.2940377797418,
          1277.3925796801716,
          1488.5472313435757,
          1571.4432951083643,
          1627.465878172172,
          1571.1912672710612,
          1470.4903193062598,
          1147.9333206544452,
          344.9727871579388,
          964.526932067719,
          485.6659193569669,
          314.2010214506005,
          470.86268609138875,
          746.1999278794383,
          1034.595056967207,
          1167.400572274853,
          1060.6507952917445,
          1268.0495145749833,
          1133.0487777119301,
          1185.321134939033,
          1227.2924792900376,
          1203.4716667894522,
          1218.1999640184792,
          815.6968441651728,
          547.7257541080301,
          409.5034768350694,
          212.72945399262545,
          302.70857447126156,
          315.86870103476383,
          432.7222706290338,
          67.91563837507485,
          483.5163289392033,
          592.9902455112879,
          553.9347280450328,
          812.1247783472336,
          579.7486059861997,
          376.08562085445885,
          434.13218967714056,
          375.2840813231109,
          385.31927892645683,
          515.1666183729161,
          473.7097534029733,
          361.0805259536382,
          846.6145380516203,
          1199.7316612048833,
          1419.8854702954445,
          760.9430747756747,
          1550.0546684340554,
          1456.2075132701066,
          1371.6819885543607,
          1558.8400605272022,
          1385.4756281843165,
          972.1484708874048,
          861.8905764860989,
          642.5113095217157,
          479.8963490817256,
          387.20443080509386,
          575.1901213691795,
          1118.7887562467822,
          1306.3264200763583,
          1591.63594832141,
          1405.903792162496,
          1565.2921277842952,
          1613.4423839598187,
          1550.9357378668642,
          1548.4997822870628,
          1441.437759917395,
          639.7900412964906,
          964.0885424272249,
          696.1515945330882,
          548.9482232311302,
          367.0136672653049,
          594.1495193850978,
          1026.4340309262147,
          1289.602338430684,
          1543.0527918092241,
          2159.658030572214,
          1572.0270614546332,
          1594.8290267520847,
          1621.740663189575,
          1592.2731994825895,
          1504.5803348522743,
          1434.2204906142013,
          1003.6047227548601,
          683.527727077678,
          520.6486923669961,
          375.363254842761,
          554.3344127671176,
          937.5863984208939,
          1336.2894051159399,
          1527.1506660455748,
          1322.9690092416058,
          1494.8179273445796,
          1577.8480732885926,
          1519.1284986033627,
          1545.5451514048395,
          1582.0285067819964,
          1219.7413896758035,
          994.5388435030263,
          711.4932801544211,
          534.8197683987823,
          359.25946851824824,
          578.4141080795532,
          951.8682595096315,
          1250.964425722868,
          1421.120367348136,
          753.3720796918774,
          1443.261276704902,
          1558.3630010025538,
          1592.8368232192147,
          1524.79443233367,
          1412.4659079288867,
          1143.9923710999756,
          1224.7267560184423,
          806.5026157124499,
          558.0114904476904,
          356.6674200901881,
          476.7373170139256,
          781.4057608151269,
          1043.2857566331425,
          1160.7982186230256,
          1237.89386360004,
          1228.7275749265218,
          1133.7457421343543,
          1255.5206411451395,
          1192.480649879582,
          1161.1660375820932,
          875.1162465292398,
          851.5619889977768,
          560.3543711555012,
          448.98121559584513,
          277.9471865911549,
          363.9873702731065,
          352.1168005898387,
          473.6267561235446,
          386.20407724053075,
          327.10252454360506,
          590.2444232394137,
          585.8580788489716,
          567.0072615810575,
          554.66416404911,
          563.4691555473016,
          578.9075005527825,
          412.4798271723732,
          358.565891449458,
          418.53592222857424
         ],
         "yaxis": "y"
        }
       ],
       "layout": {
        "legend": {
         "title": {
          "text": "variable"
         },
         "tracegroupgap": 0
        },
        "margin": {
         "t": 60
        },
        "template": {
         "data": {
          "bar": [
           {
            "error_x": {
             "color": "#2a3f5f"
            },
            "error_y": {
             "color": "#2a3f5f"
            },
            "marker": {
             "line": {
              "color": "#E5ECF6",
              "width": 0.5
             },
             "pattern": {
              "fillmode": "overlay",
              "size": 10,
              "solidity": 0.2
             }
            },
            "type": "bar"
           }
          ],
          "barpolar": [
           {
            "marker": {
             "line": {
              "color": "#E5ECF6",
              "width": 0.5
             },
             "pattern": {
              "fillmode": "overlay",
              "size": 10,
              "solidity": 0.2
             }
            },
            "type": "barpolar"
           }
          ],
          "carpet": [
           {
            "aaxis": {
             "endlinecolor": "#2a3f5f",
             "gridcolor": "white",
             "linecolor": "white",
             "minorgridcolor": "white",
             "startlinecolor": "#2a3f5f"
            },
            "baxis": {
             "endlinecolor": "#2a3f5f",
             "gridcolor": "white",
             "linecolor": "white",
             "minorgridcolor": "white",
             "startlinecolor": "#2a3f5f"
            },
            "type": "carpet"
           }
          ],
          "choropleth": [
           {
            "colorbar": {
             "outlinewidth": 0,
             "ticks": ""
            },
            "type": "choropleth"
           }
          ],
          "contour": [
           {
            "colorbar": {
             "outlinewidth": 0,
             "ticks": ""
            },
            "colorscale": [
             [
              0,
              "#0d0887"
             ],
             [
              0.1111111111111111,
              "#46039f"
             ],
             [
              0.2222222222222222,
              "#7201a8"
             ],
             [
              0.3333333333333333,
              "#9c179e"
             ],
             [
              0.4444444444444444,
              "#bd3786"
             ],
             [
              0.5555555555555556,
              "#d8576b"
             ],
             [
              0.6666666666666666,
              "#ed7953"
             ],
             [
              0.7777777777777778,
              "#fb9f3a"
             ],
             [
              0.8888888888888888,
              "#fdca26"
             ],
             [
              1,
              "#f0f921"
             ]
            ],
            "type": "contour"
           }
          ],
          "contourcarpet": [
           {
            "colorbar": {
             "outlinewidth": 0,
             "ticks": ""
            },
            "type": "contourcarpet"
           }
          ],
          "heatmap": [
           {
            "colorbar": {
             "outlinewidth": 0,
             "ticks": ""
            },
            "colorscale": [
             [
              0,
              "#0d0887"
             ],
             [
              0.1111111111111111,
              "#46039f"
             ],
             [
              0.2222222222222222,
              "#7201a8"
             ],
             [
              0.3333333333333333,
              "#9c179e"
             ],
             [
              0.4444444444444444,
              "#bd3786"
             ],
             [
              0.5555555555555556,
              "#d8576b"
             ],
             [
              0.6666666666666666,
              "#ed7953"
             ],
             [
              0.7777777777777778,
              "#fb9f3a"
             ],
             [
              0.8888888888888888,
              "#fdca26"
             ],
             [
              1,
              "#f0f921"
             ]
            ],
            "type": "heatmap"
           }
          ],
          "heatmapgl": [
           {
            "colorbar": {
             "outlinewidth": 0,
             "ticks": ""
            },
            "colorscale": [
             [
              0,
              "#0d0887"
             ],
             [
              0.1111111111111111,
              "#46039f"
             ],
             [
              0.2222222222222222,
              "#7201a8"
             ],
             [
              0.3333333333333333,
              "#9c179e"
             ],
             [
              0.4444444444444444,
              "#bd3786"
             ],
             [
              0.5555555555555556,
              "#d8576b"
             ],
             [
              0.6666666666666666,
              "#ed7953"
             ],
             [
              0.7777777777777778,
              "#fb9f3a"
             ],
             [
              0.8888888888888888,
              "#fdca26"
             ],
             [
              1,
              "#f0f921"
             ]
            ],
            "type": "heatmapgl"
           }
          ],
          "histogram": [
           {
            "marker": {
             "pattern": {
              "fillmode": "overlay",
              "size": 10,
              "solidity": 0.2
             }
            },
            "type": "histogram"
           }
          ],
          "histogram2d": [
           {
            "colorbar": {
             "outlinewidth": 0,
             "ticks": ""
            },
            "colorscale": [
             [
              0,
              "#0d0887"
             ],
             [
              0.1111111111111111,
              "#46039f"
             ],
             [
              0.2222222222222222,
              "#7201a8"
             ],
             [
              0.3333333333333333,
              "#9c179e"
             ],
             [
              0.4444444444444444,
              "#bd3786"
             ],
             [
              0.5555555555555556,
              "#d8576b"
             ],
             [
              0.6666666666666666,
              "#ed7953"
             ],
             [
              0.7777777777777778,
              "#fb9f3a"
             ],
             [
              0.8888888888888888,
              "#fdca26"
             ],
             [
              1,
              "#f0f921"
             ]
            ],
            "type": "histogram2d"
           }
          ],
          "histogram2dcontour": [
           {
            "colorbar": {
             "outlinewidth": 0,
             "ticks": ""
            },
            "colorscale": [
             [
              0,
              "#0d0887"
             ],
             [
              0.1111111111111111,
              "#46039f"
             ],
             [
              0.2222222222222222,
              "#7201a8"
             ],
             [
              0.3333333333333333,
              "#9c179e"
             ],
             [
              0.4444444444444444,
              "#bd3786"
             ],
             [
              0.5555555555555556,
              "#d8576b"
             ],
             [
              0.6666666666666666,
              "#ed7953"
             ],
             [
              0.7777777777777778,
              "#fb9f3a"
             ],
             [
              0.8888888888888888,
              "#fdca26"
             ],
             [
              1,
              "#f0f921"
             ]
            ],
            "type": "histogram2dcontour"
           }
          ],
          "mesh3d": [
           {
            "colorbar": {
             "outlinewidth": 0,
             "ticks": ""
            },
            "type": "mesh3d"
           }
          ],
          "parcoords": [
           {
            "line": {
             "colorbar": {
              "outlinewidth": 0,
              "ticks": ""
             }
            },
            "type": "parcoords"
           }
          ],
          "pie": [
           {
            "automargin": true,
            "type": "pie"
           }
          ],
          "scatter": [
           {
            "fillpattern": {
             "fillmode": "overlay",
             "size": 10,
             "solidity": 0.2
            },
            "type": "scatter"
           }
          ],
          "scatter3d": [
           {
            "line": {
             "colorbar": {
              "outlinewidth": 0,
              "ticks": ""
             }
            },
            "marker": {
             "colorbar": {
              "outlinewidth": 0,
              "ticks": ""
             }
            },
            "type": "scatter3d"
           }
          ],
          "scattercarpet": [
           {
            "marker": {
             "colorbar": {
              "outlinewidth": 0,
              "ticks": ""
             }
            },
            "type": "scattercarpet"
           }
          ],
          "scattergeo": [
           {
            "marker": {
             "colorbar": {
              "outlinewidth": 0,
              "ticks": ""
             }
            },
            "type": "scattergeo"
           }
          ],
          "scattergl": [
           {
            "marker": {
             "colorbar": {
              "outlinewidth": 0,
              "ticks": ""
             }
            },
            "type": "scattergl"
           }
          ],
          "scattermapbox": [
           {
            "marker": {
             "colorbar": {
              "outlinewidth": 0,
              "ticks": ""
             }
            },
            "type": "scattermapbox"
           }
          ],
          "scatterpolar": [
           {
            "marker": {
             "colorbar": {
              "outlinewidth": 0,
              "ticks": ""
             }
            },
            "type": "scatterpolar"
           }
          ],
          "scatterpolargl": [
           {
            "marker": {
             "colorbar": {
              "outlinewidth": 0,
              "ticks": ""
             }
            },
            "type": "scatterpolargl"
           }
          ],
          "scatterternary": [
           {
            "marker": {
             "colorbar": {
              "outlinewidth": 0,
              "ticks": ""
             }
            },
            "type": "scatterternary"
           }
          ],
          "surface": [
           {
            "colorbar": {
             "outlinewidth": 0,
             "ticks": ""
            },
            "colorscale": [
             [
              0,
              "#0d0887"
             ],
             [
              0.1111111111111111,
              "#46039f"
             ],
             [
              0.2222222222222222,
              "#7201a8"
             ],
             [
              0.3333333333333333,
              "#9c179e"
             ],
             [
              0.4444444444444444,
              "#bd3786"
             ],
             [
              0.5555555555555556,
              "#d8576b"
             ],
             [
              0.6666666666666666,
              "#ed7953"
             ],
             [
              0.7777777777777778,
              "#fb9f3a"
             ],
             [
              0.8888888888888888,
              "#fdca26"
             ],
             [
              1,
              "#f0f921"
             ]
            ],
            "type": "surface"
           }
          ],
          "table": [
           {
            "cells": {
             "fill": {
              "color": "#EBF0F8"
             },
             "line": {
              "color": "white"
             }
            },
            "header": {
             "fill": {
              "color": "#C8D4E3"
             },
             "line": {
              "color": "white"
             }
            },
            "type": "table"
           }
          ]
         },
         "layout": {
          "annotationdefaults": {
           "arrowcolor": "#2a3f5f",
           "arrowhead": 0,
           "arrowwidth": 1
          },
          "autotypenumbers": "strict",
          "coloraxis": {
           "colorbar": {
            "outlinewidth": 0,
            "ticks": ""
           }
          },
          "colorscale": {
           "diverging": [
            [
             0,
             "#8e0152"
            ],
            [
             0.1,
             "#c51b7d"
            ],
            [
             0.2,
             "#de77ae"
            ],
            [
             0.3,
             "#f1b6da"
            ],
            [
             0.4,
             "#fde0ef"
            ],
            [
             0.5,
             "#f7f7f7"
            ],
            [
             0.6,
             "#e6f5d0"
            ],
            [
             0.7,
             "#b8e186"
            ],
            [
             0.8,
             "#7fbc41"
            ],
            [
             0.9,
             "#4d9221"
            ],
            [
             1,
             "#276419"
            ]
           ],
           "sequential": [
            [
             0,
             "#0d0887"
            ],
            [
             0.1111111111111111,
             "#46039f"
            ],
            [
             0.2222222222222222,
             "#7201a8"
            ],
            [
             0.3333333333333333,
             "#9c179e"
            ],
            [
             0.4444444444444444,
             "#bd3786"
            ],
            [
             0.5555555555555556,
             "#d8576b"
            ],
            [
             0.6666666666666666,
             "#ed7953"
            ],
            [
             0.7777777777777778,
             "#fb9f3a"
            ],
            [
             0.8888888888888888,
             "#fdca26"
            ],
            [
             1,
             "#f0f921"
            ]
           ],
           "sequentialminus": [
            [
             0,
             "#0d0887"
            ],
            [
             0.1111111111111111,
             "#46039f"
            ],
            [
             0.2222222222222222,
             "#7201a8"
            ],
            [
             0.3333333333333333,
             "#9c179e"
            ],
            [
             0.4444444444444444,
             "#bd3786"
            ],
            [
             0.5555555555555556,
             "#d8576b"
            ],
            [
             0.6666666666666666,
             "#ed7953"
            ],
            [
             0.7777777777777778,
             "#fb9f3a"
            ],
            [
             0.8888888888888888,
             "#fdca26"
            ],
            [
             1,
             "#f0f921"
            ]
           ]
          },
          "colorway": [
           "#636efa",
           "#EF553B",
           "#00cc96",
           "#ab63fa",
           "#FFA15A",
           "#19d3f3",
           "#FF6692",
           "#B6E880",
           "#FF97FF",
           "#FECB52"
          ],
          "font": {
           "color": "#2a3f5f"
          },
          "geo": {
           "bgcolor": "white",
           "lakecolor": "white",
           "landcolor": "#E5ECF6",
           "showlakes": true,
           "showland": true,
           "subunitcolor": "white"
          },
          "hoverlabel": {
           "align": "left"
          },
          "hovermode": "closest",
          "mapbox": {
           "style": "light"
          },
          "paper_bgcolor": "white",
          "plot_bgcolor": "#E5ECF6",
          "polar": {
           "angularaxis": {
            "gridcolor": "white",
            "linecolor": "white",
            "ticks": ""
           },
           "bgcolor": "#E5ECF6",
           "radialaxis": {
            "gridcolor": "white",
            "linecolor": "white",
            "ticks": ""
           }
          },
          "scene": {
           "xaxis": {
            "backgroundcolor": "#E5ECF6",
            "gridcolor": "white",
            "gridwidth": 2,
            "linecolor": "white",
            "showbackground": true,
            "ticks": "",
            "zerolinecolor": "white"
           },
           "yaxis": {
            "backgroundcolor": "#E5ECF6",
            "gridcolor": "white",
            "gridwidth": 2,
            "linecolor": "white",
            "showbackground": true,
            "ticks": "",
            "zerolinecolor": "white"
           },
           "zaxis": {
            "backgroundcolor": "#E5ECF6",
            "gridcolor": "white",
            "gridwidth": 2,
            "linecolor": "white",
            "showbackground": true,
            "ticks": "",
            "zerolinecolor": "white"
           }
          },
          "shapedefaults": {
           "line": {
            "color": "#2a3f5f"
           }
          },
          "ternary": {
           "aaxis": {
            "gridcolor": "white",
            "linecolor": "white",
            "ticks": ""
           },
           "baxis": {
            "gridcolor": "white",
            "linecolor": "white",
            "ticks": ""
           },
           "bgcolor": "#E5ECF6",
           "caxis": {
            "gridcolor": "white",
            "linecolor": "white",
            "ticks": ""
           }
          },
          "title": {
           "x": 0.05
          },
          "xaxis": {
           "automargin": true,
           "gridcolor": "white",
           "linecolor": "white",
           "ticks": "",
           "title": {
            "standoff": 15
           },
           "zerolinecolor": "white",
           "zerolinewidth": 2
          },
          "yaxis": {
           "automargin": true,
           "gridcolor": "white",
           "linecolor": "white",
           "ticks": "",
           "title": {
            "standoff": 15
           },
           "zerolinecolor": "white",
           "zerolinewidth": 2
          }
         }
        },
        "xaxis": {
         "anchor": "y",
         "domain": [
          0,
          1
         ],
         "title": {
          "text": "index"
         }
        },
        "yaxis": {
         "anchor": "x",
         "domain": [
          0,
          1
         ],
         "title": {
          "text": "value"
         }
        }
       }
      }
     },
     "metadata": {},
     "output_type": "display_data"
    },
    {
     "name": "stdout",
     "output_type": "stream",
     "text": [
      "Removing Nan Values - Total Dropped Days:  2\n",
      "Removing Incomplete Days - Total Dropped Days:  0\n",
      "========================================\n",
      "Dukes\n",
      "========================================\n",
      "Coordinates 13.181018829345703°N -59.56243896484375°E\n",
      "Elevation 249.0 m asl\n",
      "Timezone b'America/Barbados' b'GMT-4'\n",
      "Timezone difference to GMT+0 -14400 s\n",
      "<openmeteo_sdk.VariablesWithTime.VariablesWithTime object at 0x000002153490D3F0>\n",
      "Coordinates 13.25°N -59.625°E\n",
      "Elevation 249.0 m asl\n",
      "Timezone b'America/Barbados' b'GMT-4'\n",
      "Timezone difference to GMT+0 -14400 s\n",
      "<openmeteo_sdk.VariablesWithTime.VariablesWithTime object at 0x000002153490EC20>\n",
      "                                Mean    Std     Min     Max\n",
      "NetLoadDemand                1241.52 646.49 -300.83 4017.22\n",
      "temperature_2m_historic        26.91   1.94   21.42   31.52\n",
      "temperature_2m_forecast        26.94   1.74   22.31   31.46\n",
      "shortwave_radiation_historic  399.68 321.85    0.00 1026.00\n",
      "shortwave_radiation_forecast  398.44 318.55    0.00  986.00\n",
      "       NetLoadDemand  temperature_2m_historic  temperature_2m_forecast  shortwave_radiation_historic  shortwave_radiation_forecast\n",
      "count         210.00                   210.00                   210.00                        210.00                        210.00\n",
      "mean            0.34                     0.61                     0.58                          0.41                          0.42\n",
      "std             0.15                     0.17                     0.13                          0.31                          0.32\n",
      "min             0.07                     0.20                     0.31                          0.00                          0.00\n",
      "25%             0.21                     0.48                     0.45                          0.11                          0.11\n",
      "50%             0.34                     0.64                     0.58                          0.43                          0.45\n",
      "75%             0.48                     0.75                     0.68                          0.69                          0.72\n",
      "max             0.64                     0.87                     0.85                          0.92                          0.94\n",
      "Current: 2024-06-18 06:00:00 to 2024-06-18 20:00:00, Previous: 2024-06-17 06:00:00 to 2024-06-17 20:00:00\n",
      "Current: 2024-06-19 06:00:00 to 2024-06-19 20:00:00, Previous: 2024-06-18 06:00:00 to 2024-06-18 20:00:00\n",
      "Current: 2024-06-20 06:00:00 to 2024-06-20 20:00:00, Previous: 2024-06-19 06:00:00 to 2024-06-19 20:00:00\n",
      "Current: 2024-06-21 06:00:00 to 2024-06-21 20:00:00, Previous: 2024-06-20 06:00:00 to 2024-06-20 20:00:00\n",
      "Current: 2024-06-22 06:00:00 to 2024-06-22 20:00:00, Previous: 2024-06-21 06:00:00 to 2024-06-21 20:00:00\n",
      "Current: 2024-06-23 06:00:00 to 2024-06-23 20:00:00, Previous: 2024-06-22 06:00:00 to 2024-06-22 20:00:00\n",
      "Current: 2024-06-24 06:00:00 to 2024-06-24 20:00:00, Previous: 2024-06-23 06:00:00 to 2024-06-23 20:00:00\n",
      "Current: 2024-06-25 06:00:00 to 2024-06-25 20:00:00, Previous: 2024-06-24 06:00:00 to 2024-06-24 20:00:00\n",
      "Current: 2024-06-26 06:00:00 to 2024-06-26 20:00:00, Previous: 2024-06-25 06:00:00 to 2024-06-25 20:00:00\n",
      "Current: 2024-06-27 06:00:00 to 2024-06-27 20:00:00, Previous: 2024-06-26 06:00:00 to 2024-06-26 20:00:00\n",
      "Current: 2024-06-28 06:00:00 to 2024-06-28 20:00:00, Previous: 2024-06-27 06:00:00 to 2024-06-27 20:00:00\n",
      "Current: 2024-06-29 06:00:00 to 2024-06-29 20:00:00, Previous: 2024-06-28 06:00:00 to 2024-06-28 20:00:00\n",
      "Current: 2024-06-30 06:00:00 to 2024-06-30 20:00:00, Previous: 2024-06-29 06:00:00 to 2024-06-29 20:00:00\n",
      "1/1 [==============================] - 0s 42ms/step\n",
      "1/1 [==============================] - 0s 63ms/step\n",
      "1/1 [==============================] - 0s 422ms/step\n",
      "1/1 [==============================] - 0s 438ms/step\n",
      "(13, 15) (13, 15)\n",
      "(13, 15) (13, 15)\n",
      "(13, 143) (13, 1, 143) (13, 15) (13, 15) (13, 15) (13, 15)\n",
      "(13, 15) (13, 15) (13, 15) (13, 15)\n"
     ]
    },
    {
     "data": {
      "application/vnd.plotly.v1+json": {
       "config": {
        "plotlyServerURL": "https://plot.ly"
       },
       "data": [
        {
         "hovertemplate": "variable=Actual<br>index=%{x}<br>value=%{y}<extra></extra>",
         "legendgroup": "Actual",
         "line": {
          "color": "#636efa",
          "dash": "solid"
         },
         "marker": {
          "symbol": "circle"
         },
         "mode": "lines",
         "name": "Actual",
         "orientation": "v",
         "showlegend": true,
         "type": "scatter",
         "x": [
          "2024-06-21T06:00:00",
          "2024-06-21T07:00:00",
          "2024-06-21T08:00:00",
          "2024-06-21T09:00:00",
          "2024-06-21T10:00:00",
          "2024-06-21T11:00:00",
          "2024-06-21T12:00:00",
          "2024-06-21T13:00:00",
          "2024-06-21T14:00:00",
          "2024-06-21T15:00:00",
          "2024-06-21T16:00:00",
          "2024-06-21T17:00:00",
          "2024-06-21T18:00:00",
          "2024-06-21T19:00:00",
          "2024-06-21T20:00:00",
          "2024-06-22T06:00:00",
          "2024-06-22T07:00:00",
          "2024-06-22T08:00:00",
          "2024-06-22T09:00:00",
          "2024-06-22T10:00:00",
          "2024-06-22T11:00:00",
          "2024-06-22T12:00:00",
          "2024-06-22T13:00:00",
          "2024-06-22T14:00:00",
          "2024-06-22T15:00:00",
          "2024-06-22T16:00:00",
          "2024-06-22T17:00:00",
          "2024-06-22T18:00:00",
          "2024-06-22T19:00:00",
          "2024-06-22T20:00:00",
          "2024-06-23T06:00:00",
          "2024-06-23T07:00:00",
          "2024-06-23T08:00:00",
          "2024-06-23T09:00:00",
          "2024-06-23T10:00:00",
          "2024-06-23T11:00:00",
          "2024-06-23T12:00:00",
          "2024-06-23T13:00:00",
          "2024-06-23T14:00:00",
          "2024-06-23T15:00:00",
          "2024-06-23T16:00:00",
          "2024-06-23T17:00:00",
          "2024-06-23T18:00:00",
          "2024-06-23T19:00:00",
          "2024-06-23T20:00:00",
          "2024-06-24T06:00:00",
          "2024-06-24T07:00:00",
          "2024-06-24T08:00:00",
          "2024-06-24T09:00:00",
          "2024-06-24T10:00:00",
          "2024-06-24T11:00:00",
          "2024-06-24T12:00:00",
          "2024-06-24T13:00:00",
          "2024-06-24T14:00:00",
          "2024-06-24T15:00:00",
          "2024-06-24T16:00:00",
          "2024-06-24T17:00:00",
          "2024-06-24T18:00:00",
          "2024-06-24T19:00:00",
          "2024-06-24T20:00:00",
          "2024-06-25T06:00:00",
          "2024-06-25T07:00:00",
          "2024-06-25T08:00:00",
          "2024-06-25T09:00:00",
          "2024-06-25T10:00:00",
          "2024-06-25T11:00:00",
          "2024-06-25T12:00:00",
          "2024-06-25T13:00:00",
          "2024-06-25T14:00:00",
          "2024-06-25T15:00:00",
          "2024-06-25T16:00:00",
          "2024-06-25T17:00:00",
          "2024-06-25T18:00:00",
          "2024-06-25T19:00:00",
          "2024-06-25T20:00:00",
          "2024-06-26T06:00:00",
          "2024-06-26T07:00:00",
          "2024-06-26T08:00:00",
          "2024-06-26T09:00:00",
          "2024-06-26T10:00:00",
          "2024-06-26T11:00:00",
          "2024-06-26T12:00:00",
          "2024-06-26T13:00:00",
          "2024-06-26T14:00:00",
          "2024-06-26T15:00:00",
          "2024-06-26T16:00:00",
          "2024-06-26T17:00:00",
          "2024-06-26T18:00:00",
          "2024-06-26T19:00:00",
          "2024-06-26T20:00:00",
          "2024-06-27T06:00:00",
          "2024-06-27T07:00:00",
          "2024-06-27T08:00:00",
          "2024-06-27T09:00:00",
          "2024-06-27T10:00:00",
          "2024-06-27T11:00:00",
          "2024-06-27T12:00:00",
          "2024-06-27T13:00:00",
          "2024-06-27T14:00:00",
          "2024-06-27T15:00:00",
          "2024-06-27T16:00:00",
          "2024-06-27T17:00:00",
          "2024-06-27T18:00:00",
          "2024-06-27T19:00:00",
          "2024-06-27T20:00:00",
          "2024-06-28T06:00:00",
          "2024-06-28T07:00:00",
          "2024-06-28T08:00:00",
          "2024-06-28T09:00:00",
          "2024-06-28T10:00:00",
          "2024-06-28T11:00:00",
          "2024-06-28T12:00:00",
          "2024-06-28T13:00:00",
          "2024-06-28T14:00:00",
          "2024-06-28T15:00:00",
          "2024-06-28T16:00:00",
          "2024-06-28T17:00:00",
          "2024-06-28T18:00:00",
          "2024-06-28T19:00:00",
          "2024-06-28T20:00:00",
          "2024-06-29T06:00:00",
          "2024-06-29T07:00:00",
          "2024-06-29T08:00:00",
          "2024-06-29T09:00:00",
          "2024-06-29T10:00:00",
          "2024-06-29T11:00:00",
          "2024-06-29T12:00:00",
          "2024-06-29T13:00:00",
          "2024-06-29T14:00:00",
          "2024-06-29T15:00:00",
          "2024-06-29T16:00:00",
          "2024-06-29T17:00:00",
          "2024-06-29T18:00:00",
          "2024-06-29T19:00:00",
          "2024-06-29T20:00:00",
          "2024-06-30T06:00:00",
          "2024-06-30T07:00:00",
          "2024-06-30T08:00:00",
          "2024-06-30T09:00:00",
          "2024-06-30T10:00:00",
          "2024-06-30T11:00:00",
          "2024-06-30T12:00:00",
          "2024-06-30T13:00:00",
          "2024-06-30T14:00:00",
          "2024-06-30T15:00:00",
          "2024-06-30T16:00:00",
          "2024-06-30T17:00:00",
          "2024-06-30T18:00:00",
          "2024-06-30T19:00:00",
          "2024-06-30T20:00:00"
         ],
         "xaxis": "x",
         "y": [
          1826.2857142857144,
          1812.0909090909092,
          1261.5833333333333,
          867.5,
          411.8333333333333,
          146.54545454545456,
          63.69999999999999,
          297.5833333333333,
          486.24999999999994,
          691.1666666666667,
          995.5833333333335,
          1471.5454545454545,
          1779.2,
          2118.875,
          2251.625,
          1742.142857142857,
          1657,
          1474,
          737.25,
          893.6666666666665,
          653.1666666666667,
          695.8333333333335,
          597.3333333333335,
          627.6666666666667,
          812.75,
          994,
          1392.166666666667,
          1769.5555555555559,
          2093.2,
          2255.1428571428573,
          1662.8333333333333,
          1328.5999999999997,
          1228.7272727272727,
          851.666666666667,
          937.0833333333335,
          731.9166666666667,
          637.6666666666667,
          568.5,
          754.4166666666667,
          888.0833333333335,
          1148.8333333333333,
          1425.6363636363637,
          1798.111111111111,
          2124.5,
          2272.8333333333335,
          1822.0000000000002,
          1798.8181818181818,
          1453.5555555555557,
          1351.6,
          1037.8,
          1187,
          555.909090909091,
          185.25,
          1097.75,
          743.5,
          733.8333333333335,
          1181.0833333333333,
          1730.5454545454545,
          2038.777777777778,
          2273.6,
          1832.3750000000002,
          1879.2500000000002,
          1432.857142857143,
          788.5833333333335,
          531.0833333333335,
          938.5833333333335,
          354.0833333333333,
          292.49999999999994,
          342.0833333333333,
          645.3333333333335,
          995.909090909091,
          1466.5454545454545,
          1698.6,
          2128.4444444444443,
          2286.5,
          1869.2,
          1888.6363636363637,
          1511.4166666666667,
          869.75,
          561.5,
          342.9166666666667,
          666.3333333333335,
          159.75,
          401.0833333333333,
          563.0833333333335,
          944.4166666666667,
          1441.9166666666667,
          1656.7272727272727,
          2052.1428571428573,
          2239.5714285714284,
          1842.0000000000002,
          1801.8,
          1378.3333333333333,
          758.1666666666667,
          474.15384615384613,
          296.49999999999994,
          262.8333333333333,
          234.08333333333331,
          399.49999999999994,
          741.75,
          784.25,
          1298,
          1621.2222222222222,
          1982.5714285714287,
          2258.285714285714,
          1835.2857142857144,
          1772.3,
          1241.4166666666667,
          1000.5,
          694.5,
          769.4166666666667,
          401.99999999999994,
          359.09090909090907,
          563.3333333333335,
          592.25,
          903.75,
          1206.4166666666667,
          1612.5454545454545,
          1989.2,
          2216.3333333333335,
          1707.2857142857142,
          1547.5,
          1372.9,
          958.8333333333335,
          582.1666666666667,
          354.3333333333333,
          177.91666666666669,
          419.0833333333333,
          1144,
          2037.6923076923078,
          1654,
          1587.3333333333333,
          1793.2500000000002,
          2088.285714285714,
          2237.2,
          1655.4999999999998,
          1560,
          1401.0833333333333,
          1226.0833333333333,
          824,
          495.4166666666667,
          418.7272727272727,
          308.8333333333333,
          638.6666666666667,
          678,
          1229.7500000000002,
          1616.6,
          1753.5000000000002,
          2070.4444444444443,
          2481.1
         ],
         "yaxis": "y"
        },
        {
         "hovertemplate": "variable=ANN_RLS<br>index=%{x}<br>value=%{y}<extra></extra>",
         "legendgroup": "ANN_RLS",
         "line": {
          "color": "#EF553B",
          "dash": "solid"
         },
         "marker": {
          "symbol": "circle"
         },
         "mode": "lines",
         "name": "ANN_RLS",
         "orientation": "v",
         "showlegend": true,
         "type": "scatter",
         "x": [
          "2024-06-21T06:00:00",
          "2024-06-21T07:00:00",
          "2024-06-21T08:00:00",
          "2024-06-21T09:00:00",
          "2024-06-21T10:00:00",
          "2024-06-21T11:00:00",
          "2024-06-21T12:00:00",
          "2024-06-21T13:00:00",
          "2024-06-21T14:00:00",
          "2024-06-21T15:00:00",
          "2024-06-21T16:00:00",
          "2024-06-21T17:00:00",
          "2024-06-21T18:00:00",
          "2024-06-21T19:00:00",
          "2024-06-21T20:00:00",
          "2024-06-22T06:00:00",
          "2024-06-22T07:00:00",
          "2024-06-22T08:00:00",
          "2024-06-22T09:00:00",
          "2024-06-22T10:00:00",
          "2024-06-22T11:00:00",
          "2024-06-22T12:00:00",
          "2024-06-22T13:00:00",
          "2024-06-22T14:00:00",
          "2024-06-22T15:00:00",
          "2024-06-22T16:00:00",
          "2024-06-22T17:00:00",
          "2024-06-22T18:00:00",
          "2024-06-22T19:00:00",
          "2024-06-22T20:00:00",
          "2024-06-23T06:00:00",
          "2024-06-23T07:00:00",
          "2024-06-23T08:00:00",
          "2024-06-23T09:00:00",
          "2024-06-23T10:00:00",
          "2024-06-23T11:00:00",
          "2024-06-23T12:00:00",
          "2024-06-23T13:00:00",
          "2024-06-23T14:00:00",
          "2024-06-23T15:00:00",
          "2024-06-23T16:00:00",
          "2024-06-23T17:00:00",
          "2024-06-23T18:00:00",
          "2024-06-23T19:00:00",
          "2024-06-23T20:00:00",
          "2024-06-24T06:00:00",
          "2024-06-24T07:00:00",
          "2024-06-24T08:00:00",
          "2024-06-24T09:00:00",
          "2024-06-24T10:00:00",
          "2024-06-24T11:00:00",
          "2024-06-24T12:00:00",
          "2024-06-24T13:00:00",
          "2024-06-24T14:00:00",
          "2024-06-24T15:00:00",
          "2024-06-24T16:00:00",
          "2024-06-24T17:00:00",
          "2024-06-24T18:00:00",
          "2024-06-24T19:00:00",
          "2024-06-24T20:00:00",
          "2024-06-25T06:00:00",
          "2024-06-25T07:00:00",
          "2024-06-25T08:00:00",
          "2024-06-25T09:00:00",
          "2024-06-25T10:00:00",
          "2024-06-25T11:00:00",
          "2024-06-25T12:00:00",
          "2024-06-25T13:00:00",
          "2024-06-25T14:00:00",
          "2024-06-25T15:00:00",
          "2024-06-25T16:00:00",
          "2024-06-25T17:00:00",
          "2024-06-25T18:00:00",
          "2024-06-25T19:00:00",
          "2024-06-25T20:00:00",
          "2024-06-26T06:00:00",
          "2024-06-26T07:00:00",
          "2024-06-26T08:00:00",
          "2024-06-26T09:00:00",
          "2024-06-26T10:00:00",
          "2024-06-26T11:00:00",
          "2024-06-26T12:00:00",
          "2024-06-26T13:00:00",
          "2024-06-26T14:00:00",
          "2024-06-26T15:00:00",
          "2024-06-26T16:00:00",
          "2024-06-26T17:00:00",
          "2024-06-26T18:00:00",
          "2024-06-26T19:00:00",
          "2024-06-26T20:00:00",
          "2024-06-27T06:00:00",
          "2024-06-27T07:00:00",
          "2024-06-27T08:00:00",
          "2024-06-27T09:00:00",
          "2024-06-27T10:00:00",
          "2024-06-27T11:00:00",
          "2024-06-27T12:00:00",
          "2024-06-27T13:00:00",
          "2024-06-27T14:00:00",
          "2024-06-27T15:00:00",
          "2024-06-27T16:00:00",
          "2024-06-27T17:00:00",
          "2024-06-27T18:00:00",
          "2024-06-27T19:00:00",
          "2024-06-27T20:00:00",
          "2024-06-28T06:00:00",
          "2024-06-28T07:00:00",
          "2024-06-28T08:00:00",
          "2024-06-28T09:00:00",
          "2024-06-28T10:00:00",
          "2024-06-28T11:00:00",
          "2024-06-28T12:00:00",
          "2024-06-28T13:00:00",
          "2024-06-28T14:00:00",
          "2024-06-28T15:00:00",
          "2024-06-28T16:00:00",
          "2024-06-28T17:00:00",
          "2024-06-28T18:00:00",
          "2024-06-28T19:00:00",
          "2024-06-28T20:00:00",
          "2024-06-29T06:00:00",
          "2024-06-29T07:00:00",
          "2024-06-29T08:00:00",
          "2024-06-29T09:00:00",
          "2024-06-29T10:00:00",
          "2024-06-29T11:00:00",
          "2024-06-29T12:00:00",
          "2024-06-29T13:00:00",
          "2024-06-29T14:00:00",
          "2024-06-29T15:00:00",
          "2024-06-29T16:00:00",
          "2024-06-29T17:00:00",
          "2024-06-29T18:00:00",
          "2024-06-29T19:00:00",
          "2024-06-29T20:00:00",
          "2024-06-30T06:00:00",
          "2024-06-30T07:00:00",
          "2024-06-30T08:00:00",
          "2024-06-30T09:00:00",
          "2024-06-30T10:00:00",
          "2024-06-30T11:00:00",
          "2024-06-30T12:00:00",
          "2024-06-30T13:00:00",
          "2024-06-30T14:00:00",
          "2024-06-30T15:00:00",
          "2024-06-30T16:00:00",
          "2024-06-30T17:00:00",
          "2024-06-30T18:00:00",
          "2024-06-30T19:00:00",
          "2024-06-30T20:00:00"
         ],
         "xaxis": "x",
         "y": [
          1654.8166988444725,
          1697.584903606786,
          1080.3554898180453,
          821.0140516444549,
          324.5798076053907,
          -25.517297156513905,
          284.12044533266857,
          113.98273020898279,
          146.80501848157172,
          688.6530537883443,
          871.9696488567722,
          1221.1412978175913,
          1519.9430342571015,
          1889.9886046609188,
          2182.1328421356466,
          1970.0125261709102,
          1408.9601199210824,
          1055.6107151835251,
          804.568366391514,
          670.6854108752646,
          369.13457407941945,
          381.3686391094532,
          712.9954889247203,
          683.1304584157447,
          545.3253002464346,
          944.9377396382329,
          1819.3379678963945,
          1802.9173443300353,
          2146.346641082587,
          2201.795651395726,
          1951.4690749698923,
          1839.4457995606674,
          1387.3273654687578,
          979.3973960175451,
          988.9466715694343,
          488.2387608669167,
          896.9624577000345,
          912.6010229395436,
          480.4218724755902,
          1022.4387138984512,
          1184.534480743714,
          1255.0616466379504,
          1750.3267730313003,
          2290.3847670395708,
          2281.0144781944728,
          1582.6526923165284,
          2022.9191305960014,
          1598.7073736697746,
          830.2502638230571,
          656.8897353548816,
          405.28508971248715,
          670.7373052613509,
          719.1002182419438,
          650.1389119449129,
          1121.1342799744696,
          1177.7366179172786,
          1367.1708575841512,
          1731.9547161419669,
          1970.7564392108277,
          2502.3599095007967,
          1788.21499883428,
          1830.3840166933276,
          1507.7065709761819,
          798.5373116946062,
          511.5180865640762,
          729.3898696744902,
          237.54124871466564,
          -14.099365196980614,
          1009.2648956785115,
          768.9698150727897,
          1007.9288112852212,
          1435.1617392873934,
          1745.0254163925458,
          2117.606925244282,
          2175.806897949026,
          1802.1907511918532,
          1890.654462165073,
          1331.1026005929946,
          661.4067583047579,
          467.91890038658784,
          755.2568495394296,
          266.36740312545004,
          312.44902625454125,
          48.19797661915311,
          534.2236807689085,
          747.9082160351359,
          1294.7241830428793,
          1756.6754675475343,
          2124.062407807482,
          2225.223807901274,
          1738.5646714299933,
          1714.779889064578,
          1429.598648388057,
          855.6306122572284,
          696.4777346717169,
          553.2442888240573,
          610.565794319227,
          340.79519272379576,
          431.1817715717489,
          638.3042744257216,
          979.8825506011103,
          1390.3345768379254,
          1730.8752729002556,
          2077.9460426284536,
          2270.0626554489445,
          1814.6459186410254,
          1666.5641791852966,
          1366.49988737399,
          699.779008385794,
          388.40510283742543,
          289.29466823349225,
          325.1547092064142,
          153.91743784206062,
          462.0983554582413,
          642.3697504052238,
          770.5691711930435,
          1289.722501682718,
          1478.794938852112,
          1889.5235637448652,
          2108.913607402491,
          1546.7356764433507,
          1534.0660835982792,
          1221.5884781981251,
          890.9537798968031,
          631.390906060517,
          771.8154648009247,
          336.9307005300523,
          437.2331621824001,
          736.0407930135216,
          818.105956524319,
          1238.9148880428486,
          1607.3526944201285,
          1704.281168632422,
          2137.4307815033826,
          2222.624837097278,
          1952.0320678636333,
          1749.7573938515454,
          1216.5678074853492,
          848.7351935605918,
          1053.9235669236298,
          670.4444469305365,
          418.16533008542916,
          311.13501324477903,
          1256.0907022337415,
          1843.922687227105,
          1032.98392327161,
          1397.175717925927,
          1789.084395777242,
          2205.0134733231343,
          2237.5641659420608
         ],
         "yaxis": "y"
        },
        {
         "hovertemplate": "variable=LSTM_RLS<br>index=%{x}<br>value=%{y}<extra></extra>",
         "legendgroup": "LSTM_RLS",
         "line": {
          "color": "#00cc96",
          "dash": "solid"
         },
         "marker": {
          "symbol": "circle"
         },
         "mode": "lines",
         "name": "LSTM_RLS",
         "orientation": "v",
         "showlegend": true,
         "type": "scatter",
         "x": [
          "2024-06-21T06:00:00",
          "2024-06-21T07:00:00",
          "2024-06-21T08:00:00",
          "2024-06-21T09:00:00",
          "2024-06-21T10:00:00",
          "2024-06-21T11:00:00",
          "2024-06-21T12:00:00",
          "2024-06-21T13:00:00",
          "2024-06-21T14:00:00",
          "2024-06-21T15:00:00",
          "2024-06-21T16:00:00",
          "2024-06-21T17:00:00",
          "2024-06-21T18:00:00",
          "2024-06-21T19:00:00",
          "2024-06-21T20:00:00",
          "2024-06-22T06:00:00",
          "2024-06-22T07:00:00",
          "2024-06-22T08:00:00",
          "2024-06-22T09:00:00",
          "2024-06-22T10:00:00",
          "2024-06-22T11:00:00",
          "2024-06-22T12:00:00",
          "2024-06-22T13:00:00",
          "2024-06-22T14:00:00",
          "2024-06-22T15:00:00",
          "2024-06-22T16:00:00",
          "2024-06-22T17:00:00",
          "2024-06-22T18:00:00",
          "2024-06-22T19:00:00",
          "2024-06-22T20:00:00",
          "2024-06-23T06:00:00",
          "2024-06-23T07:00:00",
          "2024-06-23T08:00:00",
          "2024-06-23T09:00:00",
          "2024-06-23T10:00:00",
          "2024-06-23T11:00:00",
          "2024-06-23T12:00:00",
          "2024-06-23T13:00:00",
          "2024-06-23T14:00:00",
          "2024-06-23T15:00:00",
          "2024-06-23T16:00:00",
          "2024-06-23T17:00:00",
          "2024-06-23T18:00:00",
          "2024-06-23T19:00:00",
          "2024-06-23T20:00:00",
          "2024-06-24T06:00:00",
          "2024-06-24T07:00:00",
          "2024-06-24T08:00:00",
          "2024-06-24T09:00:00",
          "2024-06-24T10:00:00",
          "2024-06-24T11:00:00",
          "2024-06-24T12:00:00",
          "2024-06-24T13:00:00",
          "2024-06-24T14:00:00",
          "2024-06-24T15:00:00",
          "2024-06-24T16:00:00",
          "2024-06-24T17:00:00",
          "2024-06-24T18:00:00",
          "2024-06-24T19:00:00",
          "2024-06-24T20:00:00",
          "2024-06-25T06:00:00",
          "2024-06-25T07:00:00",
          "2024-06-25T08:00:00",
          "2024-06-25T09:00:00",
          "2024-06-25T10:00:00",
          "2024-06-25T11:00:00",
          "2024-06-25T12:00:00",
          "2024-06-25T13:00:00",
          "2024-06-25T14:00:00",
          "2024-06-25T15:00:00",
          "2024-06-25T16:00:00",
          "2024-06-25T17:00:00",
          "2024-06-25T18:00:00",
          "2024-06-25T19:00:00",
          "2024-06-25T20:00:00",
          "2024-06-26T06:00:00",
          "2024-06-26T07:00:00",
          "2024-06-26T08:00:00",
          "2024-06-26T09:00:00",
          "2024-06-26T10:00:00",
          "2024-06-26T11:00:00",
          "2024-06-26T12:00:00",
          "2024-06-26T13:00:00",
          "2024-06-26T14:00:00",
          "2024-06-26T15:00:00",
          "2024-06-26T16:00:00",
          "2024-06-26T17:00:00",
          "2024-06-26T18:00:00",
          "2024-06-26T19:00:00",
          "2024-06-26T20:00:00",
          "2024-06-27T06:00:00",
          "2024-06-27T07:00:00",
          "2024-06-27T08:00:00",
          "2024-06-27T09:00:00",
          "2024-06-27T10:00:00",
          "2024-06-27T11:00:00",
          "2024-06-27T12:00:00",
          "2024-06-27T13:00:00",
          "2024-06-27T14:00:00",
          "2024-06-27T15:00:00",
          "2024-06-27T16:00:00",
          "2024-06-27T17:00:00",
          "2024-06-27T18:00:00",
          "2024-06-27T19:00:00",
          "2024-06-27T20:00:00",
          "2024-06-28T06:00:00",
          "2024-06-28T07:00:00",
          "2024-06-28T08:00:00",
          "2024-06-28T09:00:00",
          "2024-06-28T10:00:00",
          "2024-06-28T11:00:00",
          "2024-06-28T12:00:00",
          "2024-06-28T13:00:00",
          "2024-06-28T14:00:00",
          "2024-06-28T15:00:00",
          "2024-06-28T16:00:00",
          "2024-06-28T17:00:00",
          "2024-06-28T18:00:00",
          "2024-06-28T19:00:00",
          "2024-06-28T20:00:00",
          "2024-06-29T06:00:00",
          "2024-06-29T07:00:00",
          "2024-06-29T08:00:00",
          "2024-06-29T09:00:00",
          "2024-06-29T10:00:00",
          "2024-06-29T11:00:00",
          "2024-06-29T12:00:00",
          "2024-06-29T13:00:00",
          "2024-06-29T14:00:00",
          "2024-06-29T15:00:00",
          "2024-06-29T16:00:00",
          "2024-06-29T17:00:00",
          "2024-06-29T18:00:00",
          "2024-06-29T19:00:00",
          "2024-06-29T20:00:00",
          "2024-06-30T06:00:00",
          "2024-06-30T07:00:00",
          "2024-06-30T08:00:00",
          "2024-06-30T09:00:00",
          "2024-06-30T10:00:00",
          "2024-06-30T11:00:00",
          "2024-06-30T12:00:00",
          "2024-06-30T13:00:00",
          "2024-06-30T14:00:00",
          "2024-06-30T15:00:00",
          "2024-06-30T16:00:00",
          "2024-06-30T17:00:00",
          "2024-06-30T18:00:00",
          "2024-06-30T19:00:00",
          "2024-06-30T20:00:00"
         ],
         "xaxis": "x",
         "y": [
          1819.2044716263565,
          1737.674231944096,
          1211.2842139405902,
          545.581176918867,
          323.34791734471315,
          -19.086226926847758,
          241.07895953792814,
          22.188039598554838,
          169.75886579516992,
          602.2608713760401,
          683.7781551778942,
          1335.369443548321,
          1688.4751388359841,
          2081.128589380592,
          2244.393341341999,
          1722.4326328009477,
          1615.6196199855244,
          1313.5745431351834,
          988.4357579295652,
          789.901866258956,
          446.9160767229026,
          576.376835487634,
          511.6673764037657,
          622.8741293882961,
          1057.5249890102805,
          1247.1122130303254,
          1689.349043293376,
          1849.3992987921736,
          2127.3372977707854,
          2289.268491878106,
          1680.0564137366357,
          1658.97182038967,
          1414.5988786829148,
          1248.7739537514701,
          880.6725164411828,
          802.4283813961517,
          653.9671614951362,
          606.9229770057109,
          651.3812301062064,
          1007.1512633713398,
          1223.7848871707297,
          1551.1511471262868,
          1860.7128147512883,
          2123.0695247941903,
          2287.584263680424,
          1843.8405230893425,
          1722.0192781109142,
          1304.7291160171367,
          741.4878951642347,
          579.874895840155,
          363.09724213631347,
          439.4263366774896,
          450.17931472021115,
          304.95008644193973,
          733.4707650972443,
          894.8040221071922,
          1325.7926334925091,
          1747.139766578765,
          2067.1169544542895,
          2255.7865089547718,
          1817.0447845840847,
          1873.1049515466418,
          1544.7349107049276,
          889.5156624179813,
          671.1442452765582,
          736.1094003658247,
          478.45911457115454,
          781.8466039062946,
          925.7745819779973,
          786.1861954775657,
          1128.614764633421,
          1362.6252145894537,
          1777.3324267932387,
          2103.619987903641,
          2274.0781788300337,
          1805.1637605031322,
          1779.4121253629266,
          1340.5136998796772,
          868.8096972132541,
          584.0844673624458,
          666.2328164586811,
          368.4650723567817,
          327.5163352091701,
          402.51383485259777,
          697.3581584484048,
          865.6967479610933,
          1267.0693606957275,
          1689.7665221164605,
          2057.1026541345186,
          2227.9999920403607,
          1856.5289071863251,
          1823.9986718046819,
          1349.6685339429573,
          747.1843851852805,
          582.0472020608663,
          443.7876315646981,
          354.6998008779714,
          246.8853181068901,
          453.92907499038785,
          668.3064812075756,
          863.2989171165136,
          1336.9743163439266,
          1677.2832372877695,
          2035.3308640451298,
          2268.503385742839,
          1777.8264273843963,
          1746.4281150680933,
          1299.5275287088746,
          661.6394390047392,
          426.0984341816682,
          289.61000135025205,
          297.48278274534874,
          134.3467510778139,
          296.661584137185,
          477.8723710250667,
          750.9921516235784,
          1289.2279259375102,
          1642.006559176175,
          2006.207137679479,
          2221.765354456317,
          1748.5962456594045,
          1627.6742862648346,
          1406.4841182202822,
          1039.7295922929804,
          897.601864158082,
          831.2249903988522,
          751.2948641776313,
          535.8454156677162,
          714.5514406427214,
          1001.7931960759495,
          1256.2816936438146,
          1603.7418621662728,
          1857.85332585731,
          2071.0415899225977,
          2285.231223771117,
          1736.8238485666159,
          1649.7100793061632,
          1398.7556340031554,
          966.9904468614641,
          947.9191573806063,
          730.981083498815,
          623.4013106107573,
          421.1051538212634,
          633.6868377173328,
          1231.3319236832453,
          1182.1317856022833,
          1351.2422732844868,
          1760.4327327367903,
          2053.6826166882333,
          2197.14299986662
         ],
         "yaxis": "y"
        },
        {
         "hovertemplate": "variable=Final_RLS<br>index=%{x}<br>value=%{y}<extra></extra>",
         "legendgroup": "Final_RLS",
         "line": {
          "color": "#ab63fa",
          "dash": "solid"
         },
         "marker": {
          "symbol": "circle"
         },
         "mode": "lines",
         "name": "Final_RLS",
         "orientation": "v",
         "showlegend": true,
         "type": "scatter",
         "x": [
          "2024-06-21T06:00:00",
          "2024-06-21T07:00:00",
          "2024-06-21T08:00:00",
          "2024-06-21T09:00:00",
          "2024-06-21T10:00:00",
          "2024-06-21T11:00:00",
          "2024-06-21T12:00:00",
          "2024-06-21T13:00:00",
          "2024-06-21T14:00:00",
          "2024-06-21T15:00:00",
          "2024-06-21T16:00:00",
          "2024-06-21T17:00:00",
          "2024-06-21T18:00:00",
          "2024-06-21T19:00:00",
          "2024-06-21T20:00:00",
          "2024-06-22T06:00:00",
          "2024-06-22T07:00:00",
          "2024-06-22T08:00:00",
          "2024-06-22T09:00:00",
          "2024-06-22T10:00:00",
          "2024-06-22T11:00:00",
          "2024-06-22T12:00:00",
          "2024-06-22T13:00:00",
          "2024-06-22T14:00:00",
          "2024-06-22T15:00:00",
          "2024-06-22T16:00:00",
          "2024-06-22T17:00:00",
          "2024-06-22T18:00:00",
          "2024-06-22T19:00:00",
          "2024-06-22T20:00:00",
          "2024-06-23T06:00:00",
          "2024-06-23T07:00:00",
          "2024-06-23T08:00:00",
          "2024-06-23T09:00:00",
          "2024-06-23T10:00:00",
          "2024-06-23T11:00:00",
          "2024-06-23T12:00:00",
          "2024-06-23T13:00:00",
          "2024-06-23T14:00:00",
          "2024-06-23T15:00:00",
          "2024-06-23T16:00:00",
          "2024-06-23T17:00:00",
          "2024-06-23T18:00:00",
          "2024-06-23T19:00:00",
          "2024-06-23T20:00:00",
          "2024-06-24T06:00:00",
          "2024-06-24T07:00:00",
          "2024-06-24T08:00:00",
          "2024-06-24T09:00:00",
          "2024-06-24T10:00:00",
          "2024-06-24T11:00:00",
          "2024-06-24T12:00:00",
          "2024-06-24T13:00:00",
          "2024-06-24T14:00:00",
          "2024-06-24T15:00:00",
          "2024-06-24T16:00:00",
          "2024-06-24T17:00:00",
          "2024-06-24T18:00:00",
          "2024-06-24T19:00:00",
          "2024-06-24T20:00:00",
          "2024-06-25T06:00:00",
          "2024-06-25T07:00:00",
          "2024-06-25T08:00:00",
          "2024-06-25T09:00:00",
          "2024-06-25T10:00:00",
          "2024-06-25T11:00:00",
          "2024-06-25T12:00:00",
          "2024-06-25T13:00:00",
          "2024-06-25T14:00:00",
          "2024-06-25T15:00:00",
          "2024-06-25T16:00:00",
          "2024-06-25T17:00:00",
          "2024-06-25T18:00:00",
          "2024-06-25T19:00:00",
          "2024-06-25T20:00:00",
          "2024-06-26T06:00:00",
          "2024-06-26T07:00:00",
          "2024-06-26T08:00:00",
          "2024-06-26T09:00:00",
          "2024-06-26T10:00:00",
          "2024-06-26T11:00:00",
          "2024-06-26T12:00:00",
          "2024-06-26T13:00:00",
          "2024-06-26T14:00:00",
          "2024-06-26T15:00:00",
          "2024-06-26T16:00:00",
          "2024-06-26T17:00:00",
          "2024-06-26T18:00:00",
          "2024-06-26T19:00:00",
          "2024-06-26T20:00:00",
          "2024-06-27T06:00:00",
          "2024-06-27T07:00:00",
          "2024-06-27T08:00:00",
          "2024-06-27T09:00:00",
          "2024-06-27T10:00:00",
          "2024-06-27T11:00:00",
          "2024-06-27T12:00:00",
          "2024-06-27T13:00:00",
          "2024-06-27T14:00:00",
          "2024-06-27T15:00:00",
          "2024-06-27T16:00:00",
          "2024-06-27T17:00:00",
          "2024-06-27T18:00:00",
          "2024-06-27T19:00:00",
          "2024-06-27T20:00:00",
          "2024-06-28T06:00:00",
          "2024-06-28T07:00:00",
          "2024-06-28T08:00:00",
          "2024-06-28T09:00:00",
          "2024-06-28T10:00:00",
          "2024-06-28T11:00:00",
          "2024-06-28T12:00:00",
          "2024-06-28T13:00:00",
          "2024-06-28T14:00:00",
          "2024-06-28T15:00:00",
          "2024-06-28T16:00:00",
          "2024-06-28T17:00:00",
          "2024-06-28T18:00:00",
          "2024-06-28T19:00:00",
          "2024-06-28T20:00:00",
          "2024-06-29T06:00:00",
          "2024-06-29T07:00:00",
          "2024-06-29T08:00:00",
          "2024-06-29T09:00:00",
          "2024-06-29T10:00:00",
          "2024-06-29T11:00:00",
          "2024-06-29T12:00:00",
          "2024-06-29T13:00:00",
          "2024-06-29T14:00:00",
          "2024-06-29T15:00:00",
          "2024-06-29T16:00:00",
          "2024-06-29T17:00:00",
          "2024-06-29T18:00:00",
          "2024-06-29T19:00:00",
          "2024-06-29T20:00:00",
          "2024-06-30T06:00:00",
          "2024-06-30T07:00:00",
          "2024-06-30T08:00:00",
          "2024-06-30T09:00:00",
          "2024-06-30T10:00:00",
          "2024-06-30T11:00:00",
          "2024-06-30T12:00:00",
          "2024-06-30T13:00:00",
          "2024-06-30T14:00:00",
          "2024-06-30T15:00:00",
          "2024-06-30T16:00:00",
          "2024-06-30T17:00:00",
          "2024-06-30T18:00:00",
          "2024-06-30T19:00:00",
          "2024-06-30T20:00:00"
         ],
         "xaxis": "x",
         "y": [
          2036.1171746237499,
          188.45006093180888,
          862.2428492952649,
          180.0799475912914,
          -148.2369953711171,
          -277.62466207074283,
          347.4719446085333,
          -179.21782118262058,
          81.0025290057049,
          424.29692389749886,
          877.1154250556781,
          1061.383362586462,
          1681.4607678022144,
          2167.4731411327707,
          2125.1761459890895,
          1211.2891832718904,
          744.638363036587,
          645.975847108074,
          996.4987210450975,
          296.69328335714687,
          -83.95462003719203,
          977.5259420105442,
          88.96996130293445,
          906.7750099960831,
          76.23875957455584,
          -287.49496186769437,
          1392.9076357876843,
          1704.706575114538,
          2158.3662256447997,
          2177.92583847011,
          1403.1192667034968,
          322.8995689540232,
          1795.4088474881216,
          1183.875148834218,
          491.87373715193854,
          583.7992858105567,
          401.18386963129814,
          324.87312487754247,
          390.83453224300416,
          910.1207764469009,
          908.7884631062382,
          1450.592591093916,
          1814.6875474290657,
          2107.6808914747485,
          2309.0246222652136,
          2205.728737813504,
          586.9249124973326,
          2604.7472988416916,
          487.4487827689865,
          443.8238695603341,
          -23.563406177141474,
          246.19255889452535,
          298.4302359753037,
          882.9828639545046,
          1037.9783931930258,
          1470.6259091895258,
          1106.048632113622,
          1586.2097893431066,
          2106.2551645193566,
          2621.666631618145,
          1881.1115530786258,
          1111.1072962236124,
          1437.7271297227367,
          824.0882540819177,
          601.8342163279292,
          547.2661540813122,
          819.2809828665556,
          -121.88159867282386,
          1302.71448674635,
          629.143706085538,
          612.6462227395511,
          1136.7744291936579,
          1660.2438450537807,
          2110.300425635333,
          2099.413815109718,
          1839.4672869073258,
          1180.3271511364758,
          1311.9087210575608,
          854.2224142118384,
          519.4829091216734,
          529.1586755868416,
          438.7461516409317,
          111.13401859351143,
          -199.9559357574312,
          416.305609063658,
          461.20991886299834,
          1113.775784911143,
          1458.6895610139952,
          2055.9126085775883,
          2211.920794525147,
          1995.3307146456802,
          1267.6632641294711,
          1606.8672598206365,
          599.3182007418172,
          571.6410025007438,
          273.19120959461617,
          173.23358537709242,
          82.60128979565235,
          431.93584178859015,
          530.5155245911624,
          954.7014139693272,
          1204.326185237178,
          1488.4435287228664,
          2038.3069955317367,
          2261.7629028325123,
          1765.2816894239247,
          1307.8584931817304,
          1486.0305286572893,
          568.6847591881085,
          379.55966209410866,
          220.47588101961372,
          301.0918840216137,
          -0.7245051440549446,
          469.652010439217,
          556.7350577487659,
          656.399899539866,
          1190.41219745974,
          1743.3453395495608,
          2034.2003908557274,
          2057.444167467765,
          1943.6250432929644,
          1279.7626492549348,
          854.7357143963177,
          1044.078370130516,
          809.4565820107123,
          801.312400526192,
          1132.6406833837743,
          269.00682023629855,
          746.0635661432136,
          710.5507245068466,
          1055.8013725013684,
          1485.941336870359,
          1920.9763495944833,
          2058.6423967525393,
          2206.031967518733,
          1578.5522044932359,
          1246.457282969061,
          901.8567491632864,
          951.321835774507,
          915.9354710475532,
          638.3401341394376,
          564.1742914240742,
          201.21973149753296,
          1385.9119106483233,
          1777.028198628161,
          818.1680025568851,
          1242.6237916502178,
          1587.6512543172166,
          2027.4697693033124,
          2262.500179236086
         ],
         "yaxis": "y"
        }
       ],
       "layout": {
        "legend": {
         "title": {
          "text": "variable"
         },
         "tracegroupgap": 0
        },
        "margin": {
         "t": 60
        },
        "template": {
         "data": {
          "bar": [
           {
            "error_x": {
             "color": "#2a3f5f"
            },
            "error_y": {
             "color": "#2a3f5f"
            },
            "marker": {
             "line": {
              "color": "#E5ECF6",
              "width": 0.5
             },
             "pattern": {
              "fillmode": "overlay",
              "size": 10,
              "solidity": 0.2
             }
            },
            "type": "bar"
           }
          ],
          "barpolar": [
           {
            "marker": {
             "line": {
              "color": "#E5ECF6",
              "width": 0.5
             },
             "pattern": {
              "fillmode": "overlay",
              "size": 10,
              "solidity": 0.2
             }
            },
            "type": "barpolar"
           }
          ],
          "carpet": [
           {
            "aaxis": {
             "endlinecolor": "#2a3f5f",
             "gridcolor": "white",
             "linecolor": "white",
             "minorgridcolor": "white",
             "startlinecolor": "#2a3f5f"
            },
            "baxis": {
             "endlinecolor": "#2a3f5f",
             "gridcolor": "white",
             "linecolor": "white",
             "minorgridcolor": "white",
             "startlinecolor": "#2a3f5f"
            },
            "type": "carpet"
           }
          ],
          "choropleth": [
           {
            "colorbar": {
             "outlinewidth": 0,
             "ticks": ""
            },
            "type": "choropleth"
           }
          ],
          "contour": [
           {
            "colorbar": {
             "outlinewidth": 0,
             "ticks": ""
            },
            "colorscale": [
             [
              0,
              "#0d0887"
             ],
             [
              0.1111111111111111,
              "#46039f"
             ],
             [
              0.2222222222222222,
              "#7201a8"
             ],
             [
              0.3333333333333333,
              "#9c179e"
             ],
             [
              0.4444444444444444,
              "#bd3786"
             ],
             [
              0.5555555555555556,
              "#d8576b"
             ],
             [
              0.6666666666666666,
              "#ed7953"
             ],
             [
              0.7777777777777778,
              "#fb9f3a"
             ],
             [
              0.8888888888888888,
              "#fdca26"
             ],
             [
              1,
              "#f0f921"
             ]
            ],
            "type": "contour"
           }
          ],
          "contourcarpet": [
           {
            "colorbar": {
             "outlinewidth": 0,
             "ticks": ""
            },
            "type": "contourcarpet"
           }
          ],
          "heatmap": [
           {
            "colorbar": {
             "outlinewidth": 0,
             "ticks": ""
            },
            "colorscale": [
             [
              0,
              "#0d0887"
             ],
             [
              0.1111111111111111,
              "#46039f"
             ],
             [
              0.2222222222222222,
              "#7201a8"
             ],
             [
              0.3333333333333333,
              "#9c179e"
             ],
             [
              0.4444444444444444,
              "#bd3786"
             ],
             [
              0.5555555555555556,
              "#d8576b"
             ],
             [
              0.6666666666666666,
              "#ed7953"
             ],
             [
              0.7777777777777778,
              "#fb9f3a"
             ],
             [
              0.8888888888888888,
              "#fdca26"
             ],
             [
              1,
              "#f0f921"
             ]
            ],
            "type": "heatmap"
           }
          ],
          "heatmapgl": [
           {
            "colorbar": {
             "outlinewidth": 0,
             "ticks": ""
            },
            "colorscale": [
             [
              0,
              "#0d0887"
             ],
             [
              0.1111111111111111,
              "#46039f"
             ],
             [
              0.2222222222222222,
              "#7201a8"
             ],
             [
              0.3333333333333333,
              "#9c179e"
             ],
             [
              0.4444444444444444,
              "#bd3786"
             ],
             [
              0.5555555555555556,
              "#d8576b"
             ],
             [
              0.6666666666666666,
              "#ed7953"
             ],
             [
              0.7777777777777778,
              "#fb9f3a"
             ],
             [
              0.8888888888888888,
              "#fdca26"
             ],
             [
              1,
              "#f0f921"
             ]
            ],
            "type": "heatmapgl"
           }
          ],
          "histogram": [
           {
            "marker": {
             "pattern": {
              "fillmode": "overlay",
              "size": 10,
              "solidity": 0.2
             }
            },
            "type": "histogram"
           }
          ],
          "histogram2d": [
           {
            "colorbar": {
             "outlinewidth": 0,
             "ticks": ""
            },
            "colorscale": [
             [
              0,
              "#0d0887"
             ],
             [
              0.1111111111111111,
              "#46039f"
             ],
             [
              0.2222222222222222,
              "#7201a8"
             ],
             [
              0.3333333333333333,
              "#9c179e"
             ],
             [
              0.4444444444444444,
              "#bd3786"
             ],
             [
              0.5555555555555556,
              "#d8576b"
             ],
             [
              0.6666666666666666,
              "#ed7953"
             ],
             [
              0.7777777777777778,
              "#fb9f3a"
             ],
             [
              0.8888888888888888,
              "#fdca26"
             ],
             [
              1,
              "#f0f921"
             ]
            ],
            "type": "histogram2d"
           }
          ],
          "histogram2dcontour": [
           {
            "colorbar": {
             "outlinewidth": 0,
             "ticks": ""
            },
            "colorscale": [
             [
              0,
              "#0d0887"
             ],
             [
              0.1111111111111111,
              "#46039f"
             ],
             [
              0.2222222222222222,
              "#7201a8"
             ],
             [
              0.3333333333333333,
              "#9c179e"
             ],
             [
              0.4444444444444444,
              "#bd3786"
             ],
             [
              0.5555555555555556,
              "#d8576b"
             ],
             [
              0.6666666666666666,
              "#ed7953"
             ],
             [
              0.7777777777777778,
              "#fb9f3a"
             ],
             [
              0.8888888888888888,
              "#fdca26"
             ],
             [
              1,
              "#f0f921"
             ]
            ],
            "type": "histogram2dcontour"
           }
          ],
          "mesh3d": [
           {
            "colorbar": {
             "outlinewidth": 0,
             "ticks": ""
            },
            "type": "mesh3d"
           }
          ],
          "parcoords": [
           {
            "line": {
             "colorbar": {
              "outlinewidth": 0,
              "ticks": ""
             }
            },
            "type": "parcoords"
           }
          ],
          "pie": [
           {
            "automargin": true,
            "type": "pie"
           }
          ],
          "scatter": [
           {
            "fillpattern": {
             "fillmode": "overlay",
             "size": 10,
             "solidity": 0.2
            },
            "type": "scatter"
           }
          ],
          "scatter3d": [
           {
            "line": {
             "colorbar": {
              "outlinewidth": 0,
              "ticks": ""
             }
            },
            "marker": {
             "colorbar": {
              "outlinewidth": 0,
              "ticks": ""
             }
            },
            "type": "scatter3d"
           }
          ],
          "scattercarpet": [
           {
            "marker": {
             "colorbar": {
              "outlinewidth": 0,
              "ticks": ""
             }
            },
            "type": "scattercarpet"
           }
          ],
          "scattergeo": [
           {
            "marker": {
             "colorbar": {
              "outlinewidth": 0,
              "ticks": ""
             }
            },
            "type": "scattergeo"
           }
          ],
          "scattergl": [
           {
            "marker": {
             "colorbar": {
              "outlinewidth": 0,
              "ticks": ""
             }
            },
            "type": "scattergl"
           }
          ],
          "scattermapbox": [
           {
            "marker": {
             "colorbar": {
              "outlinewidth": 0,
              "ticks": ""
             }
            },
            "type": "scattermapbox"
           }
          ],
          "scatterpolar": [
           {
            "marker": {
             "colorbar": {
              "outlinewidth": 0,
              "ticks": ""
             }
            },
            "type": "scatterpolar"
           }
          ],
          "scatterpolargl": [
           {
            "marker": {
             "colorbar": {
              "outlinewidth": 0,
              "ticks": ""
             }
            },
            "type": "scatterpolargl"
           }
          ],
          "scatterternary": [
           {
            "marker": {
             "colorbar": {
              "outlinewidth": 0,
              "ticks": ""
             }
            },
            "type": "scatterternary"
           }
          ],
          "surface": [
           {
            "colorbar": {
             "outlinewidth": 0,
             "ticks": ""
            },
            "colorscale": [
             [
              0,
              "#0d0887"
             ],
             [
              0.1111111111111111,
              "#46039f"
             ],
             [
              0.2222222222222222,
              "#7201a8"
             ],
             [
              0.3333333333333333,
              "#9c179e"
             ],
             [
              0.4444444444444444,
              "#bd3786"
             ],
             [
              0.5555555555555556,
              "#d8576b"
             ],
             [
              0.6666666666666666,
              "#ed7953"
             ],
             [
              0.7777777777777778,
              "#fb9f3a"
             ],
             [
              0.8888888888888888,
              "#fdca26"
             ],
             [
              1,
              "#f0f921"
             ]
            ],
            "type": "surface"
           }
          ],
          "table": [
           {
            "cells": {
             "fill": {
              "color": "#EBF0F8"
             },
             "line": {
              "color": "white"
             }
            },
            "header": {
             "fill": {
              "color": "#C8D4E3"
             },
             "line": {
              "color": "white"
             }
            },
            "type": "table"
           }
          ]
         },
         "layout": {
          "annotationdefaults": {
           "arrowcolor": "#2a3f5f",
           "arrowhead": 0,
           "arrowwidth": 1
          },
          "autotypenumbers": "strict",
          "coloraxis": {
           "colorbar": {
            "outlinewidth": 0,
            "ticks": ""
           }
          },
          "colorscale": {
           "diverging": [
            [
             0,
             "#8e0152"
            ],
            [
             0.1,
             "#c51b7d"
            ],
            [
             0.2,
             "#de77ae"
            ],
            [
             0.3,
             "#f1b6da"
            ],
            [
             0.4,
             "#fde0ef"
            ],
            [
             0.5,
             "#f7f7f7"
            ],
            [
             0.6,
             "#e6f5d0"
            ],
            [
             0.7,
             "#b8e186"
            ],
            [
             0.8,
             "#7fbc41"
            ],
            [
             0.9,
             "#4d9221"
            ],
            [
             1,
             "#276419"
            ]
           ],
           "sequential": [
            [
             0,
             "#0d0887"
            ],
            [
             0.1111111111111111,
             "#46039f"
            ],
            [
             0.2222222222222222,
             "#7201a8"
            ],
            [
             0.3333333333333333,
             "#9c179e"
            ],
            [
             0.4444444444444444,
             "#bd3786"
            ],
            [
             0.5555555555555556,
             "#d8576b"
            ],
            [
             0.6666666666666666,
             "#ed7953"
            ],
            [
             0.7777777777777778,
             "#fb9f3a"
            ],
            [
             0.8888888888888888,
             "#fdca26"
            ],
            [
             1,
             "#f0f921"
            ]
           ],
           "sequentialminus": [
            [
             0,
             "#0d0887"
            ],
            [
             0.1111111111111111,
             "#46039f"
            ],
            [
             0.2222222222222222,
             "#7201a8"
            ],
            [
             0.3333333333333333,
             "#9c179e"
            ],
            [
             0.4444444444444444,
             "#bd3786"
            ],
            [
             0.5555555555555556,
             "#d8576b"
            ],
            [
             0.6666666666666666,
             "#ed7953"
            ],
            [
             0.7777777777777778,
             "#fb9f3a"
            ],
            [
             0.8888888888888888,
             "#fdca26"
            ],
            [
             1,
             "#f0f921"
            ]
           ]
          },
          "colorway": [
           "#636efa",
           "#EF553B",
           "#00cc96",
           "#ab63fa",
           "#FFA15A",
           "#19d3f3",
           "#FF6692",
           "#B6E880",
           "#FF97FF",
           "#FECB52"
          ],
          "font": {
           "color": "#2a3f5f"
          },
          "geo": {
           "bgcolor": "white",
           "lakecolor": "white",
           "landcolor": "#E5ECF6",
           "showlakes": true,
           "showland": true,
           "subunitcolor": "white"
          },
          "hoverlabel": {
           "align": "left"
          },
          "hovermode": "closest",
          "mapbox": {
           "style": "light"
          },
          "paper_bgcolor": "white",
          "plot_bgcolor": "#E5ECF6",
          "polar": {
           "angularaxis": {
            "gridcolor": "white",
            "linecolor": "white",
            "ticks": ""
           },
           "bgcolor": "#E5ECF6",
           "radialaxis": {
            "gridcolor": "white",
            "linecolor": "white",
            "ticks": ""
           }
          },
          "scene": {
           "xaxis": {
            "backgroundcolor": "#E5ECF6",
            "gridcolor": "white",
            "gridwidth": 2,
            "linecolor": "white",
            "showbackground": true,
            "ticks": "",
            "zerolinecolor": "white"
           },
           "yaxis": {
            "backgroundcolor": "#E5ECF6",
            "gridcolor": "white",
            "gridwidth": 2,
            "linecolor": "white",
            "showbackground": true,
            "ticks": "",
            "zerolinecolor": "white"
           },
           "zaxis": {
            "backgroundcolor": "#E5ECF6",
            "gridcolor": "white",
            "gridwidth": 2,
            "linecolor": "white",
            "showbackground": true,
            "ticks": "",
            "zerolinecolor": "white"
           }
          },
          "shapedefaults": {
           "line": {
            "color": "#2a3f5f"
           }
          },
          "ternary": {
           "aaxis": {
            "gridcolor": "white",
            "linecolor": "white",
            "ticks": ""
           },
           "baxis": {
            "gridcolor": "white",
            "linecolor": "white",
            "ticks": ""
           },
           "bgcolor": "#E5ECF6",
           "caxis": {
            "gridcolor": "white",
            "linecolor": "white",
            "ticks": ""
           }
          },
          "title": {
           "x": 0.05
          },
          "xaxis": {
           "automargin": true,
           "gridcolor": "white",
           "linecolor": "white",
           "ticks": "",
           "title": {
            "standoff": 15
           },
           "zerolinecolor": "white",
           "zerolinewidth": 2
          },
          "yaxis": {
           "automargin": true,
           "gridcolor": "white",
           "linecolor": "white",
           "ticks": "",
           "title": {
            "standoff": 15
           },
           "zerolinecolor": "white",
           "zerolinewidth": 2
          }
         }
        },
        "xaxis": {
         "anchor": "y",
         "domain": [
          0,
          1
         ],
         "title": {
          "text": "index"
         }
        },
        "yaxis": {
         "anchor": "x",
         "domain": [
          0,
          1
         ],
         "title": {
          "text": "value"
         }
        }
       }
      }
     },
     "metadata": {},
     "output_type": "display_data"
    },
    {
     "name": "stdout",
     "output_type": "stream",
     "text": [
      "Removing Nan Values - Total Dropped Days:  3\n",
      "Removing Incomplete Days - Total Dropped Days:  0\n",
      "========================================\n",
      "Fontabelle 1\n",
      "========================================\n",
      "Coordinates 13.11072063446045°N -59.590179443359375°E\n",
      "Elevation 6.0 m asl\n",
      "Timezone b'America/Barbados' b'GMT-4'\n",
      "Timezone difference to GMT+0 -14400 s\n",
      "<openmeteo_sdk.VariablesWithTime.VariablesWithTime object at 0x000002153490E950>\n",
      "Coordinates 13.125°N -59.625°E\n",
      "Elevation 6.0 m asl\n",
      "Timezone b'America/Barbados' b'GMT-4'\n",
      "Timezone difference to GMT+0 -14400 s\n",
      "<openmeteo_sdk.VariablesWithTime.VariablesWithTime object at 0x000002153490DF90>\n",
      "                               Mean    Std   Min     Max\n",
      "NetLoadDemand                 14.45   5.46 -2.60   27.67\n",
      "temperature_2m_historic       28.71   1.93 23.30   33.20\n",
      "temperature_2m_forecast       28.61   1.56 24.78   32.43\n",
      "shortwave_radiation_historic 402.00 323.76  0.00 1022.00\n",
      "shortwave_radiation_forecast 404.57 322.15  0.00  987.00\n",
      "       NetLoadDemand  temperature_2m_historic  temperature_2m_forecast  shortwave_radiation_historic  shortwave_radiation_forecast\n",
      "count         210.00                   210.00                   210.00                        210.00                        210.00\n",
      "mean            0.71                     0.61                     0.60                          0.41                          0.43\n",
      "std             0.24                     0.17                     0.15                          0.31                          0.32\n",
      "min             0.14                     0.19                     0.28                          0.00                          0.00\n",
      "25%             0.58                     0.47                     0.47                          0.11                          0.11\n",
      "50%             0.72                     0.64                     0.61                          0.43                          0.46\n",
      "75%             0.90                     0.76                     0.73                          0.70                          0.73\n",
      "max             1.16                     0.91                     0.93                          0.92                          0.93\n",
      "Current: 2024-06-18 06:00:00 to 2024-06-18 20:00:00, Previous: 2024-06-17 06:00:00 to 2024-06-17 20:00:00\n",
      "Current: 2024-06-19 06:00:00 to 2024-06-19 20:00:00, Previous: 2024-06-18 06:00:00 to 2024-06-18 20:00:00\n",
      "Current: 2024-06-20 06:00:00 to 2024-06-20 20:00:00, Previous: 2024-06-19 06:00:00 to 2024-06-19 20:00:00\n",
      "Current: 2024-06-21 06:00:00 to 2024-06-21 20:00:00, Previous: 2024-06-20 06:00:00 to 2024-06-20 20:00:00\n",
      "Current: 2024-06-22 06:00:00 to 2024-06-22 20:00:00, Previous: 2024-06-21 06:00:00 to 2024-06-21 20:00:00\n",
      "Current: 2024-06-23 06:00:00 to 2024-06-23 20:00:00, Previous: 2024-06-22 06:00:00 to 2024-06-22 20:00:00\n",
      "Current: 2024-06-24 06:00:00 to 2024-06-24 20:00:00, Previous: 2024-06-23 06:00:00 to 2024-06-23 20:00:00\n",
      "Current: 2024-06-25 06:00:00 to 2024-06-25 20:00:00, Previous: 2024-06-24 06:00:00 to 2024-06-24 20:00:00\n",
      "Current: 2024-06-26 06:00:00 to 2024-06-26 20:00:00, Previous: 2024-06-25 06:00:00 to 2024-06-25 20:00:00\n",
      "Current: 2024-06-27 06:00:00 to 2024-06-27 20:00:00, Previous: 2024-06-26 06:00:00 to 2024-06-26 20:00:00\n",
      "Current: 2024-06-28 06:00:00 to 2024-06-28 20:00:00, Previous: 2024-06-27 06:00:00 to 2024-06-27 20:00:00\n",
      "Current: 2024-06-29 06:00:00 to 2024-06-29 20:00:00, Previous: 2024-06-28 06:00:00 to 2024-06-28 20:00:00\n",
      "Current: 2024-06-30 06:00:00 to 2024-06-30 20:00:00, Previous: 2024-06-29 06:00:00 to 2024-06-29 20:00:00\n",
      "1/1 [==============================] - 0s 43ms/step\n",
      "1/1 [==============================] - 0s 49ms/step\n",
      "1/1 [==============================] - 0s 425ms/step\n",
      "1/1 [==============================] - 0s 449ms/step\n",
      "(13, 15) (13, 15)\n",
      "(13, 15) (13, 15)\n",
      "(13, 143) (13, 1, 143) (13, 15) (13, 15) (13, 15) (13, 15)\n",
      "(13, 15) (13, 15) (13, 15) (13, 15)\n"
     ]
    },
    {
     "data": {
      "application/vnd.plotly.v1+json": {
       "config": {
        "plotlyServerURL": "https://plot.ly"
       },
       "data": [
        {
         "hovertemplate": "variable=Actual<br>index=%{x}<br>value=%{y}<extra></extra>",
         "legendgroup": "Actual",
         "line": {
          "color": "#636efa",
          "dash": "solid"
         },
         "marker": {
          "symbol": "circle"
         },
         "mode": "lines",
         "name": "Actual",
         "orientation": "v",
         "showlegend": true,
         "type": "scatter",
         "x": [
          "2024-06-21T06:00:00",
          "2024-06-21T07:00:00",
          "2024-06-21T08:00:00",
          "2024-06-21T09:00:00",
          "2024-06-21T10:00:00",
          "2024-06-21T11:00:00",
          "2024-06-21T12:00:00",
          "2024-06-21T13:00:00",
          "2024-06-21T14:00:00",
          "2024-06-21T15:00:00",
          "2024-06-21T16:00:00",
          "2024-06-21T17:00:00",
          "2024-06-21T18:00:00",
          "2024-06-21T19:00:00",
          "2024-06-21T20:00:00",
          "2024-06-22T06:00:00",
          "2024-06-22T07:00:00",
          "2024-06-22T08:00:00",
          "2024-06-22T09:00:00",
          "2024-06-22T10:00:00",
          "2024-06-22T11:00:00",
          "2024-06-22T12:00:00",
          "2024-06-22T13:00:00",
          "2024-06-22T14:00:00",
          "2024-06-22T15:00:00",
          "2024-06-22T16:00:00",
          "2024-06-22T17:00:00",
          "2024-06-22T18:00:00",
          "2024-06-22T19:00:00",
          "2024-06-22T20:00:00",
          "2024-06-23T06:00:00",
          "2024-06-23T07:00:00",
          "2024-06-23T08:00:00",
          "2024-06-23T09:00:00",
          "2024-06-23T10:00:00",
          "2024-06-23T11:00:00",
          "2024-06-23T12:00:00",
          "2024-06-23T13:00:00",
          "2024-06-23T14:00:00",
          "2024-06-23T15:00:00",
          "2024-06-23T16:00:00",
          "2024-06-23T17:00:00",
          "2024-06-23T18:00:00",
          "2024-06-23T19:00:00",
          "2024-06-23T20:00:00",
          "2024-06-24T06:00:00",
          "2024-06-24T07:00:00",
          "2024-06-24T08:00:00",
          "2024-06-24T09:00:00",
          "2024-06-24T10:00:00",
          "2024-06-24T11:00:00",
          "2024-06-24T12:00:00",
          "2024-06-24T13:00:00",
          "2024-06-24T14:00:00",
          "2024-06-24T15:00:00",
          "2024-06-24T16:00:00",
          "2024-06-24T17:00:00",
          "2024-06-24T18:00:00",
          "2024-06-24T19:00:00",
          "2024-06-24T20:00:00",
          "2024-06-25T06:00:00",
          "2024-06-25T07:00:00",
          "2024-06-25T08:00:00",
          "2024-06-25T09:00:00",
          "2024-06-25T10:00:00",
          "2024-06-25T11:00:00",
          "2024-06-25T12:00:00",
          "2024-06-25T13:00:00",
          "2024-06-25T14:00:00",
          "2024-06-25T15:00:00",
          "2024-06-25T16:00:00",
          "2024-06-25T17:00:00",
          "2024-06-25T18:00:00",
          "2024-06-25T19:00:00",
          "2024-06-25T20:00:00",
          "2024-06-26T06:00:00",
          "2024-06-26T07:00:00",
          "2024-06-26T08:00:00",
          "2024-06-26T09:00:00",
          "2024-06-26T10:00:00",
          "2024-06-26T11:00:00",
          "2024-06-26T12:00:00",
          "2024-06-26T13:00:00",
          "2024-06-26T14:00:00",
          "2024-06-26T15:00:00",
          "2024-06-26T16:00:00",
          "2024-06-26T17:00:00",
          "2024-06-26T18:00:00",
          "2024-06-26T19:00:00",
          "2024-06-26T20:00:00",
          "2024-06-27T06:00:00",
          "2024-06-27T07:00:00",
          "2024-06-27T08:00:00",
          "2024-06-27T09:00:00",
          "2024-06-27T10:00:00",
          "2024-06-27T11:00:00",
          "2024-06-27T12:00:00",
          "2024-06-27T13:00:00",
          "2024-06-27T14:00:00",
          "2024-06-27T15:00:00",
          "2024-06-27T16:00:00",
          "2024-06-27T17:00:00",
          "2024-06-27T18:00:00",
          "2024-06-27T19:00:00",
          "2024-06-27T20:00:00",
          "2024-06-28T06:00:00",
          "2024-06-28T07:00:00",
          "2024-06-28T08:00:00",
          "2024-06-28T09:00:00",
          "2024-06-28T10:00:00",
          "2024-06-28T11:00:00",
          "2024-06-28T12:00:00",
          "2024-06-28T13:00:00",
          "2024-06-28T14:00:00",
          "2024-06-28T15:00:00",
          "2024-06-28T16:00:00",
          "2024-06-28T17:00:00",
          "2024-06-28T18:00:00",
          "2024-06-28T19:00:00",
          "2024-06-28T20:00:00",
          "2024-06-29T06:00:00",
          "2024-06-29T07:00:00",
          "2024-06-29T08:00:00",
          "2024-06-29T09:00:00",
          "2024-06-29T10:00:00",
          "2024-06-29T11:00:00",
          "2024-06-29T12:00:00",
          "2024-06-29T13:00:00",
          "2024-06-29T14:00:00",
          "2024-06-29T15:00:00",
          "2024-06-29T16:00:00",
          "2024-06-29T17:00:00",
          "2024-06-29T18:00:00",
          "2024-06-29T19:00:00",
          "2024-06-29T20:00:00",
          "2024-06-30T06:00:00",
          "2024-06-30T07:00:00",
          "2024-06-30T08:00:00",
          "2024-06-30T09:00:00",
          "2024-06-30T10:00:00",
          "2024-06-30T11:00:00",
          "2024-06-30T12:00:00",
          "2024-06-30T13:00:00",
          "2024-06-30T14:00:00",
          "2024-06-30T15:00:00",
          "2024-06-30T16:00:00",
          "2024-06-30T17:00:00",
          "2024-06-30T18:00:00",
          "2024-06-30T19:00:00",
          "2024-06-30T20:00:00"
         ],
         "xaxis": "x",
         "y": [
          16,
          16.666666666666668,
          17.5,
          18,
          17,
          15.500000000000002,
          14.500000000000002,
          16.5,
          19.5,
          19.25,
          22.333333333333332,
          21,
          21.5,
          20.5,
          19,
          13.333333333333334,
          12.5,
          10,
          9.333333333333334,
          10.5,
          3.9999999999999996,
          14.750000000000002,
          4.5,
          9,
          8.666666666666666,
          12,
          15.250000000000002,
          18,
          18,
          18,
          13.750000000000002,
          12.5,
          10,
          7.25,
          4.666666666666668,
          3.9999999999999996,
          2.7499999999999996,
          1.4999999999999996,
          2.9999999999999996,
          4.5,
          10.25,
          12.333333333333334,
          14.500000000000002,
          15.666666666666666,
          21,
          20,
          20.5,
          24.5,
          27.5,
          27.5,
          26.75,
          27,
          20.333333333333332,
          22.5,
          27,
          28,
          28.999999999999996,
          28.666666666666664,
          26.5,
          26.5,
          25,
          24,
          24.5,
          28.142857142857142,
          24.2,
          22.666666666666668,
          23.75,
          22,
          29.285714285714285,
          25,
          26.666666666666668,
          30,
          30,
          27.749999999999996,
          26,
          21.5,
          21.333333333333332,
          23,
          26.25,
          22.444444444444443,
          24.333333333333332,
          24.571428571428573,
          25,
          25.571428571428573,
          26,
          32.5,
          31.33333333333333,
          30,
          29.666666666666664,
          26,
          22,
          22,
          24.5,
          22.666666666666668,
          24.428571428571427,
          26.875,
          26.714285714285715,
          27.5,
          25.625,
          26.875,
          31.625,
          31.666666666666664,
          28.666666666666664,
          27.5,
          26,
          22,
          21.75,
          21.5,
          25.25,
          24.142857142857142,
          25.8,
          26,
          24.6,
          24,
          21.428571428571427,
          27.749999999999996,
          29.5,
          24,
          25,
          27.666666666666668,
          21.333333333333332,
          18,
          11.5,
          9.5,
          4.5,
          5.75,
          6.200000000000001,
          7.666666666666668,
          9.5,
          15.000000000000002,
          13.500000000000002,
          14.666666666666666,
          16,
          16.5,
          16,
          13.500000000000002,
          11.5,
          8.5,
          10,
          6.333333333333334,
          3.4999999999999996,
          6,
          2.3333333333333335,
          4.75,
          3.9999999999999996,
          5.666666666666668,
          7.5,
          10.5,
          10,
          9.875
         ],
         "yaxis": "y"
        },
        {
         "hovertemplate": "variable=ANN_RLS<br>index=%{x}<br>value=%{y}<extra></extra>",
         "legendgroup": "ANN_RLS",
         "line": {
          "color": "#EF553B",
          "dash": "solid"
         },
         "marker": {
          "symbol": "circle"
         },
         "mode": "lines",
         "name": "ANN_RLS",
         "orientation": "v",
         "showlegend": true,
         "type": "scatter",
         "x": [
          "2024-06-21T06:00:00",
          "2024-06-21T07:00:00",
          "2024-06-21T08:00:00",
          "2024-06-21T09:00:00",
          "2024-06-21T10:00:00",
          "2024-06-21T11:00:00",
          "2024-06-21T12:00:00",
          "2024-06-21T13:00:00",
          "2024-06-21T14:00:00",
          "2024-06-21T15:00:00",
          "2024-06-21T16:00:00",
          "2024-06-21T17:00:00",
          "2024-06-21T18:00:00",
          "2024-06-21T19:00:00",
          "2024-06-21T20:00:00",
          "2024-06-22T06:00:00",
          "2024-06-22T07:00:00",
          "2024-06-22T08:00:00",
          "2024-06-22T09:00:00",
          "2024-06-22T10:00:00",
          "2024-06-22T11:00:00",
          "2024-06-22T12:00:00",
          "2024-06-22T13:00:00",
          "2024-06-22T14:00:00",
          "2024-06-22T15:00:00",
          "2024-06-22T16:00:00",
          "2024-06-22T17:00:00",
          "2024-06-22T18:00:00",
          "2024-06-22T19:00:00",
          "2024-06-22T20:00:00",
          "2024-06-23T06:00:00",
          "2024-06-23T07:00:00",
          "2024-06-23T08:00:00",
          "2024-06-23T09:00:00",
          "2024-06-23T10:00:00",
          "2024-06-23T11:00:00",
          "2024-06-23T12:00:00",
          "2024-06-23T13:00:00",
          "2024-06-23T14:00:00",
          "2024-06-23T15:00:00",
          "2024-06-23T16:00:00",
          "2024-06-23T17:00:00",
          "2024-06-23T18:00:00",
          "2024-06-23T19:00:00",
          "2024-06-23T20:00:00",
          "2024-06-24T06:00:00",
          "2024-06-24T07:00:00",
          "2024-06-24T08:00:00",
          "2024-06-24T09:00:00",
          "2024-06-24T10:00:00",
          "2024-06-24T11:00:00",
          "2024-06-24T12:00:00",
          "2024-06-24T13:00:00",
          "2024-06-24T14:00:00",
          "2024-06-24T15:00:00",
          "2024-06-24T16:00:00",
          "2024-06-24T17:00:00",
          "2024-06-24T18:00:00",
          "2024-06-24T19:00:00",
          "2024-06-24T20:00:00",
          "2024-06-25T06:00:00",
          "2024-06-25T07:00:00",
          "2024-06-25T08:00:00",
          "2024-06-25T09:00:00",
          "2024-06-25T10:00:00",
          "2024-06-25T11:00:00",
          "2024-06-25T12:00:00",
          "2024-06-25T13:00:00",
          "2024-06-25T14:00:00",
          "2024-06-25T15:00:00",
          "2024-06-25T16:00:00",
          "2024-06-25T17:00:00",
          "2024-06-25T18:00:00",
          "2024-06-25T19:00:00",
          "2024-06-25T20:00:00",
          "2024-06-26T06:00:00",
          "2024-06-26T07:00:00",
          "2024-06-26T08:00:00",
          "2024-06-26T09:00:00",
          "2024-06-26T10:00:00",
          "2024-06-26T11:00:00",
          "2024-06-26T12:00:00",
          "2024-06-26T13:00:00",
          "2024-06-26T14:00:00",
          "2024-06-26T15:00:00",
          "2024-06-26T16:00:00",
          "2024-06-26T17:00:00",
          "2024-06-26T18:00:00",
          "2024-06-26T19:00:00",
          "2024-06-26T20:00:00",
          "2024-06-27T06:00:00",
          "2024-06-27T07:00:00",
          "2024-06-27T08:00:00",
          "2024-06-27T09:00:00",
          "2024-06-27T10:00:00",
          "2024-06-27T11:00:00",
          "2024-06-27T12:00:00",
          "2024-06-27T13:00:00",
          "2024-06-27T14:00:00",
          "2024-06-27T15:00:00",
          "2024-06-27T16:00:00",
          "2024-06-27T17:00:00",
          "2024-06-27T18:00:00",
          "2024-06-27T19:00:00",
          "2024-06-27T20:00:00",
          "2024-06-28T06:00:00",
          "2024-06-28T07:00:00",
          "2024-06-28T08:00:00",
          "2024-06-28T09:00:00",
          "2024-06-28T10:00:00",
          "2024-06-28T11:00:00",
          "2024-06-28T12:00:00",
          "2024-06-28T13:00:00",
          "2024-06-28T14:00:00",
          "2024-06-28T15:00:00",
          "2024-06-28T16:00:00",
          "2024-06-28T17:00:00",
          "2024-06-28T18:00:00",
          "2024-06-28T19:00:00",
          "2024-06-28T20:00:00",
          "2024-06-29T06:00:00",
          "2024-06-29T07:00:00",
          "2024-06-29T08:00:00",
          "2024-06-29T09:00:00",
          "2024-06-29T10:00:00",
          "2024-06-29T11:00:00",
          "2024-06-29T12:00:00",
          "2024-06-29T13:00:00",
          "2024-06-29T14:00:00",
          "2024-06-29T15:00:00",
          "2024-06-29T16:00:00",
          "2024-06-29T17:00:00",
          "2024-06-29T18:00:00",
          "2024-06-29T19:00:00",
          "2024-06-29T20:00:00",
          "2024-06-30T06:00:00",
          "2024-06-30T07:00:00",
          "2024-06-30T08:00:00",
          "2024-06-30T09:00:00",
          "2024-06-30T10:00:00",
          "2024-06-30T11:00:00",
          "2024-06-30T12:00:00",
          "2024-06-30T13:00:00",
          "2024-06-30T14:00:00",
          "2024-06-30T15:00:00",
          "2024-06-30T16:00:00",
          "2024-06-30T17:00:00",
          "2024-06-30T18:00:00",
          "2024-06-30T19:00:00",
          "2024-06-30T20:00:00"
         ],
         "xaxis": "x",
         "y": [
          15.839064881767642,
          14.658345005218917,
          15.409143513578814,
          18.26734586362788,
          14.904290624204924,
          16.477523127302636,
          21.666456059705666,
          17.327737540757077,
          14.88810107911465,
          12.672018265965795,
          18.37563112578543,
          23.099456488283725,
          21.680296714301864,
          21.185635672051415,
          18.19465299654005,
          14.531159816572936,
          13.094546879766947,
          10.64736235211401,
          8.932603191703452,
          10.196840325198517,
          11.240326839747262,
          11.195173907655096,
          8.783222136731359,
          11.859060069491996,
          11.178215975852837,
          9.97009493598676,
          15.290714570128538,
          17.101474788553958,
          14.88270787484676,
          16.728134350182746,
          13.370184332512626,
          12.221944776284008,
          9.821074497690294,
          4.425959526687205,
          7.51382522979868,
          3.1151693716194004,
          5.885818866725229,
          -0.413987304591231,
          7.462057017697548,
          7.492091585459184,
          10.111545326190148,
          13.291576569300863,
          17.165161565866182,
          16.65823470249901,
          15.90380049499388,
          14.630123055094716,
          16.583255105707558,
          11.674050084303559,
          17.32387302921374,
          15.048491876506295,
          12.945381565806429,
          19.196499356436085,
          13.409102755819857,
          14.608818242522657,
          16.53300299031264,
          21.327105221710074,
          21.654555726883654,
          22.974837329574612,
          18.42230242410285,
          23.899788083753354,
          21.078182085267116,
          23.24866095181484,
          27.60979105035716,
          26.76765638276911,
          25.5269944411303,
          26.50241754661724,
          16.87549673682924,
          13.20870778262381,
          20.350929780782014,
          23.90275608739998,
          28.978965335868182,
          27.826174148644927,
          26.499813019898305,
          25.953485162307633,
          27.992028910354673,
          29.296637721654196,
          28.35562478856119,
          25.86367612810477,
          26.871055891653853,
          23.966805061135304,
          19.105543390036647,
          26.740956970869796,
          22.148732423833753,
          19.011863635507257,
          24.399234978322415,
          26.538036555499744,
          29.418324995759257,
          27.661286435309183,
          25.85898625318378,
          27.972364826154823,
          21.568834517227472,
          22.470817876170287,
          21.29642644173377,
          25.25724429768866,
          22.988130310490906,
          20.12102109520103,
          27.037237888479112,
          21.079891988741874,
          23.675080316911945,
          24.69981065927214,
          24.22405915010149,
          27.722359556723003,
          26.80000592292154,
          30.470888543008044,
          25.80833907857119,
          20.670279372114834,
          22.90540293536919,
          26.669584745316243,
          19.337173572540973,
          22.10471948071974,
          23.74211284170871,
          25.504244223035293,
          25.90872635672121,
          24.55973861314795,
          25.2596230473471,
          28.889966549649824,
          29.535475003776256,
          26.36627777489668,
          27.68497341992827,
          25.749997166591367,
          19.95886208995285,
          18.688539045837846,
          15.855583686878406,
          13.663948919623904,
          12.486438313300674,
          16.952827879015043,
          11.151918553564789,
          14.579048756205841,
          14.19524508141807,
          11.363349448977615,
          15.393979330570671,
          19.994384008292883,
          22.273090592645055,
          19.8879215744107,
          25.0603929805592,
          20.94737338744533,
          17.93451506776854,
          10.725414041654172,
          6.359976252346728,
          8.489421777981674,
          7.5143252005778205,
          13.27452200500799,
          5.726165372461978,
          10.364281243081793,
          9.285595031274454,
          11.650961814179665,
          16.03380128631722,
          17.286727056233975,
          16.27090438771637,
          15.845091120184067
         ],
         "yaxis": "y"
        },
        {
         "hovertemplate": "variable=LSTM_RLS<br>index=%{x}<br>value=%{y}<extra></extra>",
         "legendgroup": "LSTM_RLS",
         "line": {
          "color": "#00cc96",
          "dash": "solid"
         },
         "marker": {
          "symbol": "circle"
         },
         "mode": "lines",
         "name": "LSTM_RLS",
         "orientation": "v",
         "showlegend": true,
         "type": "scatter",
         "x": [
          "2024-06-21T06:00:00",
          "2024-06-21T07:00:00",
          "2024-06-21T08:00:00",
          "2024-06-21T09:00:00",
          "2024-06-21T10:00:00",
          "2024-06-21T11:00:00",
          "2024-06-21T12:00:00",
          "2024-06-21T13:00:00",
          "2024-06-21T14:00:00",
          "2024-06-21T15:00:00",
          "2024-06-21T16:00:00",
          "2024-06-21T17:00:00",
          "2024-06-21T18:00:00",
          "2024-06-21T19:00:00",
          "2024-06-21T20:00:00",
          "2024-06-22T06:00:00",
          "2024-06-22T07:00:00",
          "2024-06-22T08:00:00",
          "2024-06-22T09:00:00",
          "2024-06-22T10:00:00",
          "2024-06-22T11:00:00",
          "2024-06-22T12:00:00",
          "2024-06-22T13:00:00",
          "2024-06-22T14:00:00",
          "2024-06-22T15:00:00",
          "2024-06-22T16:00:00",
          "2024-06-22T17:00:00",
          "2024-06-22T18:00:00",
          "2024-06-22T19:00:00",
          "2024-06-22T20:00:00",
          "2024-06-23T06:00:00",
          "2024-06-23T07:00:00",
          "2024-06-23T08:00:00",
          "2024-06-23T09:00:00",
          "2024-06-23T10:00:00",
          "2024-06-23T11:00:00",
          "2024-06-23T12:00:00",
          "2024-06-23T13:00:00",
          "2024-06-23T14:00:00",
          "2024-06-23T15:00:00",
          "2024-06-23T16:00:00",
          "2024-06-23T17:00:00",
          "2024-06-23T18:00:00",
          "2024-06-23T19:00:00",
          "2024-06-23T20:00:00",
          "2024-06-24T06:00:00",
          "2024-06-24T07:00:00",
          "2024-06-24T08:00:00",
          "2024-06-24T09:00:00",
          "2024-06-24T10:00:00",
          "2024-06-24T11:00:00",
          "2024-06-24T12:00:00",
          "2024-06-24T13:00:00",
          "2024-06-24T14:00:00",
          "2024-06-24T15:00:00",
          "2024-06-24T16:00:00",
          "2024-06-24T17:00:00",
          "2024-06-24T18:00:00",
          "2024-06-24T19:00:00",
          "2024-06-24T20:00:00",
          "2024-06-25T06:00:00",
          "2024-06-25T07:00:00",
          "2024-06-25T08:00:00",
          "2024-06-25T09:00:00",
          "2024-06-25T10:00:00",
          "2024-06-25T11:00:00",
          "2024-06-25T12:00:00",
          "2024-06-25T13:00:00",
          "2024-06-25T14:00:00",
          "2024-06-25T15:00:00",
          "2024-06-25T16:00:00",
          "2024-06-25T17:00:00",
          "2024-06-25T18:00:00",
          "2024-06-25T19:00:00",
          "2024-06-25T20:00:00",
          "2024-06-26T06:00:00",
          "2024-06-26T07:00:00",
          "2024-06-26T08:00:00",
          "2024-06-26T09:00:00",
          "2024-06-26T10:00:00",
          "2024-06-26T11:00:00",
          "2024-06-26T12:00:00",
          "2024-06-26T13:00:00",
          "2024-06-26T14:00:00",
          "2024-06-26T15:00:00",
          "2024-06-26T16:00:00",
          "2024-06-26T17:00:00",
          "2024-06-26T18:00:00",
          "2024-06-26T19:00:00",
          "2024-06-26T20:00:00",
          "2024-06-27T06:00:00",
          "2024-06-27T07:00:00",
          "2024-06-27T08:00:00",
          "2024-06-27T09:00:00",
          "2024-06-27T10:00:00",
          "2024-06-27T11:00:00",
          "2024-06-27T12:00:00",
          "2024-06-27T13:00:00",
          "2024-06-27T14:00:00",
          "2024-06-27T15:00:00",
          "2024-06-27T16:00:00",
          "2024-06-27T17:00:00",
          "2024-06-27T18:00:00",
          "2024-06-27T19:00:00",
          "2024-06-27T20:00:00",
          "2024-06-28T06:00:00",
          "2024-06-28T07:00:00",
          "2024-06-28T08:00:00",
          "2024-06-28T09:00:00",
          "2024-06-28T10:00:00",
          "2024-06-28T11:00:00",
          "2024-06-28T12:00:00",
          "2024-06-28T13:00:00",
          "2024-06-28T14:00:00",
          "2024-06-28T15:00:00",
          "2024-06-28T16:00:00",
          "2024-06-28T17:00:00",
          "2024-06-28T18:00:00",
          "2024-06-28T19:00:00",
          "2024-06-28T20:00:00",
          "2024-06-29T06:00:00",
          "2024-06-29T07:00:00",
          "2024-06-29T08:00:00",
          "2024-06-29T09:00:00",
          "2024-06-29T10:00:00",
          "2024-06-29T11:00:00",
          "2024-06-29T12:00:00",
          "2024-06-29T13:00:00",
          "2024-06-29T14:00:00",
          "2024-06-29T15:00:00",
          "2024-06-29T16:00:00",
          "2024-06-29T17:00:00",
          "2024-06-29T18:00:00",
          "2024-06-29T19:00:00",
          "2024-06-29T20:00:00",
          "2024-06-30T06:00:00",
          "2024-06-30T07:00:00",
          "2024-06-30T08:00:00",
          "2024-06-30T09:00:00",
          "2024-06-30T10:00:00",
          "2024-06-30T11:00:00",
          "2024-06-30T12:00:00",
          "2024-06-30T13:00:00",
          "2024-06-30T14:00:00",
          "2024-06-30T15:00:00",
          "2024-06-30T16:00:00",
          "2024-06-30T17:00:00",
          "2024-06-30T18:00:00",
          "2024-06-30T19:00:00",
          "2024-06-30T20:00:00"
         ],
         "xaxis": "x",
         "y": [
          15.730528694814568,
          15.91293046018235,
          16.480012886261175,
          18.012191001992623,
          16.084060214723024,
          20.309039286316267,
          18.729403805525713,
          17.137905089348827,
          17.384019366158103,
          18.250986967873914,
          20.703863972231325,
          24.28354486438955,
          21.86007369803622,
          20.5623867732097,
          19.731735646356775,
          14.55581989634579,
          13.719177760001992,
          11.88957372361139,
          9.876602755620201,
          11.754188736743595,
          10.462533838635746,
          10.350604794174073,
          9.092932205458254,
          9.662245308392095,
          8.642082353684524,
          11.81460347852793,
          13.765436290537574,
          15.425306649621758,
          16.63394502970063,
          16.336071526826068,
          13.063916497238708,
          12.625201973402783,
          9.36593105558864,
          7.498287241998616,
          7.390049095441661,
          7.026740402345425,
          -2.8421597384005026,
          7.383037563384212,
          6.790167973517743,
          5.999378823645804,
          10.642157549587672,
          12.274138616934794,
          14.266945305934685,
          15.903675033756171,
          15.735367763310771,
          13.742577810111234,
          15.684459163049576,
          16.62554048887419,
          18.012834426660906,
          17.475692273068784,
          18.008925008079135,
          20.978357707676118,
          15.870160171899096,
          15.49106967736161,
          18.088317630937407,
          22.13321787874403,
          23.06294182644539,
          21.7850635559722,
          21.370462198548733,
          26.5563225543052,
          22.612782453818937,
          18.483420103268653,
          23.08136501363779,
          23.548193046025478,
          22.43986086794938,
          20.465123948296625,
          23.520104914585676,
          16.670970862902116,
          18.448827332534822,
          24.190277979229798,
          23.330655527209487,
          27.000914136421592,
          26.294566638089147,
          22.697778161458054,
          26.265076926614736,
          28.591476155441686,
          23.263381650802412,
          22.15711058065764,
          25.00010715220257,
          19.036106444766894,
          21.07972129078232,
          23.559660940730705,
          19.182759023158923,
          20.73542628138272,
          21.88497620673391,
          23.57684171388242,
          27.96608999818264,
          27.375914518536906,
          24.99043476900156,
          25.712280659890883,
          21.349543550219217,
          20.75552903390749,
          21.4150635023565,
          24.201685772482772,
          19.04263585175432,
          21.30483985060078,
          23.689335000344585,
          18.314513127952985,
          22.623172955948686,
          21.226774965457363,
          24.41141388764475,
          27.624209833197895,
          26.78256310506889,
          28.10890805062183,
          24.753761598778393,
          21.23186643166798,
          20.409178322776015,
          22.63334800622354,
          17.685478344293067,
          19.976036291483524,
          21.04403971787463,
          25.144574239104927,
          19.386371440996413,
          23.523090955162328,
          23.885615504119272,
          26.951695928929837,
          27.475498331240612,
          25.81558255916775,
          24.699390399875465,
          24.888466398769843,
          21.36795933424246,
          18.017692895828713,
          13.803178097272225,
          12.831505966762496,
          11.386569582070567,
          10.795455137660552,
          9.264034844545245,
          10.226528114765209,
          10.262674455248321,
          10.030018122408128,
          14.236559164541765,
          15.084185602408242,
          16.255947265491237,
          19.935439168557604,
          24.980176863804246,
          18.590169512572903,
          16.494368434637632,
          11.830337105658865,
          8.614560203742991,
          6.402794303754446,
          6.321087632096429,
          7.103078790899961,
          6.433204183107021,
          7.303704186889107,
          8.111638864542059,
          12.862771385595904,
          15.733882292224463,
          16.07113125160807,
          17.10955834095161,
          17.1214297858215
         ],
         "yaxis": "y"
        },
        {
         "hovertemplate": "variable=Final_RLS<br>index=%{x}<br>value=%{y}<extra></extra>",
         "legendgroup": "Final_RLS",
         "line": {
          "color": "#ab63fa",
          "dash": "solid"
         },
         "marker": {
          "symbol": "circle"
         },
         "mode": "lines",
         "name": "Final_RLS",
         "orientation": "v",
         "showlegend": true,
         "type": "scatter",
         "x": [
          "2024-06-21T06:00:00",
          "2024-06-21T07:00:00",
          "2024-06-21T08:00:00",
          "2024-06-21T09:00:00",
          "2024-06-21T10:00:00",
          "2024-06-21T11:00:00",
          "2024-06-21T12:00:00",
          "2024-06-21T13:00:00",
          "2024-06-21T14:00:00",
          "2024-06-21T15:00:00",
          "2024-06-21T16:00:00",
          "2024-06-21T17:00:00",
          "2024-06-21T18:00:00",
          "2024-06-21T19:00:00",
          "2024-06-21T20:00:00",
          "2024-06-22T06:00:00",
          "2024-06-22T07:00:00",
          "2024-06-22T08:00:00",
          "2024-06-22T09:00:00",
          "2024-06-22T10:00:00",
          "2024-06-22T11:00:00",
          "2024-06-22T12:00:00",
          "2024-06-22T13:00:00",
          "2024-06-22T14:00:00",
          "2024-06-22T15:00:00",
          "2024-06-22T16:00:00",
          "2024-06-22T17:00:00",
          "2024-06-22T18:00:00",
          "2024-06-22T19:00:00",
          "2024-06-22T20:00:00",
          "2024-06-23T06:00:00",
          "2024-06-23T07:00:00",
          "2024-06-23T08:00:00",
          "2024-06-23T09:00:00",
          "2024-06-23T10:00:00",
          "2024-06-23T11:00:00",
          "2024-06-23T12:00:00",
          "2024-06-23T13:00:00",
          "2024-06-23T14:00:00",
          "2024-06-23T15:00:00",
          "2024-06-23T16:00:00",
          "2024-06-23T17:00:00",
          "2024-06-23T18:00:00",
          "2024-06-23T19:00:00",
          "2024-06-23T20:00:00",
          "2024-06-24T06:00:00",
          "2024-06-24T07:00:00",
          "2024-06-24T08:00:00",
          "2024-06-24T09:00:00",
          "2024-06-24T10:00:00",
          "2024-06-24T11:00:00",
          "2024-06-24T12:00:00",
          "2024-06-24T13:00:00",
          "2024-06-24T14:00:00",
          "2024-06-24T15:00:00",
          "2024-06-24T16:00:00",
          "2024-06-24T17:00:00",
          "2024-06-24T18:00:00",
          "2024-06-24T19:00:00",
          "2024-06-24T20:00:00",
          "2024-06-25T06:00:00",
          "2024-06-25T07:00:00",
          "2024-06-25T08:00:00",
          "2024-06-25T09:00:00",
          "2024-06-25T10:00:00",
          "2024-06-25T11:00:00",
          "2024-06-25T12:00:00",
          "2024-06-25T13:00:00",
          "2024-06-25T14:00:00",
          "2024-06-25T15:00:00",
          "2024-06-25T16:00:00",
          "2024-06-25T17:00:00",
          "2024-06-25T18:00:00",
          "2024-06-25T19:00:00",
          "2024-06-25T20:00:00",
          "2024-06-26T06:00:00",
          "2024-06-26T07:00:00",
          "2024-06-26T08:00:00",
          "2024-06-26T09:00:00",
          "2024-06-26T10:00:00",
          "2024-06-26T11:00:00",
          "2024-06-26T12:00:00",
          "2024-06-26T13:00:00",
          "2024-06-26T14:00:00",
          "2024-06-26T15:00:00",
          "2024-06-26T16:00:00",
          "2024-06-26T17:00:00",
          "2024-06-26T18:00:00",
          "2024-06-26T19:00:00",
          "2024-06-26T20:00:00",
          "2024-06-27T06:00:00",
          "2024-06-27T07:00:00",
          "2024-06-27T08:00:00",
          "2024-06-27T09:00:00",
          "2024-06-27T10:00:00",
          "2024-06-27T11:00:00",
          "2024-06-27T12:00:00",
          "2024-06-27T13:00:00",
          "2024-06-27T14:00:00",
          "2024-06-27T15:00:00",
          "2024-06-27T16:00:00",
          "2024-06-27T17:00:00",
          "2024-06-27T18:00:00",
          "2024-06-27T19:00:00",
          "2024-06-27T20:00:00",
          "2024-06-28T06:00:00",
          "2024-06-28T07:00:00",
          "2024-06-28T08:00:00",
          "2024-06-28T09:00:00",
          "2024-06-28T10:00:00",
          "2024-06-28T11:00:00",
          "2024-06-28T12:00:00",
          "2024-06-28T13:00:00",
          "2024-06-28T14:00:00",
          "2024-06-28T15:00:00",
          "2024-06-28T16:00:00",
          "2024-06-28T17:00:00",
          "2024-06-28T18:00:00",
          "2024-06-28T19:00:00",
          "2024-06-28T20:00:00",
          "2024-06-29T06:00:00",
          "2024-06-29T07:00:00",
          "2024-06-29T08:00:00",
          "2024-06-29T09:00:00",
          "2024-06-29T10:00:00",
          "2024-06-29T11:00:00",
          "2024-06-29T12:00:00",
          "2024-06-29T13:00:00",
          "2024-06-29T14:00:00",
          "2024-06-29T15:00:00",
          "2024-06-29T16:00:00",
          "2024-06-29T17:00:00",
          "2024-06-29T18:00:00",
          "2024-06-29T19:00:00",
          "2024-06-29T20:00:00",
          "2024-06-30T06:00:00",
          "2024-06-30T07:00:00",
          "2024-06-30T08:00:00",
          "2024-06-30T09:00:00",
          "2024-06-30T10:00:00",
          "2024-06-30T11:00:00",
          "2024-06-30T12:00:00",
          "2024-06-30T13:00:00",
          "2024-06-30T14:00:00",
          "2024-06-30T15:00:00",
          "2024-06-30T16:00:00",
          "2024-06-30T17:00:00",
          "2024-06-30T18:00:00",
          "2024-06-30T19:00:00",
          "2024-06-30T20:00:00"
         ],
         "xaxis": "x",
         "y": [
          16.20591314259493,
          11.799289480508902,
          17.02037965534645,
          21.75008435537565,
          1.5799807897817533,
          32.07414572769217,
          15.43235278065095,
          17.502052823185338,
          17.384349647191055,
          27.078735967066173,
          10.229782012699214,
          24.25568924069775,
          25.551579331382424,
          21.79300652758772,
          19.82600886548577,
          15.086823857770925,
          12.230702442759029,
          11.553107865835075,
          7.318817629318385,
          1.6650564832151589,
          2.7449555851878666,
          5.893810412288985,
          9.906351022799578,
          4.271736366850403,
          -4.215852746343118,
          8.338240874786909,
          13.799106690547136,
          22.803987652966363,
          21.21722613023097,
          16.17901833909135,
          12.804705844415205,
          11.624218617116602,
          11.887841976786195,
          -2.4690862104395706,
          5.091609808224836,
          15.946828943839312,
          19.060731419734616,
          20.940512800704038,
          4.595658849576738,
          -1.5685375772363335,
          5.1070266709152,
          12.358193240776275,
          21.377066267594966,
          15.47231467048953,
          15.966312971190552,
          12.960771586919448,
          17.26468871233053,
          8.93589863578456,
          17.659365422331263,
          4.370769257469963,
          22.751516820110478,
          6.778978821162299,
          14.735098431700509,
          14.471965104182859,
          13.833212797722338,
          12.343927334118181,
          22.181329348104473,
          24.610845980605905,
          27.533405129249164,
          28.14449340816632,
          26.397555532252934,
          28.30588358555248,
          34.986052503169404,
          34.43292692131109,
          29.403291527307744,
          -6.7938577578403745,
          3.690728774872554,
          16.796788454035763,
          14.306611249001934,
          17.305342884061286,
          7.501028935994714,
          28.394499908665548,
          29.90164685666891,
          18.17213400197585,
          27.554641207473168,
          29.792290672361574,
          32.32871092364037,
          28.120752410725544,
          30.134313643915085,
          29.233189659126214,
          19.685302688182162,
          24.394378592205822,
          18.9563673879155,
          25.407266768587906,
          9.782556284796076,
          20.889878052003976,
          30.002487667160416,
          31.190056142855028,
          26.528635902745993,
          26.60931710011772,
          20.80870008689614,
          21.078371921885108,
          23.024068245015442,
          27.11463013769373,
          24.815965381215875,
          19.195692051427642,
          24.798118271356568,
          20.01159927326239,
          23.05857908769568,
          10.108610774928126,
          23.97104016461055,
          29.40164045344239,
          30.091116980565133,
          28.204588346715685,
          25.473629147349705,
          21.775621879323538,
          22.2487228877119,
          27.62616569957546,
          20.282786942430665,
          21.361543199735053,
          12.407103295705172,
          21.759976926553897,
          23.727648509274776,
          24.546950729124077,
          20.30464651455227,
          28.29344243574337,
          30.34894286138423,
          29.148678699353674,
          23.228949433124484,
          25.68664463153007,
          22.928168541499804,
          16.929413380603023,
          15.814033995825822,
          14.735936813781707,
          11.971905569290813,
          -1.1641751128722477,
          10.778223070571814,
          13.076701953672826,
          5.256329926930887,
          6.958155295815207,
          14.956699220915594,
          18.10366772997722,
          22.391058020106662,
          22.972998485438087,
          26.018186080806494,
          15.630975591069086,
          16.977542820992927,
          11.732197157442736,
          6.121439160766878,
          9.707943370962697,
          3.9110655077505876,
          15.298193055972765,
          7.5035201769950195,
          3.610530470333057,
          5.673099478294532,
          12.898195529483262,
          16.859173189891518,
          17.72132854637627,
          20.538571788065127,
          17.026655640177527
         ],
         "yaxis": "y"
        }
       ],
       "layout": {
        "legend": {
         "title": {
          "text": "variable"
         },
         "tracegroupgap": 0
        },
        "margin": {
         "t": 60
        },
        "template": {
         "data": {
          "bar": [
           {
            "error_x": {
             "color": "#2a3f5f"
            },
            "error_y": {
             "color": "#2a3f5f"
            },
            "marker": {
             "line": {
              "color": "#E5ECF6",
              "width": 0.5
             },
             "pattern": {
              "fillmode": "overlay",
              "size": 10,
              "solidity": 0.2
             }
            },
            "type": "bar"
           }
          ],
          "barpolar": [
           {
            "marker": {
             "line": {
              "color": "#E5ECF6",
              "width": 0.5
             },
             "pattern": {
              "fillmode": "overlay",
              "size": 10,
              "solidity": 0.2
             }
            },
            "type": "barpolar"
           }
          ],
          "carpet": [
           {
            "aaxis": {
             "endlinecolor": "#2a3f5f",
             "gridcolor": "white",
             "linecolor": "white",
             "minorgridcolor": "white",
             "startlinecolor": "#2a3f5f"
            },
            "baxis": {
             "endlinecolor": "#2a3f5f",
             "gridcolor": "white",
             "linecolor": "white",
             "minorgridcolor": "white",
             "startlinecolor": "#2a3f5f"
            },
            "type": "carpet"
           }
          ],
          "choropleth": [
           {
            "colorbar": {
             "outlinewidth": 0,
             "ticks": ""
            },
            "type": "choropleth"
           }
          ],
          "contour": [
           {
            "colorbar": {
             "outlinewidth": 0,
             "ticks": ""
            },
            "colorscale": [
             [
              0,
              "#0d0887"
             ],
             [
              0.1111111111111111,
              "#46039f"
             ],
             [
              0.2222222222222222,
              "#7201a8"
             ],
             [
              0.3333333333333333,
              "#9c179e"
             ],
             [
              0.4444444444444444,
              "#bd3786"
             ],
             [
              0.5555555555555556,
              "#d8576b"
             ],
             [
              0.6666666666666666,
              "#ed7953"
             ],
             [
              0.7777777777777778,
              "#fb9f3a"
             ],
             [
              0.8888888888888888,
              "#fdca26"
             ],
             [
              1,
              "#f0f921"
             ]
            ],
            "type": "contour"
           }
          ],
          "contourcarpet": [
           {
            "colorbar": {
             "outlinewidth": 0,
             "ticks": ""
            },
            "type": "contourcarpet"
           }
          ],
          "heatmap": [
           {
            "colorbar": {
             "outlinewidth": 0,
             "ticks": ""
            },
            "colorscale": [
             [
              0,
              "#0d0887"
             ],
             [
              0.1111111111111111,
              "#46039f"
             ],
             [
              0.2222222222222222,
              "#7201a8"
             ],
             [
              0.3333333333333333,
              "#9c179e"
             ],
             [
              0.4444444444444444,
              "#bd3786"
             ],
             [
              0.5555555555555556,
              "#d8576b"
             ],
             [
              0.6666666666666666,
              "#ed7953"
             ],
             [
              0.7777777777777778,
              "#fb9f3a"
             ],
             [
              0.8888888888888888,
              "#fdca26"
             ],
             [
              1,
              "#f0f921"
             ]
            ],
            "type": "heatmap"
           }
          ],
          "heatmapgl": [
           {
            "colorbar": {
             "outlinewidth": 0,
             "ticks": ""
            },
            "colorscale": [
             [
              0,
              "#0d0887"
             ],
             [
              0.1111111111111111,
              "#46039f"
             ],
             [
              0.2222222222222222,
              "#7201a8"
             ],
             [
              0.3333333333333333,
              "#9c179e"
             ],
             [
              0.4444444444444444,
              "#bd3786"
             ],
             [
              0.5555555555555556,
              "#d8576b"
             ],
             [
              0.6666666666666666,
              "#ed7953"
             ],
             [
              0.7777777777777778,
              "#fb9f3a"
             ],
             [
              0.8888888888888888,
              "#fdca26"
             ],
             [
              1,
              "#f0f921"
             ]
            ],
            "type": "heatmapgl"
           }
          ],
          "histogram": [
           {
            "marker": {
             "pattern": {
              "fillmode": "overlay",
              "size": 10,
              "solidity": 0.2
             }
            },
            "type": "histogram"
           }
          ],
          "histogram2d": [
           {
            "colorbar": {
             "outlinewidth": 0,
             "ticks": ""
            },
            "colorscale": [
             [
              0,
              "#0d0887"
             ],
             [
              0.1111111111111111,
              "#46039f"
             ],
             [
              0.2222222222222222,
              "#7201a8"
             ],
             [
              0.3333333333333333,
              "#9c179e"
             ],
             [
              0.4444444444444444,
              "#bd3786"
             ],
             [
              0.5555555555555556,
              "#d8576b"
             ],
             [
              0.6666666666666666,
              "#ed7953"
             ],
             [
              0.7777777777777778,
              "#fb9f3a"
             ],
             [
              0.8888888888888888,
              "#fdca26"
             ],
             [
              1,
              "#f0f921"
             ]
            ],
            "type": "histogram2d"
           }
          ],
          "histogram2dcontour": [
           {
            "colorbar": {
             "outlinewidth": 0,
             "ticks": ""
            },
            "colorscale": [
             [
              0,
              "#0d0887"
             ],
             [
              0.1111111111111111,
              "#46039f"
             ],
             [
              0.2222222222222222,
              "#7201a8"
             ],
             [
              0.3333333333333333,
              "#9c179e"
             ],
             [
              0.4444444444444444,
              "#bd3786"
             ],
             [
              0.5555555555555556,
              "#d8576b"
             ],
             [
              0.6666666666666666,
              "#ed7953"
             ],
             [
              0.7777777777777778,
              "#fb9f3a"
             ],
             [
              0.8888888888888888,
              "#fdca26"
             ],
             [
              1,
              "#f0f921"
             ]
            ],
            "type": "histogram2dcontour"
           }
          ],
          "mesh3d": [
           {
            "colorbar": {
             "outlinewidth": 0,
             "ticks": ""
            },
            "type": "mesh3d"
           }
          ],
          "parcoords": [
           {
            "line": {
             "colorbar": {
              "outlinewidth": 0,
              "ticks": ""
             }
            },
            "type": "parcoords"
           }
          ],
          "pie": [
           {
            "automargin": true,
            "type": "pie"
           }
          ],
          "scatter": [
           {
            "fillpattern": {
             "fillmode": "overlay",
             "size": 10,
             "solidity": 0.2
            },
            "type": "scatter"
           }
          ],
          "scatter3d": [
           {
            "line": {
             "colorbar": {
              "outlinewidth": 0,
              "ticks": ""
             }
            },
            "marker": {
             "colorbar": {
              "outlinewidth": 0,
              "ticks": ""
             }
            },
            "type": "scatter3d"
           }
          ],
          "scattercarpet": [
           {
            "marker": {
             "colorbar": {
              "outlinewidth": 0,
              "ticks": ""
             }
            },
            "type": "scattercarpet"
           }
          ],
          "scattergeo": [
           {
            "marker": {
             "colorbar": {
              "outlinewidth": 0,
              "ticks": ""
             }
            },
            "type": "scattergeo"
           }
          ],
          "scattergl": [
           {
            "marker": {
             "colorbar": {
              "outlinewidth": 0,
              "ticks": ""
             }
            },
            "type": "scattergl"
           }
          ],
          "scattermapbox": [
           {
            "marker": {
             "colorbar": {
              "outlinewidth": 0,
              "ticks": ""
             }
            },
            "type": "scattermapbox"
           }
          ],
          "scatterpolar": [
           {
            "marker": {
             "colorbar": {
              "outlinewidth": 0,
              "ticks": ""
             }
            },
            "type": "scatterpolar"
           }
          ],
          "scatterpolargl": [
           {
            "marker": {
             "colorbar": {
              "outlinewidth": 0,
              "ticks": ""
             }
            },
            "type": "scatterpolargl"
           }
          ],
          "scatterternary": [
           {
            "marker": {
             "colorbar": {
              "outlinewidth": 0,
              "ticks": ""
             }
            },
            "type": "scatterternary"
           }
          ],
          "surface": [
           {
            "colorbar": {
             "outlinewidth": 0,
             "ticks": ""
            },
            "colorscale": [
             [
              0,
              "#0d0887"
             ],
             [
              0.1111111111111111,
              "#46039f"
             ],
             [
              0.2222222222222222,
              "#7201a8"
             ],
             [
              0.3333333333333333,
              "#9c179e"
             ],
             [
              0.4444444444444444,
              "#bd3786"
             ],
             [
              0.5555555555555556,
              "#d8576b"
             ],
             [
              0.6666666666666666,
              "#ed7953"
             ],
             [
              0.7777777777777778,
              "#fb9f3a"
             ],
             [
              0.8888888888888888,
              "#fdca26"
             ],
             [
              1,
              "#f0f921"
             ]
            ],
            "type": "surface"
           }
          ],
          "table": [
           {
            "cells": {
             "fill": {
              "color": "#EBF0F8"
             },
             "line": {
              "color": "white"
             }
            },
            "header": {
             "fill": {
              "color": "#C8D4E3"
             },
             "line": {
              "color": "white"
             }
            },
            "type": "table"
           }
          ]
         },
         "layout": {
          "annotationdefaults": {
           "arrowcolor": "#2a3f5f",
           "arrowhead": 0,
           "arrowwidth": 1
          },
          "autotypenumbers": "strict",
          "coloraxis": {
           "colorbar": {
            "outlinewidth": 0,
            "ticks": ""
           }
          },
          "colorscale": {
           "diverging": [
            [
             0,
             "#8e0152"
            ],
            [
             0.1,
             "#c51b7d"
            ],
            [
             0.2,
             "#de77ae"
            ],
            [
             0.3,
             "#f1b6da"
            ],
            [
             0.4,
             "#fde0ef"
            ],
            [
             0.5,
             "#f7f7f7"
            ],
            [
             0.6,
             "#e6f5d0"
            ],
            [
             0.7,
             "#b8e186"
            ],
            [
             0.8,
             "#7fbc41"
            ],
            [
             0.9,
             "#4d9221"
            ],
            [
             1,
             "#276419"
            ]
           ],
           "sequential": [
            [
             0,
             "#0d0887"
            ],
            [
             0.1111111111111111,
             "#46039f"
            ],
            [
             0.2222222222222222,
             "#7201a8"
            ],
            [
             0.3333333333333333,
             "#9c179e"
            ],
            [
             0.4444444444444444,
             "#bd3786"
            ],
            [
             0.5555555555555556,
             "#d8576b"
            ],
            [
             0.6666666666666666,
             "#ed7953"
            ],
            [
             0.7777777777777778,
             "#fb9f3a"
            ],
            [
             0.8888888888888888,
             "#fdca26"
            ],
            [
             1,
             "#f0f921"
            ]
           ],
           "sequentialminus": [
            [
             0,
             "#0d0887"
            ],
            [
             0.1111111111111111,
             "#46039f"
            ],
            [
             0.2222222222222222,
             "#7201a8"
            ],
            [
             0.3333333333333333,
             "#9c179e"
            ],
            [
             0.4444444444444444,
             "#bd3786"
            ],
            [
             0.5555555555555556,
             "#d8576b"
            ],
            [
             0.6666666666666666,
             "#ed7953"
            ],
            [
             0.7777777777777778,
             "#fb9f3a"
            ],
            [
             0.8888888888888888,
             "#fdca26"
            ],
            [
             1,
             "#f0f921"
            ]
           ]
          },
          "colorway": [
           "#636efa",
           "#EF553B",
           "#00cc96",
           "#ab63fa",
           "#FFA15A",
           "#19d3f3",
           "#FF6692",
           "#B6E880",
           "#FF97FF",
           "#FECB52"
          ],
          "font": {
           "color": "#2a3f5f"
          },
          "geo": {
           "bgcolor": "white",
           "lakecolor": "white",
           "landcolor": "#E5ECF6",
           "showlakes": true,
           "showland": true,
           "subunitcolor": "white"
          },
          "hoverlabel": {
           "align": "left"
          },
          "hovermode": "closest",
          "mapbox": {
           "style": "light"
          },
          "paper_bgcolor": "white",
          "plot_bgcolor": "#E5ECF6",
          "polar": {
           "angularaxis": {
            "gridcolor": "white",
            "linecolor": "white",
            "ticks": ""
           },
           "bgcolor": "#E5ECF6",
           "radialaxis": {
            "gridcolor": "white",
            "linecolor": "white",
            "ticks": ""
           }
          },
          "scene": {
           "xaxis": {
            "backgroundcolor": "#E5ECF6",
            "gridcolor": "white",
            "gridwidth": 2,
            "linecolor": "white",
            "showbackground": true,
            "ticks": "",
            "zerolinecolor": "white"
           },
           "yaxis": {
            "backgroundcolor": "#E5ECF6",
            "gridcolor": "white",
            "gridwidth": 2,
            "linecolor": "white",
            "showbackground": true,
            "ticks": "",
            "zerolinecolor": "white"
           },
           "zaxis": {
            "backgroundcolor": "#E5ECF6",
            "gridcolor": "white",
            "gridwidth": 2,
            "linecolor": "white",
            "showbackground": true,
            "ticks": "",
            "zerolinecolor": "white"
           }
          },
          "shapedefaults": {
           "line": {
            "color": "#2a3f5f"
           }
          },
          "ternary": {
           "aaxis": {
            "gridcolor": "white",
            "linecolor": "white",
            "ticks": ""
           },
           "baxis": {
            "gridcolor": "white",
            "linecolor": "white",
            "ticks": ""
           },
           "bgcolor": "#E5ECF6",
           "caxis": {
            "gridcolor": "white",
            "linecolor": "white",
            "ticks": ""
           }
          },
          "title": {
           "x": 0.05
          },
          "xaxis": {
           "automargin": true,
           "gridcolor": "white",
           "linecolor": "white",
           "ticks": "",
           "title": {
            "standoff": 15
           },
           "zerolinecolor": "white",
           "zerolinewidth": 2
          },
          "yaxis": {
           "automargin": true,
           "gridcolor": "white",
           "linecolor": "white",
           "ticks": "",
           "title": {
            "standoff": 15
           },
           "zerolinecolor": "white",
           "zerolinewidth": 2
          }
         }
        },
        "xaxis": {
         "anchor": "y",
         "domain": [
          0,
          1
         ],
         "title": {
          "text": "index"
         }
        },
        "yaxis": {
         "anchor": "x",
         "domain": [
          0,
          1
         ],
         "title": {
          "text": "value"
         }
        }
       }
      }
     },
     "metadata": {},
     "output_type": "display_data"
    }
   ],
   "source": [
    "feeders_metadata = pd.read_csv(feeders_metadata_path)\n",
    "weather_utils = WeatherUtils()\n",
    "\n",
    "for i in range(feeders_metadata.shape[0] - 8):\n",
    "    feeder_metadata = feeders_metadata.iloc[i]\n",
    "    feeder_name = feeder_metadata['FeederName']\n",
    "    feeder_data_filename = feeder_metadata['FileName']\n",
    "    feeder_filesave_name = feeder_metadata['FileSaveName']\n",
    "    feeder_data_path = feeders_root_path + feeder_data_filename\n",
    "    ann_save_path = f\"{saved_models_path}/ANN_Saved_Models/{feeder_filesave_name}_ANN_Model.keras\"\n",
    "    lstm_save_path = f\"{saved_models_path}/LSTM_Saved_Models/{feeder_filesave_name}_LSTM_Model.keras\"\n",
    "    rls_combiner_save_path = f\"{saved_models_path}/RLS_Combiner_Saved_Models/{feeder_filesave_name}_RLS_Combiner.pkl\"\n",
    "    feeder_data = get_raw_data_from_path(feeder_data_path)\n",
    "    net_load_demand = preprocess_raw_data(feeder_data, \"NetLoadDemand\")\n",
    "    latitude = feeder_metadata['Latitude']\n",
    "    longitude = feeder_metadata['Longitude']\n",
    "    \n",
    "    \n",
    "    print(\"========================================\")\n",
    "    print(feeder_name)\n",
    "    print(\"========================================\")\n",
    "    \n",
    "    historic_weather_data = weather_utils.fetch_historic_data_from_api(latitude, longitude, start_val_date, end_val_date)\n",
    "    forecast_weather_data = weather_utils.fetch_forecast_data_from_api(latitude, longitude, start_val_date, end_val_date)\n",
    "    \n",
    "    temperature_historic = historic_weather_data[\"temperature_2m_historic\"]\n",
    "    temperature_forecast = forecast_weather_data[\"temperature_2m_forecast\"]\n",
    "    shortwave_radiation_historic = historic_weather_data[\"shortwave_radiation_historic\"]\n",
    "    shortwave_radiation_forecast = forecast_weather_data[\"shortwave_radiation_forecast\"]\n",
    "    \n",
    "    \n",
    "    combined_data = pd.concat([net_load_demand, temperature_historic, temperature_forecast, shortwave_radiation_historic, shortwave_radiation_forecast], axis=1).dropna()\n",
    "    combined_data = combined_data.loc[start_val_date:end_val]\n",
    "    combined_data_daytime = combined_data.between_time('06:00', '20:00')\n",
    "    \n",
    "    train_stats = get_train_stats(train_stats_path, feeder_filesave_name)\n",
    "    print(train_stats)\n",
    "    \n",
    "    normalized_data = minmax_scale(combined_data_daytime, train_stats['Min'], train_stats['Max'])\n",
    "    print(normalized_data.describe())\n",
    "    \n",
    "    denormalized_data = minmax_inverse_scale(normalized_data, train_stats['Min'], train_stats['Max'])\n",
    "    # print(denormalized_data.describe())\n",
    "    \n",
    "    dates_index = get_unique_dates_from_hourly_data(normalized_data)\n",
    "    day_of_week = get_one_hot_day_of_week(dates_index)\n",
    "    day_of_week = add_is_holiday_column_to_one_hot_day_of_week(day_of_week, barbados_holidays_df)\n",
    "    \n",
    "    X_val, X_val_LSTM, y_val_bl, y_val_cl, cur_dates_val, prev_dates_val = create_X_y(normalized_data, target_column, hours_in_day, day_of_week)\n",
    "    \n",
    "    trained_ann_model_bl = get_trained_model(saved_models_path, \"ANN_BL\", feeder_filesave_name)\n",
    "    trained_ann_model_cl = get_trained_model(saved_models_path, \"ANN_CL\", feeder_filesave_name)\n",
    "    trained_lstm_model_bl = get_trained_model(saved_models_path, \"LSTM_BL\", feeder_filesave_name)\n",
    "    trained_lstm_model_cl = get_trained_model(saved_models_path, \"LSTM_CL\", feeder_filesave_name)\n",
    "    \n",
    "    \n",
    "    y_pred_val_bl = predict_model(trained_ann_model_bl, X_val)\n",
    "    y_pred_val_cl = predict_model(trained_ann_model_cl, X_val)\n",
    "    y_pred_val_bl_LSTM = predict_model(trained_lstm_model_bl, X_val_LSTM)\n",
    "    y_pred_val_cl_LSTM = predict_model(trained_lstm_model_cl, X_val_LSTM)\n",
    "    \n",
    "    y_pred_val_bl_cl = convert_cl_to_bl(y_pred_val_cl, y_val_bl, X_val)\n",
    "    y_pred_val_bl_cl_LSTM = convert_cl_to_bl(y_pred_val_cl_LSTM, y_val_bl, X_val)\n",
    "    \n",
    "    print(X_val.shape, X_val_LSTM.shape, y_val_bl.shape, y_val_cl.shape, cur_dates_val.shape, prev_dates_val.shape)\n",
    "    print(y_pred_val_bl.shape, y_pred_val_cl.shape, y_pred_val_bl_LSTM.shape, y_pred_val_cl_LSTM.shape)\n",
    "    \n",
    "    y_pred_ann_rls, rls_combiner_ann = adapt_and_predict_rls_combiner(y_val_bl, y_pred_val_bl, y_pred_val_bl_cl, hours_in_day)\n",
    "    y_pred_lstm_rls, rls_combiner_lstm = adapt_and_predict_rls_combiner(y_val_bl, y_pred_val_bl_LSTM, y_pred_val_bl_cl_LSTM, hours_in_day)\n",
    "    y_pred_final_rls, rls_combiner_final = adapt_and_predict_rls_combiner(y_val_bl, y_pred_ann_rls, y_pred_lstm_rls, hours_in_day)\n",
    "    \n",
    "    final_results = pd.DataFrame([y_val_bl.flatten(), y_pred_ann_rls.flatten(), y_pred_lstm_rls.flatten(), y_pred_final_rls.flatten()]).T\n",
    "    final_results.columns = [\"Actual\", \"ANN_RLS\", \"LSTM_RLS\", \"Final_RLS\"]\n",
    "    final_results.index = cur_dates_val.flatten()\n",
    "    final_results = final_results.apply(lambda x: minmax_inverse_scale(x, train_stats.loc[target_column, 'Min'], train_stats.loc[target_column, 'Max']))\n",
    "    \n",
    "    px.line(final_results.loc['2024-06-21':]).show()\n",
    "\n",
    "\n",
    "# arch_hall_feeder_data_path = feeders_root_path + \"Arch_Hall_ST2B13.csv\"\n",
    "# arch_hall_feeder_data = get_raw_data_from_path(arch_hall_feeder_data_path)\n",
    "# arch_hall_feeder_data = add_extra_hour_in_beginning(arch_hall_feeder_data)\n",
    "# arch_hall_net_load_demand = preprocess_raw_data(arch_hall_feeder_data, \"NetLoadDemand\")\n",
    "# arch_hall_net_load_demand"
   ]
  },
  {
   "cell_type": "code",
   "execution_count": null,
   "metadata": {},
   "outputs": [],
   "source": []
  },
  {
   "cell_type": "code",
   "execution_count": 9,
   "metadata": {},
   "outputs": [
    {
     "data": {
      "application/vnd.microsoft.datawrangler.viewer.v0+json": {
       "columns": [
        {
         "name": "index",
         "rawType": "int64",
         "type": "integer"
        },
        {
         "name": "0",
         "rawType": "float64",
         "type": "float"
        },
        {
         "name": "1",
         "rawType": "float64",
         "type": "float"
        },
        {
         "name": "2",
         "rawType": "float64",
         "type": "float"
        }
       ],
       "conversionMethod": "pd.DataFrame",
       "ref": "4506ddc4-b376-4e5f-9280-67abac99c35a",
       "rows": [
        [
         "0",
         "0.6145374449339207",
         "0.5524526238441467",
         "0.6001883745193481"
        ],
        [
         "1",
         "0.5980176211453745",
         "0.7350332140922546",
         "0.6139239072799683"
        ],
        [
         "2",
         "0.6640969162995595",
         "0.7575657367706299",
         "0.6430490016937256"
        ],
        [
         "3",
         "0.7549559471365639",
         "0.6990880966186523",
         "0.6309260725975037"
        ],
        [
         "4",
         "0.7466960352422908",
         "0.6646273136138916",
         "0.6153955459594727"
        ],
        [
         "5",
         "0.8375550660792951",
         "0.6355769634246826",
         "0.5869380831718445"
        ],
        [
         "6",
         "0.8953744493392071",
         "0.6008857488632202",
         "0.603793203830719"
        ],
        [
         "7",
         "0.6723568281938326",
         "0.5667577981948853",
         "0.6078545451164246"
        ],
        [
         "8",
         "0.7136563876651982",
         "0.6238104701042175",
         "0.6223689913749695"
        ],
        [
         "9",
         "0.8045154185022027",
         "0.7283496856689453",
         "0.6908555030822754"
        ],
        [
         "10",
         "0.8953744493392071",
         "0.8243008255958557",
         "0.7642579078674316"
        ],
        [
         "11",
         "0.9118942731277533",
         "0.8400564789772034",
         "0.7930595278739929"
        ],
        [
         "12",
         "0.829295154185022",
         "0.8215537071228027",
         "0.7909488081932068"
        ],
        [
         "13",
         "0.763215859030837",
         "0.7157531380653381",
         "0.7527140378952026"
        ],
        [
         "14",
         "0.7136563876651982",
         "0.7727974057197571",
         "0.680720329284668"
        ],
        [
         "15",
         "0.5980176211453745",
         "0.6193796992301941",
         "0.6175400018692017"
        ],
        [
         "16",
         "0.6640969162995595",
         "0.62725830078125",
         "0.6123526096343994"
        ],
        [
         "17",
         "0.6475770925110133",
         "0.6741777062416077",
         "0.6183241009712219"
        ],
        [
         "18",
         "0.6888766519823788",
         "0.6806660890579224",
         "0.6400310397148132"
        ],
        [
         "19",
         "0.5649779735682819",
         "0.5903332829475403",
         "0.5594215989112854"
        ],
        [
         "20",
         "0.6888766519823788",
         "0.6510711908340454",
         "0.5453978180885315"
        ],
        [
         "21",
         "0.6343612334801763",
         "0.618262767791748",
         "0.567849338054657"
        ],
        [
         "22",
         "0.6013215859030836",
         "0.7057489156723022",
         "0.5956666469573975"
        ],
        [
         "23",
         "0.6310572687224669",
         "0.6760379076004028",
         "0.6178241968154907"
        ],
        [
         "24",
         "0.6723568281938326",
         "0.7718281745910645",
         "0.7026505470275879"
        ],
        [
         "25",
         "0.7301762114537445",
         "0.8444992899894714",
         "0.7480649352073669"
        ],
        [
         "26",
         "0.8348017621145375",
         "0.8360704779624939",
         "0.79610675573349"
        ],
        [
         "27",
         "0.8237885462555066",
         "0.8577009439468384",
         "0.7808120846748352"
        ],
        [
         "28",
         "0.7577092511013215",
         "0.8148820996284485",
         "0.7521303296089172"
        ],
        [
         "29",
         "0.724669603524229",
         "0.6907352209091187",
         "0.6993774771690369"
        ],
        [
         "30",
         "0.6035242290748898",
         "0.6142011284828186",
         "0.6160310506820679"
        ],
        [
         "31",
         "0.5980176211453745",
         "0.6637123227119446",
         "0.6129453182220459"
        ],
        [
         "32",
         "0.6310572687224669",
         "0.6593446731567383",
         "0.6351054906845093"
        ],
        [
         "33",
         "0.6145374449339207",
         "0.7137985229492188",
         "0.6547210216522217"
        ],
        [
         "34",
         "0.5814977973568282",
         "0.6618986129760742",
         "0.6151392459869385"
        ],
        [
         "35",
         "0.6145374449339207",
         "0.6297131776809692",
         "0.5868732333183289"
        ],
        [
         "36",
         "0.6872246696035242",
         "0.6528432369232178",
         "0.6058828830718994"
        ],
        [
         "37",
         "0.6145374449339207",
         "0.6117038726806641",
         "0.6190062761306763"
        ],
        [
         "38",
         "0.592511013215859",
         "0.6901702284812927",
         "0.6471573710441589"
        ],
        [
         "39",
         "0.6365638766519824",
         "0.7410339117050171",
         "0.7222110629081726"
        ],
        [
         "40",
         "0.724669603524229",
         "0.7606610655784607",
         "0.75080806016922"
        ],
        [
         "41",
         "0.9036343612334802",
         "0.839104413986206",
         "0.8020089864730835"
        ],
        [
         "42",
         "0.8348017621145375",
         "0.8033999800682068",
         "0.7793514132499695"
        ],
        [
         "43",
         "0.7962555066079295",
         "0.7883713245391846",
         "0.7515945434570312"
        ],
        [
         "44",
         "0.7301762114537445",
         "0.7529764771461487",
         "0.6934421062469482"
        ],
        [
         "45",
         "0.6145374449339207",
         "0.6363314986228943",
         "0.6115210056304932"
        ],
        [
         "46",
         "0.6365638766519824",
         "0.5585273504257202",
         "0.5995273590087891"
        ],
        [
         "47",
         "0.6640969162995595",
         "0.6385128498077393",
         "0.6141735911369324"
        ],
        [
         "48",
         "0.6806167400881057",
         "0.6536237001419067",
         "0.6327943205833435"
        ],
        [
         "49",
         "0.6475770925110133",
         "0.5920329093933105",
         "0.595092236995697"
        ]
       ],
       "shape": {
        "columns": 3,
        "rows": 195
       }
      },
      "text/html": [
       "<div>\n",
       "<style scoped>\n",
       "    .dataframe tbody tr th:only-of-type {\n",
       "        vertical-align: middle;\n",
       "    }\n",
       "\n",
       "    .dataframe tbody tr th {\n",
       "        vertical-align: top;\n",
       "    }\n",
       "\n",
       "    .dataframe thead th {\n",
       "        text-align: right;\n",
       "    }\n",
       "</style>\n",
       "<table border=\"1\" class=\"dataframe\">\n",
       "  <thead>\n",
       "    <tr style=\"text-align: right;\">\n",
       "      <th></th>\n",
       "      <th>0</th>\n",
       "      <th>1</th>\n",
       "      <th>2</th>\n",
       "    </tr>\n",
       "  </thead>\n",
       "  <tbody>\n",
       "    <tr>\n",
       "      <th>0</th>\n",
       "      <td>0.61</td>\n",
       "      <td>0.55</td>\n",
       "      <td>0.60</td>\n",
       "    </tr>\n",
       "    <tr>\n",
       "      <th>1</th>\n",
       "      <td>0.60</td>\n",
       "      <td>0.74</td>\n",
       "      <td>0.61</td>\n",
       "    </tr>\n",
       "    <tr>\n",
       "      <th>2</th>\n",
       "      <td>0.66</td>\n",
       "      <td>0.76</td>\n",
       "      <td>0.64</td>\n",
       "    </tr>\n",
       "    <tr>\n",
       "      <th>3</th>\n",
       "      <td>0.75</td>\n",
       "      <td>0.70</td>\n",
       "      <td>0.63</td>\n",
       "    </tr>\n",
       "    <tr>\n",
       "      <th>4</th>\n",
       "      <td>0.75</td>\n",
       "      <td>0.66</td>\n",
       "      <td>0.62</td>\n",
       "    </tr>\n",
       "    <tr>\n",
       "      <th>...</th>\n",
       "      <td>...</td>\n",
       "      <td>...</td>\n",
       "      <td>...</td>\n",
       "    </tr>\n",
       "    <tr>\n",
       "      <th>190</th>\n",
       "      <td>0.27</td>\n",
       "      <td>0.43</td>\n",
       "      <td>0.41</td>\n",
       "    </tr>\n",
       "    <tr>\n",
       "      <th>191</th>\n",
       "      <td>0.33</td>\n",
       "      <td>0.57</td>\n",
       "      <td>0.49</td>\n",
       "    </tr>\n",
       "    <tr>\n",
       "      <th>192</th>\n",
       "      <td>0.43</td>\n",
       "      <td>0.60</td>\n",
       "      <td>0.55</td>\n",
       "    </tr>\n",
       "    <tr>\n",
       "      <th>193</th>\n",
       "      <td>0.42</td>\n",
       "      <td>0.61</td>\n",
       "      <td>0.60</td>\n",
       "    </tr>\n",
       "    <tr>\n",
       "      <th>194</th>\n",
       "      <td>0.41</td>\n",
       "      <td>0.68</td>\n",
       "      <td>0.59</td>\n",
       "    </tr>\n",
       "  </tbody>\n",
       "</table>\n",
       "<p>195 rows × 3 columns</p>\n",
       "</div>"
      ],
      "text/plain": [
       "       0    1    2\n",
       "0   0.61 0.55 0.60\n",
       "1   0.60 0.74 0.61\n",
       "2   0.66 0.76 0.64\n",
       "3   0.75 0.70 0.63\n",
       "4   0.75 0.66 0.62\n",
       "..   ...  ...  ...\n",
       "190 0.27 0.43 0.41\n",
       "191 0.33 0.57 0.49\n",
       "192 0.43 0.60 0.55\n",
       "193 0.42 0.61 0.60\n",
       "194 0.41 0.68 0.59\n",
       "\n",
       "[195 rows x 3 columns]"
      ]
     },
     "execution_count": 9,
     "metadata": {},
     "output_type": "execute_result"
    }
   ],
   "source": [
    "pd.DataFrame([y_val_bl.flatten(), y_pred_val_bl.flatten(), y_pred_val_bl_LSTM.flatten()]).T"
   ]
  }
 ],
 "metadata": {
  "kernelspec": {
   "display_name": "Barbados",
   "language": "python",
   "name": "python3"
  },
  "language_info": {
   "codemirror_mode": {
    "name": "ipython",
    "version": 3
   },
   "file_extension": ".py",
   "mimetype": "text/x-python",
   "name": "python",
   "nbconvert_exporter": "python",
   "pygments_lexer": "ipython3",
   "version": "3.10.13"
  }
 },
 "nbformat": 4,
 "nbformat_minor": 2
}
